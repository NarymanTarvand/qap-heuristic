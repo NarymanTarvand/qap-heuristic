{
 "cells": [
  {
   "cell_type": "code",
   "execution_count": 1,
   "metadata": {},
   "outputs": [],
   "source": [
    "import pandas as pd\n",
    "import numpy as np\n",
    "\n",
    "from sklearn.preprocessing import StandardScaler\n",
    "from sklearn.decomposition import PCA\n",
    "from sklearn.cluster import KMeans, DBSCAN\n",
    "from instance_space_analysis.feature_computations import get_instance_features\n",
    "\n",
    "\n",
    "from sklearn.inspection import permutation_importance"
   ]
  },
  {
   "cell_type": "code",
   "execution_count": 35,
   "metadata": {},
   "outputs": [
    {
     "data": {
      "text/html": [
       "<div>\n",
       "<style scoped>\n",
       "    .dataframe tbody tr th:only-of-type {\n",
       "        vertical-align: middle;\n",
       "    }\n",
       "\n",
       "    .dataframe tbody tr th {\n",
       "        vertical-align: top;\n",
       "    }\n",
       "\n",
       "    .dataframe thead th {\n",
       "        text-align: right;\n",
       "    }\n",
       "</style>\n",
       "<table border=\"1\" class=\"dataframe\">\n",
       "  <thead>\n",
       "    <tr style=\"text-align: right;\">\n",
       "      <th></th>\n",
       "      <th>problem_size</th>\n",
       "      <th>flow_sparsity</th>\n",
       "      <th>distance_sparsity</th>\n",
       "      <th>flow_asymmetry</th>\n",
       "      <th>distance_asymmetry</th>\n",
       "      <th>flow_dominance</th>\n",
       "      <th>distance_dominance</th>\n",
       "      <th>flow_max</th>\n",
       "      <th>distance_max</th>\n",
       "      <th>flow_min</th>\n",
       "      <th>distance_min</th>\n",
       "      <th>flow_mean</th>\n",
       "      <th>distance_mean</th>\n",
       "      <th>best_algo</th>\n",
       "    </tr>\n",
       "  </thead>\n",
       "  <tbody>\n",
       "    <tr>\n",
       "      <th>tai256c</th>\n",
       "      <td>5.954700</td>\n",
       "      <td>9.186069</td>\n",
       "      <td>-0.595513</td>\n",
       "      <td>0.39905</td>\n",
       "      <td>0.428339</td>\n",
       "      <td>0.707893</td>\n",
       "      <td>0.934446</td>\n",
       "      <td>-0.312484</td>\n",
       "      <td>5.073131</td>\n",
       "      <td>-0.274350</td>\n",
       "      <td>3.323562</td>\n",
       "      <td>-0.247417</td>\n",
       "      <td>2.607582</td>\n",
       "      <td>10_multistart_total_swap_optimal_neighbour_obj...</td>\n",
       "    </tr>\n",
       "    <tr>\n",
       "      <th>nug16b</th>\n",
       "      <td>-0.687821</td>\n",
       "      <td>-0.285651</td>\n",
       "      <td>-0.280453</td>\n",
       "      <td>0.39905</td>\n",
       "      <td>0.428339</td>\n",
       "      <td>-0.438630</td>\n",
       "      <td>-0.078131</td>\n",
       "      <td>-0.307507</td>\n",
       "      <td>-0.303716</td>\n",
       "      <td>-0.267333</td>\n",
       "      <td>-0.208219</td>\n",
       "      <td>-0.240930</td>\n",
       "      <td>-0.122438</td>\n",
       "      <td>grasp_local_search</td>\n",
       "    </tr>\n",
       "    <tr>\n",
       "      <th>tai35b</th>\n",
       "      <td>-0.161955</td>\n",
       "      <td>-0.285651</td>\n",
       "      <td>0.688731</td>\n",
       "      <td>0.39905</td>\n",
       "      <td>-2.025594</td>\n",
       "      <td>-0.305154</td>\n",
       "      <td>1.841030</td>\n",
       "      <td>0.742713</td>\n",
       "      <td>0.866027</td>\n",
       "      <td>0.888181</td>\n",
       "      <td>0.367406</td>\n",
       "      <td>1.607858</td>\n",
       "      <td>-0.124651</td>\n",
       "      <td>grasp_local_search</td>\n",
       "    </tr>\n",
       "    <tr>\n",
       "      <th>chr22a</th>\n",
       "      <td>-0.521758</td>\n",
       "      <td>0.529100</td>\n",
       "      <td>-0.595513</td>\n",
       "      <td>0.39905</td>\n",
       "      <td>0.428339</td>\n",
       "      <td>1.608492</td>\n",
       "      <td>-0.560231</td>\n",
       "      <td>-0.263706</td>\n",
       "      <td>-0.299360</td>\n",
       "      <td>-0.271149</td>\n",
       "      <td>-0.195523</td>\n",
       "      <td>-0.247417</td>\n",
       "      <td>-0.102523</td>\n",
       "      <td>elshafei_constructive_greedy_local_search_obje...</td>\n",
       "    </tr>\n",
       "    <tr>\n",
       "      <th>esc16h</th>\n",
       "      <td>-0.687821</td>\n",
       "      <td>-0.258977</td>\n",
       "      <td>-0.315460</td>\n",
       "      <td>0.39905</td>\n",
       "      <td>0.428339</td>\n",
       "      <td>0.099192</td>\n",
       "      <td>-0.384595</td>\n",
       "      <td>-0.292575</td>\n",
       "      <td>-0.304092</td>\n",
       "      <td>-0.260349</td>\n",
       "      <td>-0.209032</td>\n",
       "      <td>-0.244174</td>\n",
       "      <td>-0.123544</td>\n",
       "      <td>grasp_local_search</td>\n",
       "    </tr>\n",
       "  </tbody>\n",
       "</table>\n",
       "</div>"
      ],
      "text/plain": [
       "         problem_size  flow_sparsity  distance_sparsity  flow_asymmetry   \n",
       "tai256c      5.954700       9.186069          -0.595513         0.39905  \\\n",
       "nug16b      -0.687821      -0.285651          -0.280453         0.39905   \n",
       "tai35b      -0.161955      -0.285651           0.688731         0.39905   \n",
       "chr22a      -0.521758       0.529100          -0.595513         0.39905   \n",
       "esc16h      -0.687821      -0.258977          -0.315460         0.39905   \n",
       "\n",
       "         distance_asymmetry  flow_dominance  distance_dominance  flow_max   \n",
       "tai256c            0.428339        0.707893            0.934446 -0.312484  \\\n",
       "nug16b             0.428339       -0.438630           -0.078131 -0.307507   \n",
       "tai35b            -2.025594       -0.305154            1.841030  0.742713   \n",
       "chr22a             0.428339        1.608492           -0.560231 -0.263706   \n",
       "esc16h             0.428339        0.099192           -0.384595 -0.292575   \n",
       "\n",
       "         distance_max  flow_min  distance_min  flow_mean  distance_mean   \n",
       "tai256c      5.073131 -0.274350      3.323562  -0.247417       2.607582  \\\n",
       "nug16b      -0.303716 -0.267333     -0.208219  -0.240930      -0.122438   \n",
       "tai35b       0.866027  0.888181      0.367406   1.607858      -0.124651   \n",
       "chr22a      -0.299360 -0.271149     -0.195523  -0.247417      -0.102523   \n",
       "esc16h      -0.304092 -0.260349     -0.209032  -0.244174      -0.123544   \n",
       "\n",
       "                                                 best_algo  \n",
       "tai256c  10_multistart_total_swap_optimal_neighbour_obj...  \n",
       "nug16b                                  grasp_local_search  \n",
       "tai35b                                  grasp_local_search  \n",
       "chr22a   elshafei_constructive_greedy_local_search_obje...  \n",
       "esc16h                                  grasp_local_search  "
      ]
     },
     "execution_count": 35,
     "metadata": {},
     "output_type": "execute_result"
    }
   ],
   "source": [
    "data = pd.read_csv(\"data/heuristic_performance_final_scratch.csv\")\n",
    "data.set_index(\"instance\", inplace=True)\n",
    "\n",
    "instance_features = get_instance_features(data, 'data/qapdata/')\n",
    "\n",
    "scaler = StandardScaler()\n",
    "instance_features[instance_features.columns] = scaler.fit_transform(instance_features[instance_features.columns])\n",
    "\n",
    "algorithms = [\n",
    "    'grasp_local_search', \n",
    "    'grasp_simulated_annealing', \n",
    "    'genetic_algorithm',\n",
    "    '10_multistart_total_swap_optimal_neighbour_objective',\n",
    "    '10_multistart_adjacent_swap_optimal_neighbour_objective',\n",
    "    '10_multistart_adjacent_swap_first_improvement_objective',\n",
    "    '10_multistart_total_swap_first_improvement_objective',\n",
    "    'constructive_greedy_local_search_objective',\n",
    "    'elshafei_constructive_greedy_local_search_objective',\n",
    "]\n",
    "\n",
    "restricted_df = data[algorithms]\n",
    "restricted_df = restricted_df.drop_duplicates(keep='first')\n",
    "\n",
    "best_algos_df = pd.DataFrame()\n",
    "\n",
    "best_algos_df['performance'] = restricted_df.min(axis=1)\n",
    "best_algos_df['best_algo'] = restricted_df.idxmin(axis=1)\n",
    "\n",
    "instance_features['best_algo'] = restricted_df.idxmin(axis=1).astype('category')\n",
    "instance_features.dropna(inplace=True)\n",
    "\n",
    "instance_features.head()"
   ]
  },
  {
   "cell_type": "code",
   "execution_count": 36,
   "metadata": {},
   "outputs": [
    {
     "data": {
      "application/vnd.plotly.v1+json": {
       "config": {
        "plotlyServerURL": "https://plot.ly"
       },
       "data": [
        {
         "alignmentgroup": "True",
         "hovertemplate": "best_algo=10_multistart_total_swap_optimal_neighbour_objective<br>performance=%{y}<extra></extra>",
         "legendgroup": "10_multistart_total_swap_optimal_neighbour_objective",
         "marker": {
          "color": "#636efa"
         },
         "name": "10_multistart_total_swap_optimal_neighbour_objective",
         "notched": false,
         "offsetgroup": "10_multistart_total_swap_optimal_neighbour_objective",
         "orientation": "v",
         "showlegend": true,
         "type": "box",
         "x0": " ",
         "xaxis": "x",
         "y": [
          0.002623723,
          0.01242236,
          0.029731602,
          0.17047889,
          0.021449905,
          0.15256734,
          0.008747901,
          0.015671252,
          0.020783198,
          0.02617468,
          0.010698149,
          0.014711576,
          0.016011534,
          0.0000348,
          0.019927261,
          0.008788689,
          0.010776174,
          0.023690137,
          0.000378308,
          0.011651775,
          0.025245419,
          0.028152139,
          0.35765804,
          0.201914708,
          0.032814217,
          0.024899002,
          0.001375633,
          0.007693675
         ],
         "y0": " ",
         "yaxis": "y"
        },
        {
         "alignmentgroup": "True",
         "hovertemplate": "best_algo=grasp_local_search<br>performance=%{y}<extra></extra>",
         "legendgroup": "grasp_local_search",
         "marker": {
          "color": "#EF553B"
         },
         "name": "grasp_local_search",
         "notched": false,
         "offsetgroup": "grasp_local_search",
         "orientation": "v",
         "showlegend": true,
         "type": "box",
         "x0": " ",
         "xaxis": "x",
         "y": [
          0.009677419,
          0.005118429,
          0,
          0.189944134,
          0.190058072,
          0,
          0.014440489,
          0.039392961,
          0,
          0.009724149,
          0.010100916,
          0,
          0,
          0.194017785,
          0.019161857,
          0,
          0.08135169,
          0.023999851,
          0.031369452,
          0,
          0.031296666,
          0.029388583,
          0.038107203,
          0.018672666,
          0.01384083,
          0,
          0.017047493,
          0.045356759,
          0.006406481,
          0.007715659,
          0,
          0.012857425,
          0.198566867,
          0,
          0,
          0.00173913,
          0,
          0.150106323,
          0.003944773,
          0.015022012,
          0.118018967,
          0,
          0.000373274,
          0.021678391,
          0,
          0.001154734,
          0.049338652,
          0.00017784,
          0.0122815,
          0,
          0.011887454,
          0.014134801,
          0.0000885,
          0.000115017,
          0.074690891,
          0.009081197,
          0.0320649,
          0,
          0.035658043,
          0.016580311,
          0.024820379,
          0.019495413,
          0,
          0.033315977,
          0,
          0.010375996,
          0.004842615,
          0.013229572,
          0.001640689,
          0.007168012,
          0.012175662,
          0.001736841,
          0.032370338,
          0,
          0.013031465,
          0,
          0,
          0.010440431,
          0,
          0,
          0,
          0.22080292,
          0.004137988,
          0.011277102,
          0,
          0,
          0.033787866,
          0.006944088,
          0,
          0,
          0,
          0.003971342,
          0
         ],
         "y0": " ",
         "yaxis": "y"
        },
        {
         "alignmentgroup": "True",
         "hovertemplate": "best_algo=elshafei_constructive_greedy_local_search_objective<br>performance=%{y}<extra></extra>",
         "legendgroup": "elshafei_constructive_greedy_local_search_objective",
         "marker": {
          "color": "#00cc96"
         },
         "name": "elshafei_constructive_greedy_local_search_objective",
         "notched": false,
         "offsetgroup": "elshafei_constructive_greedy_local_search_objective",
         "orientation": "v",
         "showlegend": true,
         "type": "box",
         "x0": " ",
         "xaxis": "x",
         "y": [
          0.033788174,
          0.016972607
         ],
         "y0": " ",
         "yaxis": "y"
        },
        {
         "alignmentgroup": "True",
         "hovertemplate": "best_algo=constructive_greedy_local_search_objective<br>performance=%{y}<extra></extra>",
         "legendgroup": "constructive_greedy_local_search_objective",
         "marker": {
          "color": "#ab63fa"
         },
         "name": "constructive_greedy_local_search_objective",
         "notched": false,
         "offsetgroup": "constructive_greedy_local_search_objective",
         "orientation": "v",
         "showlegend": true,
         "type": "box",
         "x0": " ",
         "xaxis": "x",
         "y": [
          0.013063606,
          0.011724349,
          0,
          0.036605434,
          0.211735709
         ],
         "y0": " ",
         "yaxis": "y"
        }
       ],
       "layout": {
        "boxmode": "group",
        "legend": {
         "title": {
          "text": "best_algo"
         },
         "tracegroupgap": 0
        },
        "margin": {
         "t": 60
        },
        "template": {
         "data": {
          "bar": [
           {
            "error_x": {
             "color": "#2a3f5f"
            },
            "error_y": {
             "color": "#2a3f5f"
            },
            "marker": {
             "line": {
              "color": "#E5ECF6",
              "width": 0.5
             },
             "pattern": {
              "fillmode": "overlay",
              "size": 10,
              "solidity": 0.2
             }
            },
            "type": "bar"
           }
          ],
          "barpolar": [
           {
            "marker": {
             "line": {
              "color": "#E5ECF6",
              "width": 0.5
             },
             "pattern": {
              "fillmode": "overlay",
              "size": 10,
              "solidity": 0.2
             }
            },
            "type": "barpolar"
           }
          ],
          "carpet": [
           {
            "aaxis": {
             "endlinecolor": "#2a3f5f",
             "gridcolor": "white",
             "linecolor": "white",
             "minorgridcolor": "white",
             "startlinecolor": "#2a3f5f"
            },
            "baxis": {
             "endlinecolor": "#2a3f5f",
             "gridcolor": "white",
             "linecolor": "white",
             "minorgridcolor": "white",
             "startlinecolor": "#2a3f5f"
            },
            "type": "carpet"
           }
          ],
          "choropleth": [
           {
            "colorbar": {
             "outlinewidth": 0,
             "ticks": ""
            },
            "type": "choropleth"
           }
          ],
          "contour": [
           {
            "colorbar": {
             "outlinewidth": 0,
             "ticks": ""
            },
            "colorscale": [
             [
              0,
              "#0d0887"
             ],
             [
              0.1111111111111111,
              "#46039f"
             ],
             [
              0.2222222222222222,
              "#7201a8"
             ],
             [
              0.3333333333333333,
              "#9c179e"
             ],
             [
              0.4444444444444444,
              "#bd3786"
             ],
             [
              0.5555555555555556,
              "#d8576b"
             ],
             [
              0.6666666666666666,
              "#ed7953"
             ],
             [
              0.7777777777777778,
              "#fb9f3a"
             ],
             [
              0.8888888888888888,
              "#fdca26"
             ],
             [
              1,
              "#f0f921"
             ]
            ],
            "type": "contour"
           }
          ],
          "contourcarpet": [
           {
            "colorbar": {
             "outlinewidth": 0,
             "ticks": ""
            },
            "type": "contourcarpet"
           }
          ],
          "heatmap": [
           {
            "colorbar": {
             "outlinewidth": 0,
             "ticks": ""
            },
            "colorscale": [
             [
              0,
              "#0d0887"
             ],
             [
              0.1111111111111111,
              "#46039f"
             ],
             [
              0.2222222222222222,
              "#7201a8"
             ],
             [
              0.3333333333333333,
              "#9c179e"
             ],
             [
              0.4444444444444444,
              "#bd3786"
             ],
             [
              0.5555555555555556,
              "#d8576b"
             ],
             [
              0.6666666666666666,
              "#ed7953"
             ],
             [
              0.7777777777777778,
              "#fb9f3a"
             ],
             [
              0.8888888888888888,
              "#fdca26"
             ],
             [
              1,
              "#f0f921"
             ]
            ],
            "type": "heatmap"
           }
          ],
          "heatmapgl": [
           {
            "colorbar": {
             "outlinewidth": 0,
             "ticks": ""
            },
            "colorscale": [
             [
              0,
              "#0d0887"
             ],
             [
              0.1111111111111111,
              "#46039f"
             ],
             [
              0.2222222222222222,
              "#7201a8"
             ],
             [
              0.3333333333333333,
              "#9c179e"
             ],
             [
              0.4444444444444444,
              "#bd3786"
             ],
             [
              0.5555555555555556,
              "#d8576b"
             ],
             [
              0.6666666666666666,
              "#ed7953"
             ],
             [
              0.7777777777777778,
              "#fb9f3a"
             ],
             [
              0.8888888888888888,
              "#fdca26"
             ],
             [
              1,
              "#f0f921"
             ]
            ],
            "type": "heatmapgl"
           }
          ],
          "histogram": [
           {
            "marker": {
             "pattern": {
              "fillmode": "overlay",
              "size": 10,
              "solidity": 0.2
             }
            },
            "type": "histogram"
           }
          ],
          "histogram2d": [
           {
            "colorbar": {
             "outlinewidth": 0,
             "ticks": ""
            },
            "colorscale": [
             [
              0,
              "#0d0887"
             ],
             [
              0.1111111111111111,
              "#46039f"
             ],
             [
              0.2222222222222222,
              "#7201a8"
             ],
             [
              0.3333333333333333,
              "#9c179e"
             ],
             [
              0.4444444444444444,
              "#bd3786"
             ],
             [
              0.5555555555555556,
              "#d8576b"
             ],
             [
              0.6666666666666666,
              "#ed7953"
             ],
             [
              0.7777777777777778,
              "#fb9f3a"
             ],
             [
              0.8888888888888888,
              "#fdca26"
             ],
             [
              1,
              "#f0f921"
             ]
            ],
            "type": "histogram2d"
           }
          ],
          "histogram2dcontour": [
           {
            "colorbar": {
             "outlinewidth": 0,
             "ticks": ""
            },
            "colorscale": [
             [
              0,
              "#0d0887"
             ],
             [
              0.1111111111111111,
              "#46039f"
             ],
             [
              0.2222222222222222,
              "#7201a8"
             ],
             [
              0.3333333333333333,
              "#9c179e"
             ],
             [
              0.4444444444444444,
              "#bd3786"
             ],
             [
              0.5555555555555556,
              "#d8576b"
             ],
             [
              0.6666666666666666,
              "#ed7953"
             ],
             [
              0.7777777777777778,
              "#fb9f3a"
             ],
             [
              0.8888888888888888,
              "#fdca26"
             ],
             [
              1,
              "#f0f921"
             ]
            ],
            "type": "histogram2dcontour"
           }
          ],
          "mesh3d": [
           {
            "colorbar": {
             "outlinewidth": 0,
             "ticks": ""
            },
            "type": "mesh3d"
           }
          ],
          "parcoords": [
           {
            "line": {
             "colorbar": {
              "outlinewidth": 0,
              "ticks": ""
             }
            },
            "type": "parcoords"
           }
          ],
          "pie": [
           {
            "automargin": true,
            "type": "pie"
           }
          ],
          "scatter": [
           {
            "fillpattern": {
             "fillmode": "overlay",
             "size": 10,
             "solidity": 0.2
            },
            "type": "scatter"
           }
          ],
          "scatter3d": [
           {
            "line": {
             "colorbar": {
              "outlinewidth": 0,
              "ticks": ""
             }
            },
            "marker": {
             "colorbar": {
              "outlinewidth": 0,
              "ticks": ""
             }
            },
            "type": "scatter3d"
           }
          ],
          "scattercarpet": [
           {
            "marker": {
             "colorbar": {
              "outlinewidth": 0,
              "ticks": ""
             }
            },
            "type": "scattercarpet"
           }
          ],
          "scattergeo": [
           {
            "marker": {
             "colorbar": {
              "outlinewidth": 0,
              "ticks": ""
             }
            },
            "type": "scattergeo"
           }
          ],
          "scattergl": [
           {
            "marker": {
             "colorbar": {
              "outlinewidth": 0,
              "ticks": ""
             }
            },
            "type": "scattergl"
           }
          ],
          "scattermapbox": [
           {
            "marker": {
             "colorbar": {
              "outlinewidth": 0,
              "ticks": ""
             }
            },
            "type": "scattermapbox"
           }
          ],
          "scatterpolar": [
           {
            "marker": {
             "colorbar": {
              "outlinewidth": 0,
              "ticks": ""
             }
            },
            "type": "scatterpolar"
           }
          ],
          "scatterpolargl": [
           {
            "marker": {
             "colorbar": {
              "outlinewidth": 0,
              "ticks": ""
             }
            },
            "type": "scatterpolargl"
           }
          ],
          "scatterternary": [
           {
            "marker": {
             "colorbar": {
              "outlinewidth": 0,
              "ticks": ""
             }
            },
            "type": "scatterternary"
           }
          ],
          "surface": [
           {
            "colorbar": {
             "outlinewidth": 0,
             "ticks": ""
            },
            "colorscale": [
             [
              0,
              "#0d0887"
             ],
             [
              0.1111111111111111,
              "#46039f"
             ],
             [
              0.2222222222222222,
              "#7201a8"
             ],
             [
              0.3333333333333333,
              "#9c179e"
             ],
             [
              0.4444444444444444,
              "#bd3786"
             ],
             [
              0.5555555555555556,
              "#d8576b"
             ],
             [
              0.6666666666666666,
              "#ed7953"
             ],
             [
              0.7777777777777778,
              "#fb9f3a"
             ],
             [
              0.8888888888888888,
              "#fdca26"
             ],
             [
              1,
              "#f0f921"
             ]
            ],
            "type": "surface"
           }
          ],
          "table": [
           {
            "cells": {
             "fill": {
              "color": "#EBF0F8"
             },
             "line": {
              "color": "white"
             }
            },
            "header": {
             "fill": {
              "color": "#C8D4E3"
             },
             "line": {
              "color": "white"
             }
            },
            "type": "table"
           }
          ]
         },
         "layout": {
          "annotationdefaults": {
           "arrowcolor": "#2a3f5f",
           "arrowhead": 0,
           "arrowwidth": 1
          },
          "autotypenumbers": "strict",
          "coloraxis": {
           "colorbar": {
            "outlinewidth": 0,
            "ticks": ""
           }
          },
          "colorscale": {
           "diverging": [
            [
             0,
             "#8e0152"
            ],
            [
             0.1,
             "#c51b7d"
            ],
            [
             0.2,
             "#de77ae"
            ],
            [
             0.3,
             "#f1b6da"
            ],
            [
             0.4,
             "#fde0ef"
            ],
            [
             0.5,
             "#f7f7f7"
            ],
            [
             0.6,
             "#e6f5d0"
            ],
            [
             0.7,
             "#b8e186"
            ],
            [
             0.8,
             "#7fbc41"
            ],
            [
             0.9,
             "#4d9221"
            ],
            [
             1,
             "#276419"
            ]
           ],
           "sequential": [
            [
             0,
             "#0d0887"
            ],
            [
             0.1111111111111111,
             "#46039f"
            ],
            [
             0.2222222222222222,
             "#7201a8"
            ],
            [
             0.3333333333333333,
             "#9c179e"
            ],
            [
             0.4444444444444444,
             "#bd3786"
            ],
            [
             0.5555555555555556,
             "#d8576b"
            ],
            [
             0.6666666666666666,
             "#ed7953"
            ],
            [
             0.7777777777777778,
             "#fb9f3a"
            ],
            [
             0.8888888888888888,
             "#fdca26"
            ],
            [
             1,
             "#f0f921"
            ]
           ],
           "sequentialminus": [
            [
             0,
             "#0d0887"
            ],
            [
             0.1111111111111111,
             "#46039f"
            ],
            [
             0.2222222222222222,
             "#7201a8"
            ],
            [
             0.3333333333333333,
             "#9c179e"
            ],
            [
             0.4444444444444444,
             "#bd3786"
            ],
            [
             0.5555555555555556,
             "#d8576b"
            ],
            [
             0.6666666666666666,
             "#ed7953"
            ],
            [
             0.7777777777777778,
             "#fb9f3a"
            ],
            [
             0.8888888888888888,
             "#fdca26"
            ],
            [
             1,
             "#f0f921"
            ]
           ]
          },
          "colorway": [
           "#636efa",
           "#EF553B",
           "#00cc96",
           "#ab63fa",
           "#FFA15A",
           "#19d3f3",
           "#FF6692",
           "#B6E880",
           "#FF97FF",
           "#FECB52"
          ],
          "font": {
           "color": "#2a3f5f"
          },
          "geo": {
           "bgcolor": "white",
           "lakecolor": "white",
           "landcolor": "#E5ECF6",
           "showlakes": true,
           "showland": true,
           "subunitcolor": "white"
          },
          "hoverlabel": {
           "align": "left"
          },
          "hovermode": "closest",
          "mapbox": {
           "style": "light"
          },
          "paper_bgcolor": "white",
          "plot_bgcolor": "#E5ECF6",
          "polar": {
           "angularaxis": {
            "gridcolor": "white",
            "linecolor": "white",
            "ticks": ""
           },
           "bgcolor": "#E5ECF6",
           "radialaxis": {
            "gridcolor": "white",
            "linecolor": "white",
            "ticks": ""
           }
          },
          "scene": {
           "xaxis": {
            "backgroundcolor": "#E5ECF6",
            "gridcolor": "white",
            "gridwidth": 2,
            "linecolor": "white",
            "showbackground": true,
            "ticks": "",
            "zerolinecolor": "white"
           },
           "yaxis": {
            "backgroundcolor": "#E5ECF6",
            "gridcolor": "white",
            "gridwidth": 2,
            "linecolor": "white",
            "showbackground": true,
            "ticks": "",
            "zerolinecolor": "white"
           },
           "zaxis": {
            "backgroundcolor": "#E5ECF6",
            "gridcolor": "white",
            "gridwidth": 2,
            "linecolor": "white",
            "showbackground": true,
            "ticks": "",
            "zerolinecolor": "white"
           }
          },
          "shapedefaults": {
           "line": {
            "color": "#2a3f5f"
           }
          },
          "ternary": {
           "aaxis": {
            "gridcolor": "white",
            "linecolor": "white",
            "ticks": ""
           },
           "baxis": {
            "gridcolor": "white",
            "linecolor": "white",
            "ticks": ""
           },
           "bgcolor": "#E5ECF6",
           "caxis": {
            "gridcolor": "white",
            "linecolor": "white",
            "ticks": ""
           }
          },
          "title": {
           "x": 0.05
          },
          "xaxis": {
           "automargin": true,
           "gridcolor": "white",
           "linecolor": "white",
           "ticks": "",
           "title": {
            "standoff": 15
           },
           "zerolinecolor": "white",
           "zerolinewidth": 2
          },
          "yaxis": {
           "automargin": true,
           "gridcolor": "white",
           "linecolor": "white",
           "ticks": "",
           "title": {
            "standoff": 15
           },
           "zerolinecolor": "white",
           "zerolinewidth": 2
          }
         }
        },
        "xaxis": {
         "anchor": "y",
         "domain": [
          0,
          1
         ]
        },
        "yaxis": {
         "anchor": "x",
         "domain": [
          0,
          1
         ],
         "title": {
          "text": "performance"
         }
        }
       }
      }
     },
     "metadata": {},
     "output_type": "display_data"
    }
   ],
   "source": [
    "import plotly.express as px\n",
    "px.box(best_algos_df, y=\"performance\", color=\"best_algo\")"
   ]
  },
  {
   "cell_type": "code",
   "execution_count": 27,
   "metadata": {},
   "outputs": [
    {
     "name": "stderr",
     "output_type": "stream",
     "text": [
      "/var/folders/_9/703v72h927n214c13w1zxyr40000gn/T/ipykernel_70773/1996671004.py:11: SettingWithCopyWarning:\n",
      "\n",
      "\n",
      "A value is trying to be set on a copy of a slice from a DataFrame.\n",
      "Try using .loc[row_indexer,col_indexer] = value instead\n",
      "\n",
      "See the caveats in the documentation: https://pandas.pydata.org/pandas-docs/stable/user_guide/indexing.html#returning-a-view-versus-a-copy\n",
      "\n",
      "/var/folders/_9/703v72h927n214c13w1zxyr40000gn/T/ipykernel_70773/1996671004.py:12: SettingWithCopyWarning:\n",
      "\n",
      "\n",
      "A value is trying to be set on a copy of a slice from a DataFrame.\n",
      "Try using .loc[row_indexer,col_indexer] = value instead\n",
      "\n",
      "See the caveats in the documentation: https://pandas.pydata.org/pandas-docs/stable/user_guide/indexing.html#returning-a-view-versus-a-copy\n",
      "\n"
     ]
    }
   ],
   "source": [
    "from sklearn.model_selection import train_test_split\n",
    "from sklearn.linear_model import LogisticRegression\n",
    "from sklearn.preprocessing import StandardScaler\n",
    "\n",
    "\n",
    "train, test = train_test_split(instance_features, test_size=0.2, random_state=42)\n",
    "x_train, y_train = train.loc[:,train.columns != 'best_algo'], train['best_algo']\n",
    "x_test, y_test = test.loc[:,test.columns != 'best_algo'], test['best_algo']\n",
    "\n",
    "scaler = StandardScaler().fit(x_train[x_train.columns])\n",
    "x_train[x_train.columns] = scaler.transform(x_train[x_train.columns])\n",
    "x_test[x_test.columns] = scaler.transform(x_test[x_test.columns])"
   ]
  },
  {
   "cell_type": "code",
   "execution_count": 28,
   "metadata": {},
   "outputs": [
    {
     "data": {
      "text/plain": [
       "{'10_multistart_total_swap_optimal_neighbour_objective': 3,\n",
       " 'grasp_local_search': 0,\n",
       " 'constructive_greedy_local_search_objective': 1,\n",
       " 'elshafei_constructive_greedy_local_search_objective': 2}"
      ]
     },
     "execution_count": 28,
     "metadata": {},
     "output_type": "execute_result"
    }
   ],
   "source": [
    "train_mapping = dict(zip(y_train, y_train.cat.codes))\n",
    "train_mapping['grasp_local_search'] = 0\n",
    "train_mapping['10_multistart_total_swap_optimal_neighbour_objective'] = 3\n",
    "train_mapping\n"
   ]
  },
  {
   "cell_type": "code",
   "execution_count": 29,
   "metadata": {},
   "outputs": [],
   "source": [
    "logistic_model = LogisticRegression().fit(x_train,y_train.map(train_mapping))\n",
    "\n",
    "y_pred = logistic_model.predict(x_test)"
   ]
  },
  {
   "cell_type": "code",
   "execution_count": 30,
   "metadata": {},
   "outputs": [
    {
     "name": "stdout",
     "output_type": "stream",
     "text": [
      "average prediction accuracy of 0.6153846153846154\n"
     ]
    }
   ],
   "source": [
    "print(f\"average prediction accuracy of {np.mean(y_test.map(train_mapping).values == y_pred)}\")"
   ]
  },
  {
   "cell_type": "code",
   "execution_count": 31,
   "metadata": {},
   "outputs": [
    {
     "data": {
      "text/plain": [
       "Index(['flow_sparsity', 'flow_dominance', 'flow_max', 'flow_min', 'flow_mean'], dtype='object')"
      ]
     },
     "execution_count": 31,
     "metadata": {},
     "output_type": "execute_result"
    }
   ],
   "source": [
    "x_train.columns[[1, 5, 7, 9, 11]]"
   ]
  },
  {
   "cell_type": "code",
   "execution_count": 32,
   "metadata": {},
   "outputs": [
    {
     "name": "stdout",
     "output_type": "stream",
     "text": [
      "Optimization terminated successfully.\n",
      "         Current function value: 1.104232\n",
      "         Iterations 8\n"
     ]
    },
    {
     "data": {
      "text/html": [
       "<table class=\"simpletable\">\n",
       "<caption>MNLogit Regression Results</caption>\n",
       "<tr>\n",
       "  <th>Dep. Variable:</th>           <td>y</td>        <th>  No. Observations:  </th>  <td>   102</td> \n",
       "</tr>\n",
       "<tr>\n",
       "  <th>Model:</th>                <td>MNLogit</td>     <th>  Df Residuals:      </th>  <td>    63</td> \n",
       "</tr>\n",
       "<tr>\n",
       "  <th>Method:</th>                 <td>MLE</td>       <th>  Df Model:          </th>  <td>    36</td> \n",
       "</tr>\n",
       "<tr>\n",
       "  <th>Date:</th>            <td>Sun, 08 Oct 2023</td> <th>  Pseudo R-squ.:     </th>  <td>-0.5530</td>\n",
       "</tr>\n",
       "<tr>\n",
       "  <th>Time:</th>                <td>11:48:32</td>     <th>  Log-Likelihood:    </th> <td> -112.63</td>\n",
       "</tr>\n",
       "<tr>\n",
       "  <th>converged:</th>             <td>True</td>       <th>  LL-Null:           </th> <td> -72.523</td>\n",
       "</tr>\n",
       "<tr>\n",
       "  <th>Covariance Type:</th>     <td>nonrobust</td>    <th>  LLR p-value:       </th>  <td> 1.000</td> \n",
       "</tr>\n",
       "</table>\n",
       "<table class=\"simpletable\">\n",
       "<tr>\n",
       "  <th>y=1</th>    <th>coef</th>     <th>std err</th>      <th>z</th>      <th>P>|z|</th>  <th>[0.025</th>    <th>0.975]</th>  \n",
       "</tr>\n",
       "<tr>\n",
       "  <th>x1</th>  <td>    1.2693</td> <td>    0.773</td> <td>    1.641</td> <td> 0.101</td> <td>   -0.247</td> <td>    2.785</td>\n",
       "</tr>\n",
       "<tr>\n",
       "  <th>x2</th>  <td>    4.1683</td> <td>    2.146</td> <td>    1.942</td> <td> 0.052</td> <td>   -0.039</td> <td>    8.375</td>\n",
       "</tr>\n",
       "<tr>\n",
       "  <th>x3</th>  <td>   -1.1320</td> <td>    0.902</td> <td>   -1.255</td> <td> 0.210</td> <td>   -2.900</td> <td>    0.636</td>\n",
       "</tr>\n",
       "<tr>\n",
       "  <th>x4</th>  <td>   -0.0454</td> <td>    0.360</td> <td>   -0.126</td> <td> 0.900</td> <td>   -0.752</td> <td>    0.661</td>\n",
       "</tr>\n",
       "<tr>\n",
       "  <th>x5</th>  <td>    0.2583</td> <td>    0.891</td> <td>    0.290</td> <td> 0.772</td> <td>   -1.487</td> <td>    2.004</td>\n",
       "</tr>\n",
       "<tr>\n",
       "  <th>x6</th>  <td>   -1.6238</td> <td>    0.990</td> <td>   -1.641</td> <td> 0.101</td> <td>   -3.563</td> <td>    0.316</td>\n",
       "</tr>\n",
       "<tr>\n",
       "  <th>x7</th>  <td>   -0.0157</td> <td>    1.390</td> <td>   -0.011</td> <td> 0.991</td> <td>   -2.741</td> <td>    2.710</td>\n",
       "</tr>\n",
       "<tr>\n",
       "  <th>x8</th>  <td>   -1.9018</td> <td>    1.018</td> <td>   -1.867</td> <td> 0.062</td> <td>   -3.898</td> <td>    0.094</td>\n",
       "</tr>\n",
       "<tr>\n",
       "  <th>x9</th>  <td>    0.6431</td> <td>    1.801</td> <td>    0.357</td> <td> 0.721</td> <td>   -2.887</td> <td>    4.173</td>\n",
       "</tr>\n",
       "<tr>\n",
       "  <th>x10</th> <td>    8.5602</td> <td>    3.755</td> <td>    2.280</td> <td> 0.023</td> <td>    1.200</td> <td>   15.920</td>\n",
       "</tr>\n",
       "<tr>\n",
       "  <th>x11</th> <td>   -2.9238</td> <td>    3.977</td> <td>   -0.735</td> <td> 0.462</td> <td>  -10.719</td> <td>    4.871</td>\n",
       "</tr>\n",
       "<tr>\n",
       "  <th>x12</th> <td>   -5.1331</td> <td>    2.577</td> <td>   -1.992</td> <td> 0.046</td> <td>  -10.184</td> <td>   -0.082</td>\n",
       "</tr>\n",
       "<tr>\n",
       "  <th>x13</th> <td>    1.6642</td> <td>    3.113</td> <td>    0.535</td> <td> 0.593</td> <td>   -4.437</td> <td>    7.765</td>\n",
       "</tr>\n",
       "<tr>\n",
       "  <th>y=2</th>    <th>coef</th>     <th>std err</th>      <th>z</th>      <th>P>|z|</th>  <th>[0.025</th>    <th>0.975]</th>  \n",
       "</tr>\n",
       "<tr>\n",
       "  <th>x1</th>  <td>    0.9338</td> <td>    0.815</td> <td>    1.146</td> <td> 0.252</td> <td>   -0.663</td> <td>    2.531</td>\n",
       "</tr>\n",
       "<tr>\n",
       "  <th>x2</th>  <td>    4.0790</td> <td>    2.096</td> <td>    1.946</td> <td> 0.052</td> <td>   -0.030</td> <td>    8.188</td>\n",
       "</tr>\n",
       "<tr>\n",
       "  <th>x3</th>  <td>   -0.8726</td> <td>    0.907</td> <td>   -0.962</td> <td> 0.336</td> <td>   -2.651</td> <td>    0.906</td>\n",
       "</tr>\n",
       "<tr>\n",
       "  <th>x4</th>  <td>    0.1555</td> <td>    0.419</td> <td>    0.371</td> <td> 0.711</td> <td>   -0.665</td> <td>    0.976</td>\n",
       "</tr>\n",
       "<tr>\n",
       "  <th>x5</th>  <td>    0.0510</td> <td>    0.855</td> <td>    0.060</td> <td> 0.952</td> <td>   -1.625</td> <td>    1.727</td>\n",
       "</tr>\n",
       "<tr>\n",
       "  <th>x6</th>  <td>   -1.3775</td> <td>    0.889</td> <td>   -1.549</td> <td> 0.121</td> <td>   -3.120</td> <td>    0.365</td>\n",
       "</tr>\n",
       "<tr>\n",
       "  <th>x7</th>  <td>   -0.1198</td> <td>    1.338</td> <td>   -0.090</td> <td> 0.929</td> <td>   -2.742</td> <td>    2.503</td>\n",
       "</tr>\n",
       "<tr>\n",
       "  <th>x8</th>  <td>   -1.9246</td> <td>    1.016</td> <td>   -1.894</td> <td> 0.058</td> <td>   -3.916</td> <td>    0.067</td>\n",
       "</tr>\n",
       "<tr>\n",
       "  <th>x9</th>  <td>    0.7850</td> <td>    1.721</td> <td>    0.456</td> <td> 0.648</td> <td>   -2.589</td> <td>    4.159</td>\n",
       "</tr>\n",
       "<tr>\n",
       "  <th>x10</th> <td>    8.4038</td> <td>    3.748</td> <td>    2.242</td> <td> 0.025</td> <td>    1.058</td> <td>   15.749</td>\n",
       "</tr>\n",
       "<tr>\n",
       "  <th>x11</th> <td>   -3.3204</td> <td>    3.804</td> <td>   -0.873</td> <td> 0.383</td> <td>  -10.776</td> <td>    4.135</td>\n",
       "</tr>\n",
       "<tr>\n",
       "  <th>x12</th> <td>   -5.0967</td> <td>    2.572</td> <td>   -1.982</td> <td> 0.048</td> <td>  -10.137</td> <td>   -0.056</td>\n",
       "</tr>\n",
       "<tr>\n",
       "  <th>x13</th> <td>    1.9823</td> <td>    2.987</td> <td>    0.664</td> <td> 0.507</td> <td>   -3.872</td> <td>    7.836</td>\n",
       "</tr>\n",
       "<tr>\n",
       "  <th>y=3</th>    <th>coef</th>     <th>std err</th>      <th>z</th>      <th>P>|z|</th>  <th>[0.025</th>    <th>0.975]</th>  \n",
       "</tr>\n",
       "<tr>\n",
       "  <th>x1</th>  <td>    0.8149</td> <td>    0.766</td> <td>    1.064</td> <td> 0.287</td> <td>   -0.686</td> <td>    2.316</td>\n",
       "</tr>\n",
       "<tr>\n",
       "  <th>x2</th>  <td>    4.7725</td> <td>    2.159</td> <td>    2.210</td> <td> 0.027</td> <td>    0.540</td> <td>    9.005</td>\n",
       "</tr>\n",
       "<tr>\n",
       "  <th>x3</th>  <td>   -0.3081</td> <td>    0.882</td> <td>   -0.349</td> <td> 0.727</td> <td>   -2.038</td> <td>    1.422</td>\n",
       "</tr>\n",
       "<tr>\n",
       "  <th>x4</th>  <td>    0.3670</td> <td>    0.375</td> <td>    0.977</td> <td> 0.328</td> <td>   -0.369</td> <td>    1.103</td>\n",
       "</tr>\n",
       "<tr>\n",
       "  <th>x5</th>  <td>   -1.5232</td> <td>    1.106</td> <td>   -1.377</td> <td> 0.168</td> <td>   -3.691</td> <td>    0.645</td>\n",
       "</tr>\n",
       "<tr>\n",
       "  <th>x6</th>  <td>   -2.3637</td> <td>    1.019</td> <td>   -2.320</td> <td> 0.020</td> <td>   -4.360</td> <td>   -0.367</td>\n",
       "</tr>\n",
       "<tr>\n",
       "  <th>x7</th>  <td>   -2.8415</td> <td>    1.824</td> <td>   -1.558</td> <td> 0.119</td> <td>   -6.417</td> <td>    0.734</td>\n",
       "</tr>\n",
       "<tr>\n",
       "  <th>x8</th>  <td>   -2.5966</td> <td>    1.170</td> <td>   -2.219</td> <td> 0.026</td> <td>   -4.890</td> <td>   -0.303</td>\n",
       "</tr>\n",
       "<tr>\n",
       "  <th>x9</th>  <td>    4.0860</td> <td>    2.607</td> <td>    1.567</td> <td> 0.117</td> <td>   -1.023</td> <td>    9.195</td>\n",
       "</tr>\n",
       "<tr>\n",
       "  <th>x10</th> <td>   12.0619</td> <td>    4.673</td> <td>    2.581</td> <td> 0.010</td> <td>    2.903</td> <td>   21.221</td>\n",
       "</tr>\n",
       "<tr>\n",
       "  <th>x11</th> <td>  -10.9638</td> <td>    6.325</td> <td>   -1.733</td> <td> 0.083</td> <td>  -23.360</td> <td>    1.432</td>\n",
       "</tr>\n",
       "<tr>\n",
       "  <th>x12</th> <td>   -7.8956</td> <td>    3.785</td> <td>   -2.086</td> <td> 0.037</td> <td>  -15.315</td> <td>   -0.476</td>\n",
       "</tr>\n",
       "<tr>\n",
       "  <th>x13</th> <td>    7.4689</td> <td>    5.021</td> <td>    1.488</td> <td> 0.137</td> <td>   -2.372</td> <td>   17.310</td>\n",
       "</tr>\n",
       "</table>"
      ],
      "text/latex": [
       "\\begin{center}\n",
       "\\begin{tabular}{lclc}\n",
       "\\toprule\n",
       "\\textbf{Dep. Variable:}   &        y         & \\textbf{  No. Observations:  } &      102    \\\\\n",
       "\\textbf{Model:}           &     MNLogit      & \\textbf{  Df Residuals:      } &       63    \\\\\n",
       "\\textbf{Method:}          &       MLE        & \\textbf{  Df Model:          } &       36    \\\\\n",
       "\\textbf{Date:}            & Sun, 08 Oct 2023 & \\textbf{  Pseudo R-squ.:     } &  -0.5530    \\\\\n",
       "\\textbf{Time:}            &     11:48:32     & \\textbf{  Log-Likelihood:    } &   -112.63   \\\\\n",
       "\\textbf{converged:}       &       True       & \\textbf{  LL-Null:           } &   -72.523   \\\\\n",
       "\\textbf{Covariance Type:} &    nonrobust     & \\textbf{  LLR p-value:       } &    1.000    \\\\\n",
       "\\bottomrule\n",
       "\\end{tabular}\n",
       "\\begin{tabular}{ccccccc}\n",
       "\\textbf{y=1} & \\textbf{coef} & \\textbf{std err} & \\textbf{z} & \\textbf{P$> |$z$|$} & \\textbf{[0.025} & \\textbf{0.975]}  \\\\\n",
       "\\midrule\n",
       "\\bottomrule\n",
       "\\end{tabular}\n",
       "\\begin{tabular}{lcccccc}\n",
       "\\textbf{x1}  &       1.2693  &        0.773     &     1.641  &         0.101        &       -0.247    &        2.785     \\\\\n",
       "\\textbf{x2}  &       4.1683  &        2.146     &     1.942  &         0.052        &       -0.039    &        8.375     \\\\\n",
       "\\textbf{x3}  &      -1.1320  &        0.902     &    -1.255  &         0.210        &       -2.900    &        0.636     \\\\\n",
       "\\textbf{x4}  &      -0.0454  &        0.360     &    -0.126  &         0.900        &       -0.752    &        0.661     \\\\\n",
       "\\textbf{x5}  &       0.2583  &        0.891     &     0.290  &         0.772        &       -1.487    &        2.004     \\\\\n",
       "\\textbf{x6}  &      -1.6238  &        0.990     &    -1.641  &         0.101        &       -3.563    &        0.316     \\\\\n",
       "\\textbf{x7}  &      -0.0157  &        1.390     &    -0.011  &         0.991        &       -2.741    &        2.710     \\\\\n",
       "\\textbf{x8}  &      -1.9018  &        1.018     &    -1.867  &         0.062        &       -3.898    &        0.094     \\\\\n",
       "\\textbf{x9}  &       0.6431  &        1.801     &     0.357  &         0.721        &       -2.887    &        4.173     \\\\\n",
       "\\textbf{x10} &       8.5602  &        3.755     &     2.280  &         0.023        &        1.200    &       15.920     \\\\\n",
       "\\textbf{x11} &      -2.9238  &        3.977     &    -0.735  &         0.462        &      -10.719    &        4.871     \\\\\n",
       "\\textbf{x12} &      -5.1331  &        2.577     &    -1.992  &         0.046        &      -10.184    &       -0.082     \\\\\n",
       "\\textbf{x13} &       1.6642  &        3.113     &     0.535  &         0.593        &       -4.437    &        7.765     \\\\\n",
       "\\bottomrule\n",
       "\\end{tabular}\n",
       "\\begin{tabular}{ccccccc}\n",
       "\\textbf{y=2} & \\textbf{coef} & \\textbf{std err} & \\textbf{z} & \\textbf{P$> |$z$|$} & \\textbf{[0.025} & \\textbf{0.975]}  \\\\\n",
       "\\midrule\n",
       "\\bottomrule\n",
       "\\end{tabular}\n",
       "\\begin{tabular}{lcccccc}\n",
       "\\textbf{x1}  &       0.9338  &        0.815     &     1.146  &         0.252        &       -0.663    &        2.531     \\\\\n",
       "\\textbf{x2}  &       4.0790  &        2.096     &     1.946  &         0.052        &       -0.030    &        8.188     \\\\\n",
       "\\textbf{x3}  &      -0.8726  &        0.907     &    -0.962  &         0.336        &       -2.651    &        0.906     \\\\\n",
       "\\textbf{x4}  &       0.1555  &        0.419     &     0.371  &         0.711        &       -0.665    &        0.976     \\\\\n",
       "\\textbf{x5}  &       0.0510  &        0.855     &     0.060  &         0.952        &       -1.625    &        1.727     \\\\\n",
       "\\textbf{x6}  &      -1.3775  &        0.889     &    -1.549  &         0.121        &       -3.120    &        0.365     \\\\\n",
       "\\textbf{x7}  &      -0.1198  &        1.338     &    -0.090  &         0.929        &       -2.742    &        2.503     \\\\\n",
       "\\textbf{x8}  &      -1.9246  &        1.016     &    -1.894  &         0.058        &       -3.916    &        0.067     \\\\\n",
       "\\textbf{x9}  &       0.7850  &        1.721     &     0.456  &         0.648        &       -2.589    &        4.159     \\\\\n",
       "\\textbf{x10} &       8.4038  &        3.748     &     2.242  &         0.025        &        1.058    &       15.749     \\\\\n",
       "\\textbf{x11} &      -3.3204  &        3.804     &    -0.873  &         0.383        &      -10.776    &        4.135     \\\\\n",
       "\\textbf{x12} &      -5.0967  &        2.572     &    -1.982  &         0.048        &      -10.137    &       -0.056     \\\\\n",
       "\\textbf{x13} &       1.9823  &        2.987     &     0.664  &         0.507        &       -3.872    &        7.836     \\\\\n",
       "\\bottomrule\n",
       "\\end{tabular}\n",
       "\\begin{tabular}{ccccccc}\n",
       "\\textbf{y=3} & \\textbf{coef} & \\textbf{std err} & \\textbf{z} & \\textbf{P$> |$z$|$} & \\textbf{[0.025} & \\textbf{0.975]}  \\\\\n",
       "\\midrule\n",
       "\\bottomrule\n",
       "\\end{tabular}\n",
       "\\begin{tabular}{lcccccc}\n",
       "\\textbf{x1}  &       0.8149  &        0.766     &     1.064  &         0.287        &       -0.686    &        2.316     \\\\\n",
       "\\textbf{x2}  &       4.7725  &        2.159     &     2.210  &         0.027        &        0.540    &        9.005     \\\\\n",
       "\\textbf{x3}  &      -0.3081  &        0.882     &    -0.349  &         0.727        &       -2.038    &        1.422     \\\\\n",
       "\\textbf{x4}  &       0.3670  &        0.375     &     0.977  &         0.328        &       -0.369    &        1.103     \\\\\n",
       "\\textbf{x5}  &      -1.5232  &        1.106     &    -1.377  &         0.168        &       -3.691    &        0.645     \\\\\n",
       "\\textbf{x6}  &      -2.3637  &        1.019     &    -2.320  &         0.020        &       -4.360    &       -0.367     \\\\\n",
       "\\textbf{x7}  &      -2.8415  &        1.824     &    -1.558  &         0.119        &       -6.417    &        0.734     \\\\\n",
       "\\textbf{x8}  &      -2.5966  &        1.170     &    -2.219  &         0.026        &       -4.890    &       -0.303     \\\\\n",
       "\\textbf{x9}  &       4.0860  &        2.607     &     1.567  &         0.117        &       -1.023    &        9.195     \\\\\n",
       "\\textbf{x10} &      12.0619  &        4.673     &     2.581  &         0.010        &        2.903    &       21.221     \\\\\n",
       "\\textbf{x11} &     -10.9638  &        6.325     &    -1.733  &         0.083        &      -23.360    &        1.432     \\\\\n",
       "\\textbf{x12} &      -7.8956  &        3.785     &    -2.086  &         0.037        &      -15.315    &       -0.476     \\\\\n",
       "\\textbf{x13} &       7.4689  &        5.021     &     1.488  &         0.137        &       -2.372    &       17.310     \\\\\n",
       "\\bottomrule\n",
       "\\end{tabular}\n",
       "%\\caption{MNLogit Regression Results}\n",
       "\\end{center}"
      ],
      "text/plain": [
       "<class 'statsmodels.iolib.summary.Summary'>\n",
       "\"\"\"\n",
       "                          MNLogit Regression Results                          \n",
       "==============================================================================\n",
       "Dep. Variable:                      y   No. Observations:                  102\n",
       "Model:                        MNLogit   Df Residuals:                       63\n",
       "Method:                           MLE   Df Model:                           36\n",
       "Date:                Sun, 08 Oct 2023   Pseudo R-squ.:                 -0.5530\n",
       "Time:                        11:48:32   Log-Likelihood:                -112.63\n",
       "converged:                       True   LL-Null:                       -72.523\n",
       "Covariance Type:            nonrobust   LLR p-value:                     1.000\n",
       "==============================================================================\n",
       "       y=1       coef    std err          z      P>|z|      [0.025      0.975]\n",
       "------------------------------------------------------------------------------\n",
       "x1             1.2693      0.773      1.641      0.101      -0.247       2.785\n",
       "x2             4.1683      2.146      1.942      0.052      -0.039       8.375\n",
       "x3            -1.1320      0.902     -1.255      0.210      -2.900       0.636\n",
       "x4            -0.0454      0.360     -0.126      0.900      -0.752       0.661\n",
       "x5             0.2583      0.891      0.290      0.772      -1.487       2.004\n",
       "x6            -1.6238      0.990     -1.641      0.101      -3.563       0.316\n",
       "x7            -0.0157      1.390     -0.011      0.991      -2.741       2.710\n",
       "x8            -1.9018      1.018     -1.867      0.062      -3.898       0.094\n",
       "x9             0.6431      1.801      0.357      0.721      -2.887       4.173\n",
       "x10            8.5602      3.755      2.280      0.023       1.200      15.920\n",
       "x11           -2.9238      3.977     -0.735      0.462     -10.719       4.871\n",
       "x12           -5.1331      2.577     -1.992      0.046     -10.184      -0.082\n",
       "x13            1.6642      3.113      0.535      0.593      -4.437       7.765\n",
       "------------------------------------------------------------------------------\n",
       "       y=2       coef    std err          z      P>|z|      [0.025      0.975]\n",
       "------------------------------------------------------------------------------\n",
       "x1             0.9338      0.815      1.146      0.252      -0.663       2.531\n",
       "x2             4.0790      2.096      1.946      0.052      -0.030       8.188\n",
       "x3            -0.8726      0.907     -0.962      0.336      -2.651       0.906\n",
       "x4             0.1555      0.419      0.371      0.711      -0.665       0.976\n",
       "x5             0.0510      0.855      0.060      0.952      -1.625       1.727\n",
       "x6            -1.3775      0.889     -1.549      0.121      -3.120       0.365\n",
       "x7            -0.1198      1.338     -0.090      0.929      -2.742       2.503\n",
       "x8            -1.9246      1.016     -1.894      0.058      -3.916       0.067\n",
       "x9             0.7850      1.721      0.456      0.648      -2.589       4.159\n",
       "x10            8.4038      3.748      2.242      0.025       1.058      15.749\n",
       "x11           -3.3204      3.804     -0.873      0.383     -10.776       4.135\n",
       "x12           -5.0967      2.572     -1.982      0.048     -10.137      -0.056\n",
       "x13            1.9823      2.987      0.664      0.507      -3.872       7.836\n",
       "------------------------------------------------------------------------------\n",
       "       y=3       coef    std err          z      P>|z|      [0.025      0.975]\n",
       "------------------------------------------------------------------------------\n",
       "x1             0.8149      0.766      1.064      0.287      -0.686       2.316\n",
       "x2             4.7725      2.159      2.210      0.027       0.540       9.005\n",
       "x3            -0.3081      0.882     -0.349      0.727      -2.038       1.422\n",
       "x4             0.3670      0.375      0.977      0.328      -0.369       1.103\n",
       "x5            -1.5232      1.106     -1.377      0.168      -3.691       0.645\n",
       "x6            -2.3637      1.019     -2.320      0.020      -4.360      -0.367\n",
       "x7            -2.8415      1.824     -1.558      0.119      -6.417       0.734\n",
       "x8            -2.5966      1.170     -2.219      0.026      -4.890      -0.303\n",
       "x9             4.0860      2.607      1.567      0.117      -1.023       9.195\n",
       "x10           12.0619      4.673      2.581      0.010       2.903      21.221\n",
       "x11          -10.9638      6.325     -1.733      0.083     -23.360       1.432\n",
       "x12           -7.8956      3.785     -2.086      0.037     -15.315      -0.476\n",
       "x13            7.4689      5.021      1.488      0.137      -2.372      17.310\n",
       "==============================================================================\n",
       "\"\"\""
      ]
     },
     "execution_count": 32,
     "metadata": {},
     "output_type": "execute_result"
    }
   ],
   "source": [
    "from statsmodels.discrete.discrete_model import MNLogit\n",
    "\n",
    "logistic_model = MNLogit(np.asarray(y_train.map(train_mapping)), np.asarray(x_train)).fit()\n",
    "logistic_model.summary() "
   ]
  },
  {
   "cell_type": "code",
   "execution_count": null,
   "metadata": {},
   "outputs": [],
   "source": []
  }
 ],
 "metadata": {
  "kernelspec": {
   "display_name": "BERI",
   "language": "python",
   "name": "python3"
  },
  "language_info": {
   "codemirror_mode": {
    "name": "ipython",
    "version": 3
   },
   "file_extension": ".py",
   "mimetype": "text/x-python",
   "name": "python",
   "nbconvert_exporter": "python",
   "pygments_lexer": "ipython3",
   "version": "3.11.2"
  },
  "orig_nbformat": 4
 },
 "nbformat": 4,
 "nbformat_minor": 2
}
