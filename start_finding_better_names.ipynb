{
 "cells": [
  {
   "cell_type": "code",
   "execution_count": 12,
   "metadata": {},
   "outputs": [],
   "source": [
    "import pandas as pd\n",
    "import numpy as np\n",
    "\n",
    "from sklearn.preprocessing import StandardScaler\n",
    "from sklearn.decomposition import PCA\n",
    "from sklearn.cluster import KMeans, DBSCAN\n",
    "from instance_space_analysis.feature_computations import get_instance_features\n",
    "\n",
    "\n",
    "from sklearn.inspection import permutation_importance"
   ]
  },
  {
   "cell_type": "code",
   "execution_count": 13,
   "metadata": {},
   "outputs": [
    {
     "data": {
      "text/html": [
       "<div>\n",
       "<style scoped>\n",
       "    .dataframe tbody tr th:only-of-type {\n",
       "        vertical-align: middle;\n",
       "    }\n",
       "\n",
       "    .dataframe tbody tr th {\n",
       "        vertical-align: top;\n",
       "    }\n",
       "\n",
       "    .dataframe thead th {\n",
       "        text-align: right;\n",
       "    }\n",
       "</style>\n",
       "<table border=\"1\" class=\"dataframe\">\n",
       "  <thead>\n",
       "    <tr style=\"text-align: right;\">\n",
       "      <th></th>\n",
       "      <th>problem_size</th>\n",
       "      <th>flow_sparsity</th>\n",
       "      <th>distance_sparsity</th>\n",
       "      <th>flow_asymmetry</th>\n",
       "      <th>distance_asymmetry</th>\n",
       "      <th>flow_dominance</th>\n",
       "      <th>distance_dominance</th>\n",
       "      <th>flow_max</th>\n",
       "      <th>distance_max</th>\n",
       "      <th>flow_min</th>\n",
       "      <th>distance_min</th>\n",
       "      <th>flow_mean</th>\n",
       "      <th>distance_mean</th>\n",
       "      <th>best_algo</th>\n",
       "    </tr>\n",
       "  </thead>\n",
       "  <tbody>\n",
       "    <tr>\n",
       "      <th>tai256c</th>\n",
       "      <td>5.954700</td>\n",
       "      <td>9.186069</td>\n",
       "      <td>-0.595513</td>\n",
       "      <td>0.399050</td>\n",
       "      <td>0.428339</td>\n",
       "      <td>0.707893</td>\n",
       "      <td>0.934446</td>\n",
       "      <td>-0.312484</td>\n",
       "      <td>5.073131</td>\n",
       "      <td>-0.274350</td>\n",
       "      <td>3.323562</td>\n",
       "      <td>-0.247417</td>\n",
       "      <td>2.607582</td>\n",
       "      <td>10_multistart_total_swap_optimal_neighbour_obj...</td>\n",
       "    </tr>\n",
       "    <tr>\n",
       "      <th>nug16b</th>\n",
       "      <td>-0.687821</td>\n",
       "      <td>-0.285651</td>\n",
       "      <td>-0.280453</td>\n",
       "      <td>0.399050</td>\n",
       "      <td>0.428339</td>\n",
       "      <td>-0.438630</td>\n",
       "      <td>-0.078131</td>\n",
       "      <td>-0.307507</td>\n",
       "      <td>-0.303716</td>\n",
       "      <td>-0.267333</td>\n",
       "      <td>-0.208219</td>\n",
       "      <td>-0.240930</td>\n",
       "      <td>-0.122438</td>\n",
       "      <td>elshafei_constructive_greedy_local_search_obje...</td>\n",
       "    </tr>\n",
       "    <tr>\n",
       "      <th>tai35b</th>\n",
       "      <td>-0.161955</td>\n",
       "      <td>-0.285651</td>\n",
       "      <td>0.688731</td>\n",
       "      <td>0.399050</td>\n",
       "      <td>-2.025594</td>\n",
       "      <td>-0.305154</td>\n",
       "      <td>1.841030</td>\n",
       "      <td>0.742713</td>\n",
       "      <td>0.866027</td>\n",
       "      <td>0.888181</td>\n",
       "      <td>0.367406</td>\n",
       "      <td>1.607858</td>\n",
       "      <td>-0.124651</td>\n",
       "      <td>10_multistart_total_swap_optimal_neighbour_obj...</td>\n",
       "    </tr>\n",
       "    <tr>\n",
       "      <th>chr22a</th>\n",
       "      <td>-0.521758</td>\n",
       "      <td>0.529100</td>\n",
       "      <td>-0.595513</td>\n",
       "      <td>0.399050</td>\n",
       "      <td>0.428339</td>\n",
       "      <td>1.608492</td>\n",
       "      <td>-0.560231</td>\n",
       "      <td>-0.263706</td>\n",
       "      <td>-0.299360</td>\n",
       "      <td>-0.271149</td>\n",
       "      <td>-0.195523</td>\n",
       "      <td>-0.247417</td>\n",
       "      <td>-0.102523</td>\n",
       "      <td>elshafei_constructive_greedy_local_search_obje...</td>\n",
       "    </tr>\n",
       "    <tr>\n",
       "      <th>esc16h</th>\n",
       "      <td>-0.687821</td>\n",
       "      <td>-0.258977</td>\n",
       "      <td>-0.315460</td>\n",
       "      <td>0.399050</td>\n",
       "      <td>0.428339</td>\n",
       "      <td>0.099192</td>\n",
       "      <td>-0.384595</td>\n",
       "      <td>-0.292575</td>\n",
       "      <td>-0.304092</td>\n",
       "      <td>-0.260349</td>\n",
       "      <td>-0.209032</td>\n",
       "      <td>-0.244174</td>\n",
       "      <td>-0.123544</td>\n",
       "      <td>10_multistart_total_swap_optimal_neighbour_obj...</td>\n",
       "    </tr>\n",
       "    <tr>\n",
       "      <th>...</th>\n",
       "      <td>...</td>\n",
       "      <td>...</td>\n",
       "      <td>...</td>\n",
       "      <td>...</td>\n",
       "      <td>...</td>\n",
       "      <td>...</td>\n",
       "      <td>...</td>\n",
       "      <td>...</td>\n",
       "      <td>...</td>\n",
       "      <td>...</td>\n",
       "      <td>...</td>\n",
       "      <td>...</td>\n",
       "      <td>...</td>\n",
       "      <td>...</td>\n",
       "    </tr>\n",
       "    <tr>\n",
       "      <th>tai20a</th>\n",
       "      <td>-0.577112</td>\n",
       "      <td>-0.272848</td>\n",
       "      <td>-0.574509</td>\n",
       "      <td>0.399050</td>\n",
       "      <td>0.428339</td>\n",
       "      <td>-0.370562</td>\n",
       "      <td>-0.580669</td>\n",
       "      <td>-0.215923</td>\n",
       "      <td>-0.298930</td>\n",
       "      <td>-0.139188</td>\n",
       "      <td>-0.183848</td>\n",
       "      <td>-0.104704</td>\n",
       "      <td>-0.071544</td>\n",
       "      <td>10_multistart_total_swap_optimal_neighbour_obj...</td>\n",
       "    </tr>\n",
       "    <tr>\n",
       "      <th>lipa80b</th>\n",
       "      <td>1.083518</td>\n",
       "      <td>-0.240306</td>\n",
       "      <td>-0.595513</td>\n",
       "      <td>-3.129092</td>\n",
       "      <td>0.428339</td>\n",
       "      <td>-0.408493</td>\n",
       "      <td>-0.804071</td>\n",
       "      <td>-0.234837</td>\n",
       "      <td>-0.299951</td>\n",
       "      <td>-0.159951</td>\n",
       "      <td>-0.187245</td>\n",
       "      <td>-0.120921</td>\n",
       "      <td>-0.079288</td>\n",
       "      <td>10_multistart_total_swap_optimal_neighbour_obj...</td>\n",
       "    </tr>\n",
       "    <tr>\n",
       "      <th>rou12</th>\n",
       "      <td>-0.798530</td>\n",
       "      <td>-0.285651</td>\n",
       "      <td>-0.583844</td>\n",
       "      <td>0.399050</td>\n",
       "      <td>0.428339</td>\n",
       "      <td>-0.369912</td>\n",
       "      <td>-0.514195</td>\n",
       "      <td>-0.214928</td>\n",
       "      <td>-0.298930</td>\n",
       "      <td>-0.136978</td>\n",
       "      <td>-0.186240</td>\n",
       "      <td>-0.104704</td>\n",
       "      <td>-0.078182</td>\n",
       "      <td>10_multistart_total_swap_optimal_neighbour_obj...</td>\n",
       "    </tr>\n",
       "    <tr>\n",
       "      <th>tai20b</th>\n",
       "      <td>-0.577112</td>\n",
       "      <td>-0.285651</td>\n",
       "      <td>-0.021404</td>\n",
       "      <td>0.399050</td>\n",
       "      <td>-2.481396</td>\n",
       "      <td>-0.028357</td>\n",
       "      <td>2.071841</td>\n",
       "      <td>0.501810</td>\n",
       "      <td>2.898463</td>\n",
       "      <td>0.521694</td>\n",
       "      <td>1.368174</td>\n",
       "      <td>-0.098217</td>\n",
       "      <td>-0.123544</td>\n",
       "      <td>10_multistart_total_swap_optimal_neighbour_obj...</td>\n",
       "    </tr>\n",
       "    <tr>\n",
       "      <th>lipa80a</th>\n",
       "      <td>1.083518</td>\n",
       "      <td>-0.243507</td>\n",
       "      <td>-0.595513</td>\n",
       "      <td>-0.015716</td>\n",
       "      <td>0.428339</td>\n",
       "      <td>-0.636070</td>\n",
       "      <td>-0.804071</td>\n",
       "      <td>-0.311488</td>\n",
       "      <td>-0.299951</td>\n",
       "      <td>-0.271809</td>\n",
       "      <td>-0.187245</td>\n",
       "      <td>-0.244174</td>\n",
       "      <td>-0.079288</td>\n",
       "      <td>10_multistart_total_swap_optimal_neighbour_obj...</td>\n",
       "    </tr>\n",
       "  </tbody>\n",
       "</table>\n",
       "<p>119 rows × 14 columns</p>\n",
       "</div>"
      ],
      "text/plain": [
       "         problem_size  flow_sparsity  distance_sparsity  flow_asymmetry   \n",
       "tai256c      5.954700       9.186069          -0.595513        0.399050  \\\n",
       "nug16b      -0.687821      -0.285651          -0.280453        0.399050   \n",
       "tai35b      -0.161955      -0.285651           0.688731        0.399050   \n",
       "chr22a      -0.521758       0.529100          -0.595513        0.399050   \n",
       "esc16h      -0.687821      -0.258977          -0.315460        0.399050   \n",
       "...               ...            ...                ...             ...   \n",
       "tai20a      -0.577112      -0.272848          -0.574509        0.399050   \n",
       "lipa80b      1.083518      -0.240306          -0.595513       -3.129092   \n",
       "rou12       -0.798530      -0.285651          -0.583844        0.399050   \n",
       "tai20b      -0.577112      -0.285651          -0.021404        0.399050   \n",
       "lipa80a      1.083518      -0.243507          -0.595513       -0.015716   \n",
       "\n",
       "         distance_asymmetry  flow_dominance  distance_dominance  flow_max   \n",
       "tai256c            0.428339        0.707893            0.934446 -0.312484  \\\n",
       "nug16b             0.428339       -0.438630           -0.078131 -0.307507   \n",
       "tai35b            -2.025594       -0.305154            1.841030  0.742713   \n",
       "chr22a             0.428339        1.608492           -0.560231 -0.263706   \n",
       "esc16h             0.428339        0.099192           -0.384595 -0.292575   \n",
       "...                     ...             ...                 ...       ...   \n",
       "tai20a             0.428339       -0.370562           -0.580669 -0.215923   \n",
       "lipa80b            0.428339       -0.408493           -0.804071 -0.234837   \n",
       "rou12              0.428339       -0.369912           -0.514195 -0.214928   \n",
       "tai20b            -2.481396       -0.028357            2.071841  0.501810   \n",
       "lipa80a            0.428339       -0.636070           -0.804071 -0.311488   \n",
       "\n",
       "         distance_max  flow_min  distance_min  flow_mean  distance_mean   \n",
       "tai256c      5.073131 -0.274350      3.323562  -0.247417       2.607582  \\\n",
       "nug16b      -0.303716 -0.267333     -0.208219  -0.240930      -0.122438   \n",
       "tai35b       0.866027  0.888181      0.367406   1.607858      -0.124651   \n",
       "chr22a      -0.299360 -0.271149     -0.195523  -0.247417      -0.102523   \n",
       "esc16h      -0.304092 -0.260349     -0.209032  -0.244174      -0.123544   \n",
       "...               ...       ...           ...        ...            ...   \n",
       "tai20a      -0.298930 -0.139188     -0.183848  -0.104704      -0.071544   \n",
       "lipa80b     -0.299951 -0.159951     -0.187245  -0.120921      -0.079288   \n",
       "rou12       -0.298930 -0.136978     -0.186240  -0.104704      -0.078182   \n",
       "tai20b       2.898463  0.521694      1.368174  -0.098217      -0.123544   \n",
       "lipa80a     -0.299951 -0.271809     -0.187245  -0.244174      -0.079288   \n",
       "\n",
       "                                                 best_algo  \n",
       "tai256c  10_multistart_total_swap_optimal_neighbour_obj...  \n",
       "nug16b   elshafei_constructive_greedy_local_search_obje...  \n",
       "tai35b   10_multistart_total_swap_optimal_neighbour_obj...  \n",
       "chr22a   elshafei_constructive_greedy_local_search_obje...  \n",
       "esc16h   10_multistart_total_swap_optimal_neighbour_obj...  \n",
       "...                                                    ...  \n",
       "tai20a   10_multistart_total_swap_optimal_neighbour_obj...  \n",
       "lipa80b  10_multistart_total_swap_optimal_neighbour_obj...  \n",
       "rou12    10_multistart_total_swap_optimal_neighbour_obj...  \n",
       "tai20b   10_multistart_total_swap_optimal_neighbour_obj...  \n",
       "lipa80a  10_multistart_total_swap_optimal_neighbour_obj...  \n",
       "\n",
       "[119 rows x 14 columns]"
      ]
     },
     "execution_count": 13,
     "metadata": {},
     "output_type": "execute_result"
    }
   ],
   "source": [
    "data = pd.read_csv(\"data/heuristic_performance_final_scratch.csv\")\n",
    "data.set_index(\"instance\", inplace=True)\n",
    "\n",
    "instance_features = get_instance_features(data, 'data/qapdata/')\n",
    "\n",
    "scaler = StandardScaler()\n",
    "instance_features[instance_features.columns] = scaler.fit_transform(instance_features[instance_features.columns])\n",
    "\n",
    "algorithms = [\n",
    "    # 'grasp_local_search', \n",
    "    # 'grasp_simulated_annealing', \n",
    "    # 'genetic_algorithm',\n",
    "    '10_multistart_total_swap_optimal_neighbour_objective',\n",
    "    # '10_multistart_adjacent_swap_optimal_neighbour_objective',\n",
    "    # '10_multistart_adjacent_swap_first_improvement_objective',\n",
    "    # '10_multistart_total_swap_first_improvement_objective',\n",
    "    # 'constructive_greedy_local_search_objective',\n",
    "    'elshafei_constructive_greedy_local_search_objective',\n",
    "]\n",
    "\n",
    "restricted_df = data[algorithms]\n",
    "restricted_df = restricted_df.drop_duplicates(keep='first')\n",
    "\n",
    "best_algos_df = pd.DataFrame()\n",
    "\n",
    "best_algos_df['performance'] = restricted_df.min(axis=1)\n",
    "best_algos_df['best_algo'] = restricted_df.idxmin(axis=1)\n",
    "\n",
    "instance_features['best_algo'] = restricted_df.idxmin(axis=1).astype('category')\n",
    "instance_features.dropna(inplace=True)\n",
    "\n",
    "instance_features"
   ]
  },
  {
   "cell_type": "code",
   "execution_count": 14,
   "metadata": {},
   "outputs": [
    {
     "data": {
      "text/html": [
       "<div>\n",
       "<style scoped>\n",
       "    .dataframe tbody tr th:only-of-type {\n",
       "        vertical-align: middle;\n",
       "    }\n",
       "\n",
       "    .dataframe tbody tr th {\n",
       "        vertical-align: top;\n",
       "    }\n",
       "\n",
       "    .dataframe thead th {\n",
       "        text-align: right;\n",
       "    }\n",
       "</style>\n",
       "<table border=\"1\" class=\"dataframe\">\n",
       "  <thead>\n",
       "    <tr style=\"text-align: right;\">\n",
       "      <th></th>\n",
       "      <th>10_multistart_total_swap_optimal_neighbour_objective</th>\n",
       "      <th>elshafei_constructive_greedy_local_search_objective</th>\n",
       "    </tr>\n",
       "    <tr>\n",
       "      <th>instance</th>\n",
       "      <th></th>\n",
       "      <th></th>\n",
       "    </tr>\n",
       "  </thead>\n",
       "  <tbody>\n",
       "    <tr>\n",
       "      <th>tai256c</th>\n",
       "      <td>0.002624</td>\n",
       "      <td>0.003676</td>\n",
       "    </tr>\n",
       "    <tr>\n",
       "      <th>nug16b</th>\n",
       "      <td>0.054839</td>\n",
       "      <td>0.027419</td>\n",
       "    </tr>\n",
       "    <tr>\n",
       "      <th>tai35b</th>\n",
       "      <td>0.015643</td>\n",
       "      <td>0.019450</td>\n",
       "    </tr>\n",
       "    <tr>\n",
       "      <th>chr22a</th>\n",
       "      <td>0.051657</td>\n",
       "      <td>0.033788</td>\n",
       "    </tr>\n",
       "    <tr>\n",
       "      <th>esc16h</th>\n",
       "      <td>0.000000</td>\n",
       "      <td>0.000000</td>\n",
       "    </tr>\n",
       "    <tr>\n",
       "      <th>...</th>\n",
       "      <td>...</td>\n",
       "      <td>...</td>\n",
       "    </tr>\n",
       "    <tr>\n",
       "      <th>tai20a</th>\n",
       "      <td>0.024899</td>\n",
       "      <td>0.042887</td>\n",
       "    </tr>\n",
       "    <tr>\n",
       "      <th>lipa80b</th>\n",
       "      <td>0.214726</td>\n",
       "      <td>0.220071</td>\n",
       "    </tr>\n",
       "    <tr>\n",
       "      <th>rou12</th>\n",
       "      <td>0.001376</td>\n",
       "      <td>0.056927</td>\n",
       "    </tr>\n",
       "    <tr>\n",
       "      <th>tai20b</th>\n",
       "      <td>0.009204</td>\n",
       "      <td>0.010278</td>\n",
       "    </tr>\n",
       "    <tr>\n",
       "      <th>lipa80a</th>\n",
       "      <td>0.007694</td>\n",
       "      <td>0.008768</td>\n",
       "    </tr>\n",
       "  </tbody>\n",
       "</table>\n",
       "<p>119 rows × 2 columns</p>\n",
       "</div>"
      ],
      "text/plain": [
       "          10_multistart_total_swap_optimal_neighbour_objective   \n",
       "instance                                                         \n",
       "tai256c                                            0.002624     \\\n",
       "nug16b                                             0.054839      \n",
       "tai35b                                             0.015643      \n",
       "chr22a                                             0.051657      \n",
       "esc16h                                             0.000000      \n",
       "...                                                     ...      \n",
       "tai20a                                             0.024899      \n",
       "lipa80b                                            0.214726      \n",
       "rou12                                              0.001376      \n",
       "tai20b                                             0.009204      \n",
       "lipa80a                                            0.007694      \n",
       "\n",
       "          elshafei_constructive_greedy_local_search_objective  \n",
       "instance                                                       \n",
       "tai256c                                            0.003676    \n",
       "nug16b                                             0.027419    \n",
       "tai35b                                             0.019450    \n",
       "chr22a                                             0.033788    \n",
       "esc16h                                             0.000000    \n",
       "...                                                     ...    \n",
       "tai20a                                             0.042887    \n",
       "lipa80b                                            0.220071    \n",
       "rou12                                              0.056927    \n",
       "tai20b                                             0.010278    \n",
       "lipa80a                                            0.008768    \n",
       "\n",
       "[119 rows x 2 columns]"
      ]
     },
     "execution_count": 14,
     "metadata": {},
     "output_type": "execute_result"
    }
   ],
   "source": [
    "restricted_df"
   ]
  },
  {
   "cell_type": "code",
   "execution_count": 15,
   "metadata": {},
   "outputs": [
    {
     "data": {
      "application/vnd.plotly.v1+json": {
       "config": {
        "plotlyServerURL": "https://plot.ly"
       },
       "data": [
        {
         "alignmentgroup": "True",
         "hovertemplate": "best_algo=10_multistart_total_swap_optimal_neighbour_objective<br>performance=%{y}<extra></extra>",
         "legendgroup": "10_multistart_total_swap_optimal_neighbour_objective",
         "marker": {
          "color": "#636efa"
         },
         "name": "10_multistart_total_swap_optimal_neighbour_objective",
         "notched": false,
         "offsetgroup": "10_multistart_total_swap_optimal_neighbour_objective",
         "orientation": "v",
         "showlegend": true,
         "type": "box",
         "x0": " ",
         "xaxis": "x",
         "y": [
          0.002623723,
          0.015643386,
          0,
          0.013729469,
          0.336457019,
          0.197163644,
          0,
          0.030709866,
          0.01242236,
          0.029731602,
          0.17047889,
          0.021449152,
          0.003165134,
          0.021449905,
          0.223726758,
          0.146808982,
          0.212015019,
          0.027833058,
          0.15256734,
          0.032603897,
          0.179275419,
          0.032507641,
          0.033231785,
          0.056951424,
          0.056355456,
          0.01384083,
          0,
          0.008747901,
          0.012481278,
          0.03073761,
          0.049543027,
          0.015671252,
          0.019099418,
          0.020783198,
          0.036953398,
          0.02617468,
          0.206418796,
          0,
          0.028019393,
          0.017391304,
          0.156677189,
          0.010698149,
          0.019723866,
          0.014711576,
          0.01842428,
          0.041862591,
          0.031690199,
          0.016011534,
          0.006928406,
          0.0000348,
          0.061095948,
          0.000185079,
          0.014607837,
          0,
          0.019927261,
          0.017189772,
          0.008788689,
          0.017164654,
          0.000224535,
          0.000162875,
          0.010776174,
          0.032051282,
          0.052170512,
          0.045669291,
          0.030051813,
          0.030045722,
          0.025802752,
          0,
          0.048857947,
          0.000117622,
          0.023690137,
          0.000378308,
          0.019455253,
          0.011651775,
          0.010664479,
          0.01851827,
          0.035880507,
          0,
          0.01773269,
          0.005005562,
          0,
          0.211819983,
          0.014412625,
          0.001504237,
          0.038503904,
          0.025245419,
          0,
          0.042089992,
          0.028152139,
          0.267335766,
          0.006473287,
          0.031776875,
          0.35765804,
          0.201914708,
          0.048863668,
          0.032814217,
          0.008218636,
          0.024899002,
          0.214725935,
          0.001375633,
          0.009203961,
          0.007693675
         ],
         "y0": " ",
         "yaxis": "y"
        },
        {
         "alignmentgroup": "True",
         "hovertemplate": "best_algo=elshafei_constructive_greedy_local_search_objective<br>performance=%{y}<extra></extra>",
         "legendgroup": "elshafei_constructive_greedy_local_search_objective",
         "marker": {
          "color": "#EF553B"
         },
         "name": "elshafei_constructive_greedy_local_search_objective",
         "notched": false,
         "offsetgroup": "elshafei_constructive_greedy_local_search_objective",
         "orientation": "v",
         "showlegend": true,
         "type": "box",
         "x0": " ",
         "xaxis": "x",
         "y": [
          0.027419355,
          0.033788174,
          0.098805295,
          0.09517601,
          0.010138223,
          0.016972607,
          0.031869281,
          0.137863033,
          0.018505901,
          0.335089568,
          0.002239642,
          0.142568761,
          0.03799995,
          0.014882067,
          0.007263923,
          0.007453623,
          0.002172426
         ],
         "y0": " ",
         "yaxis": "y"
        }
       ],
       "layout": {
        "boxmode": "group",
        "legend": {
         "title": {
          "text": "best_algo"
         },
         "tracegroupgap": 0
        },
        "margin": {
         "t": 60
        },
        "template": {
         "data": {
          "bar": [
           {
            "error_x": {
             "color": "#2a3f5f"
            },
            "error_y": {
             "color": "#2a3f5f"
            },
            "marker": {
             "line": {
              "color": "#E5ECF6",
              "width": 0.5
             },
             "pattern": {
              "fillmode": "overlay",
              "size": 10,
              "solidity": 0.2
             }
            },
            "type": "bar"
           }
          ],
          "barpolar": [
           {
            "marker": {
             "line": {
              "color": "#E5ECF6",
              "width": 0.5
             },
             "pattern": {
              "fillmode": "overlay",
              "size": 10,
              "solidity": 0.2
             }
            },
            "type": "barpolar"
           }
          ],
          "carpet": [
           {
            "aaxis": {
             "endlinecolor": "#2a3f5f",
             "gridcolor": "white",
             "linecolor": "white",
             "minorgridcolor": "white",
             "startlinecolor": "#2a3f5f"
            },
            "baxis": {
             "endlinecolor": "#2a3f5f",
             "gridcolor": "white",
             "linecolor": "white",
             "minorgridcolor": "white",
             "startlinecolor": "#2a3f5f"
            },
            "type": "carpet"
           }
          ],
          "choropleth": [
           {
            "colorbar": {
             "outlinewidth": 0,
             "ticks": ""
            },
            "type": "choropleth"
           }
          ],
          "contour": [
           {
            "colorbar": {
             "outlinewidth": 0,
             "ticks": ""
            },
            "colorscale": [
             [
              0,
              "#0d0887"
             ],
             [
              0.1111111111111111,
              "#46039f"
             ],
             [
              0.2222222222222222,
              "#7201a8"
             ],
             [
              0.3333333333333333,
              "#9c179e"
             ],
             [
              0.4444444444444444,
              "#bd3786"
             ],
             [
              0.5555555555555556,
              "#d8576b"
             ],
             [
              0.6666666666666666,
              "#ed7953"
             ],
             [
              0.7777777777777778,
              "#fb9f3a"
             ],
             [
              0.8888888888888888,
              "#fdca26"
             ],
             [
              1,
              "#f0f921"
             ]
            ],
            "type": "contour"
           }
          ],
          "contourcarpet": [
           {
            "colorbar": {
             "outlinewidth": 0,
             "ticks": ""
            },
            "type": "contourcarpet"
           }
          ],
          "heatmap": [
           {
            "colorbar": {
             "outlinewidth": 0,
             "ticks": ""
            },
            "colorscale": [
             [
              0,
              "#0d0887"
             ],
             [
              0.1111111111111111,
              "#46039f"
             ],
             [
              0.2222222222222222,
              "#7201a8"
             ],
             [
              0.3333333333333333,
              "#9c179e"
             ],
             [
              0.4444444444444444,
              "#bd3786"
             ],
             [
              0.5555555555555556,
              "#d8576b"
             ],
             [
              0.6666666666666666,
              "#ed7953"
             ],
             [
              0.7777777777777778,
              "#fb9f3a"
             ],
             [
              0.8888888888888888,
              "#fdca26"
             ],
             [
              1,
              "#f0f921"
             ]
            ],
            "type": "heatmap"
           }
          ],
          "heatmapgl": [
           {
            "colorbar": {
             "outlinewidth": 0,
             "ticks": ""
            },
            "colorscale": [
             [
              0,
              "#0d0887"
             ],
             [
              0.1111111111111111,
              "#46039f"
             ],
             [
              0.2222222222222222,
              "#7201a8"
             ],
             [
              0.3333333333333333,
              "#9c179e"
             ],
             [
              0.4444444444444444,
              "#bd3786"
             ],
             [
              0.5555555555555556,
              "#d8576b"
             ],
             [
              0.6666666666666666,
              "#ed7953"
             ],
             [
              0.7777777777777778,
              "#fb9f3a"
             ],
             [
              0.8888888888888888,
              "#fdca26"
             ],
             [
              1,
              "#f0f921"
             ]
            ],
            "type": "heatmapgl"
           }
          ],
          "histogram": [
           {
            "marker": {
             "pattern": {
              "fillmode": "overlay",
              "size": 10,
              "solidity": 0.2
             }
            },
            "type": "histogram"
           }
          ],
          "histogram2d": [
           {
            "colorbar": {
             "outlinewidth": 0,
             "ticks": ""
            },
            "colorscale": [
             [
              0,
              "#0d0887"
             ],
             [
              0.1111111111111111,
              "#46039f"
             ],
             [
              0.2222222222222222,
              "#7201a8"
             ],
             [
              0.3333333333333333,
              "#9c179e"
             ],
             [
              0.4444444444444444,
              "#bd3786"
             ],
             [
              0.5555555555555556,
              "#d8576b"
             ],
             [
              0.6666666666666666,
              "#ed7953"
             ],
             [
              0.7777777777777778,
              "#fb9f3a"
             ],
             [
              0.8888888888888888,
              "#fdca26"
             ],
             [
              1,
              "#f0f921"
             ]
            ],
            "type": "histogram2d"
           }
          ],
          "histogram2dcontour": [
           {
            "colorbar": {
             "outlinewidth": 0,
             "ticks": ""
            },
            "colorscale": [
             [
              0,
              "#0d0887"
             ],
             [
              0.1111111111111111,
              "#46039f"
             ],
             [
              0.2222222222222222,
              "#7201a8"
             ],
             [
              0.3333333333333333,
              "#9c179e"
             ],
             [
              0.4444444444444444,
              "#bd3786"
             ],
             [
              0.5555555555555556,
              "#d8576b"
             ],
             [
              0.6666666666666666,
              "#ed7953"
             ],
             [
              0.7777777777777778,
              "#fb9f3a"
             ],
             [
              0.8888888888888888,
              "#fdca26"
             ],
             [
              1,
              "#f0f921"
             ]
            ],
            "type": "histogram2dcontour"
           }
          ],
          "mesh3d": [
           {
            "colorbar": {
             "outlinewidth": 0,
             "ticks": ""
            },
            "type": "mesh3d"
           }
          ],
          "parcoords": [
           {
            "line": {
             "colorbar": {
              "outlinewidth": 0,
              "ticks": ""
             }
            },
            "type": "parcoords"
           }
          ],
          "pie": [
           {
            "automargin": true,
            "type": "pie"
           }
          ],
          "scatter": [
           {
            "fillpattern": {
             "fillmode": "overlay",
             "size": 10,
             "solidity": 0.2
            },
            "type": "scatter"
           }
          ],
          "scatter3d": [
           {
            "line": {
             "colorbar": {
              "outlinewidth": 0,
              "ticks": ""
             }
            },
            "marker": {
             "colorbar": {
              "outlinewidth": 0,
              "ticks": ""
             }
            },
            "type": "scatter3d"
           }
          ],
          "scattercarpet": [
           {
            "marker": {
             "colorbar": {
              "outlinewidth": 0,
              "ticks": ""
             }
            },
            "type": "scattercarpet"
           }
          ],
          "scattergeo": [
           {
            "marker": {
             "colorbar": {
              "outlinewidth": 0,
              "ticks": ""
             }
            },
            "type": "scattergeo"
           }
          ],
          "scattergl": [
           {
            "marker": {
             "colorbar": {
              "outlinewidth": 0,
              "ticks": ""
             }
            },
            "type": "scattergl"
           }
          ],
          "scattermapbox": [
           {
            "marker": {
             "colorbar": {
              "outlinewidth": 0,
              "ticks": ""
             }
            },
            "type": "scattermapbox"
           }
          ],
          "scatterpolar": [
           {
            "marker": {
             "colorbar": {
              "outlinewidth": 0,
              "ticks": ""
             }
            },
            "type": "scatterpolar"
           }
          ],
          "scatterpolargl": [
           {
            "marker": {
             "colorbar": {
              "outlinewidth": 0,
              "ticks": ""
             }
            },
            "type": "scatterpolargl"
           }
          ],
          "scatterternary": [
           {
            "marker": {
             "colorbar": {
              "outlinewidth": 0,
              "ticks": ""
             }
            },
            "type": "scatterternary"
           }
          ],
          "surface": [
           {
            "colorbar": {
             "outlinewidth": 0,
             "ticks": ""
            },
            "colorscale": [
             [
              0,
              "#0d0887"
             ],
             [
              0.1111111111111111,
              "#46039f"
             ],
             [
              0.2222222222222222,
              "#7201a8"
             ],
             [
              0.3333333333333333,
              "#9c179e"
             ],
             [
              0.4444444444444444,
              "#bd3786"
             ],
             [
              0.5555555555555556,
              "#d8576b"
             ],
             [
              0.6666666666666666,
              "#ed7953"
             ],
             [
              0.7777777777777778,
              "#fb9f3a"
             ],
             [
              0.8888888888888888,
              "#fdca26"
             ],
             [
              1,
              "#f0f921"
             ]
            ],
            "type": "surface"
           }
          ],
          "table": [
           {
            "cells": {
             "fill": {
              "color": "#EBF0F8"
             },
             "line": {
              "color": "white"
             }
            },
            "header": {
             "fill": {
              "color": "#C8D4E3"
             },
             "line": {
              "color": "white"
             }
            },
            "type": "table"
           }
          ]
         },
         "layout": {
          "annotationdefaults": {
           "arrowcolor": "#2a3f5f",
           "arrowhead": 0,
           "arrowwidth": 1
          },
          "autotypenumbers": "strict",
          "coloraxis": {
           "colorbar": {
            "outlinewidth": 0,
            "ticks": ""
           }
          },
          "colorscale": {
           "diverging": [
            [
             0,
             "#8e0152"
            ],
            [
             0.1,
             "#c51b7d"
            ],
            [
             0.2,
             "#de77ae"
            ],
            [
             0.3,
             "#f1b6da"
            ],
            [
             0.4,
             "#fde0ef"
            ],
            [
             0.5,
             "#f7f7f7"
            ],
            [
             0.6,
             "#e6f5d0"
            ],
            [
             0.7,
             "#b8e186"
            ],
            [
             0.8,
             "#7fbc41"
            ],
            [
             0.9,
             "#4d9221"
            ],
            [
             1,
             "#276419"
            ]
           ],
           "sequential": [
            [
             0,
             "#0d0887"
            ],
            [
             0.1111111111111111,
             "#46039f"
            ],
            [
             0.2222222222222222,
             "#7201a8"
            ],
            [
             0.3333333333333333,
             "#9c179e"
            ],
            [
             0.4444444444444444,
             "#bd3786"
            ],
            [
             0.5555555555555556,
             "#d8576b"
            ],
            [
             0.6666666666666666,
             "#ed7953"
            ],
            [
             0.7777777777777778,
             "#fb9f3a"
            ],
            [
             0.8888888888888888,
             "#fdca26"
            ],
            [
             1,
             "#f0f921"
            ]
           ],
           "sequentialminus": [
            [
             0,
             "#0d0887"
            ],
            [
             0.1111111111111111,
             "#46039f"
            ],
            [
             0.2222222222222222,
             "#7201a8"
            ],
            [
             0.3333333333333333,
             "#9c179e"
            ],
            [
             0.4444444444444444,
             "#bd3786"
            ],
            [
             0.5555555555555556,
             "#d8576b"
            ],
            [
             0.6666666666666666,
             "#ed7953"
            ],
            [
             0.7777777777777778,
             "#fb9f3a"
            ],
            [
             0.8888888888888888,
             "#fdca26"
            ],
            [
             1,
             "#f0f921"
            ]
           ]
          },
          "colorway": [
           "#636efa",
           "#EF553B",
           "#00cc96",
           "#ab63fa",
           "#FFA15A",
           "#19d3f3",
           "#FF6692",
           "#B6E880",
           "#FF97FF",
           "#FECB52"
          ],
          "font": {
           "color": "#2a3f5f"
          },
          "geo": {
           "bgcolor": "white",
           "lakecolor": "white",
           "landcolor": "#E5ECF6",
           "showlakes": true,
           "showland": true,
           "subunitcolor": "white"
          },
          "hoverlabel": {
           "align": "left"
          },
          "hovermode": "closest",
          "mapbox": {
           "style": "light"
          },
          "paper_bgcolor": "white",
          "plot_bgcolor": "#E5ECF6",
          "polar": {
           "angularaxis": {
            "gridcolor": "white",
            "linecolor": "white",
            "ticks": ""
           },
           "bgcolor": "#E5ECF6",
           "radialaxis": {
            "gridcolor": "white",
            "linecolor": "white",
            "ticks": ""
           }
          },
          "scene": {
           "xaxis": {
            "backgroundcolor": "#E5ECF6",
            "gridcolor": "white",
            "gridwidth": 2,
            "linecolor": "white",
            "showbackground": true,
            "ticks": "",
            "zerolinecolor": "white"
           },
           "yaxis": {
            "backgroundcolor": "#E5ECF6",
            "gridcolor": "white",
            "gridwidth": 2,
            "linecolor": "white",
            "showbackground": true,
            "ticks": "",
            "zerolinecolor": "white"
           },
           "zaxis": {
            "backgroundcolor": "#E5ECF6",
            "gridcolor": "white",
            "gridwidth": 2,
            "linecolor": "white",
            "showbackground": true,
            "ticks": "",
            "zerolinecolor": "white"
           }
          },
          "shapedefaults": {
           "line": {
            "color": "#2a3f5f"
           }
          },
          "ternary": {
           "aaxis": {
            "gridcolor": "white",
            "linecolor": "white",
            "ticks": ""
           },
           "baxis": {
            "gridcolor": "white",
            "linecolor": "white",
            "ticks": ""
           },
           "bgcolor": "#E5ECF6",
           "caxis": {
            "gridcolor": "white",
            "linecolor": "white",
            "ticks": ""
           }
          },
          "title": {
           "x": 0.05
          },
          "xaxis": {
           "automargin": true,
           "gridcolor": "white",
           "linecolor": "white",
           "ticks": "",
           "title": {
            "standoff": 15
           },
           "zerolinecolor": "white",
           "zerolinewidth": 2
          },
          "yaxis": {
           "automargin": true,
           "gridcolor": "white",
           "linecolor": "white",
           "ticks": "",
           "title": {
            "standoff": 15
           },
           "zerolinecolor": "white",
           "zerolinewidth": 2
          }
         }
        },
        "xaxis": {
         "anchor": "y",
         "domain": [
          0,
          1
         ]
        },
        "yaxis": {
         "anchor": "x",
         "domain": [
          0,
          1
         ],
         "title": {
          "text": "performance"
         }
        }
       }
      }
     },
     "metadata": {},
     "output_type": "display_data"
    }
   ],
   "source": [
    "import plotly.express as px\n",
    "px.box(best_algos_df, y=\"performance\", color=\"best_algo\")"
   ]
  },
  {
   "cell_type": "code",
   "execution_count": 16,
   "metadata": {},
   "outputs": [
    {
     "name": "stderr",
     "output_type": "stream",
     "text": [
      "/var/folders/_9/703v72h927n214c13w1zxyr40000gn/T/ipykernel_70659/277894666.py:11: SettingWithCopyWarning:\n",
      "\n",
      "\n",
      "A value is trying to be set on a copy of a slice from a DataFrame.\n",
      "Try using .loc[row_indexer,col_indexer] = value instead\n",
      "\n",
      "See the caveats in the documentation: https://pandas.pydata.org/pandas-docs/stable/user_guide/indexing.html#returning-a-view-versus-a-copy\n",
      "\n",
      "/var/folders/_9/703v72h927n214c13w1zxyr40000gn/T/ipykernel_70659/277894666.py:12: SettingWithCopyWarning:\n",
      "\n",
      "\n",
      "A value is trying to be set on a copy of a slice from a DataFrame.\n",
      "Try using .loc[row_indexer,col_indexer] = value instead\n",
      "\n",
      "See the caveats in the documentation: https://pandas.pydata.org/pandas-docs/stable/user_guide/indexing.html#returning-a-view-versus-a-copy\n",
      "\n"
     ]
    }
   ],
   "source": [
    "from sklearn.model_selection import train_test_split\n",
    "from sklearn.linear_model import LogisticRegression\n",
    "from sklearn.preprocessing import StandardScaler\n",
    "\n",
    "\n",
    "train, test = train_test_split(instance_features, test_size=0.2, random_state=42)\n",
    "x_train, y_train = train.loc[:,train.columns != 'best_algo'], train['best_algo']\n",
    "x_test, y_test = test.loc[:,test.columns != 'best_algo'], test['best_algo']\n",
    "\n",
    "scaler = StandardScaler().fit(x_train[x_train.columns])\n",
    "x_train[x_train.columns] = scaler.transform(x_train[x_train.columns])\n",
    "x_test[x_test.columns] = scaler.transform(x_test[x_test.columns])\n",
    "\n",
    "logistic_model = LogisticRegression().fit(x_train,y_train)\n",
    "\n",
    "y_pred = logistic_model.predict(x_test)"
   ]
  },
  {
   "cell_type": "code",
   "execution_count": 17,
   "metadata": {},
   "outputs": [
    {
     "data": {
      "text/plain": [
       "array(['10_multistart_total_swap_optimal_neighbour_objective',\n",
       "       '10_multistart_total_swap_optimal_neighbour_objective',\n",
       "       '10_multistart_total_swap_optimal_neighbour_objective',\n",
       "       '10_multistart_total_swap_optimal_neighbour_objective',\n",
       "       '10_multistart_total_swap_optimal_neighbour_objective',\n",
       "       '10_multistart_total_swap_optimal_neighbour_objective',\n",
       "       '10_multistart_total_swap_optimal_neighbour_objective',\n",
       "       '10_multistart_total_swap_optimal_neighbour_objective',\n",
       "       '10_multistart_total_swap_optimal_neighbour_objective',\n",
       "       '10_multistart_total_swap_optimal_neighbour_objective',\n",
       "       '10_multistart_total_swap_optimal_neighbour_objective',\n",
       "       '10_multistart_total_swap_optimal_neighbour_objective',\n",
       "       '10_multistart_total_swap_optimal_neighbour_objective',\n",
       "       '10_multistart_total_swap_optimal_neighbour_objective',\n",
       "       '10_multistart_total_swap_optimal_neighbour_objective',\n",
       "       '10_multistart_total_swap_optimal_neighbour_objective',\n",
       "       '10_multistart_total_swap_optimal_neighbour_objective',\n",
       "       '10_multistart_total_swap_optimal_neighbour_objective',\n",
       "       'elshafei_constructive_greedy_local_search_objective',\n",
       "       '10_multistart_total_swap_optimal_neighbour_objective',\n",
       "       '10_multistart_total_swap_optimal_neighbour_objective',\n",
       "       '10_multistart_total_swap_optimal_neighbour_objective',\n",
       "       '10_multistart_total_swap_optimal_neighbour_objective',\n",
       "       '10_multistart_total_swap_optimal_neighbour_objective'],\n",
       "      dtype=object)"
      ]
     },
     "execution_count": 17,
     "metadata": {},
     "output_type": "execute_result"
    }
   ],
   "source": [
    "y_pred"
   ]
  },
  {
   "cell_type": "code",
   "execution_count": 18,
   "metadata": {},
   "outputs": [
    {
     "data": {
      "text/plain": [
       "had18      elshafei_constructive_greedy_local_search_obje...\n",
       "nug21      10_multistart_total_swap_optimal_neighbour_obj...\n",
       "esc16h     10_multistart_total_swap_optimal_neighbour_obj...\n",
       "lipa70b    10_multistart_total_swap_optimal_neighbour_obj...\n",
       "tai80a     10_multistart_total_swap_optimal_neighbour_obj...\n",
       "tai20b     10_multistart_total_swap_optimal_neighbour_obj...\n",
       "bur26d     10_multistart_total_swap_optimal_neighbour_obj...\n",
       "nug16a     10_multistart_total_swap_optimal_neighbour_obj...\n",
       "lipa90a    elshafei_constructive_greedy_local_search_obje...\n",
       "nug25      10_multistart_total_swap_optimal_neighbour_obj...\n",
       "rou20      elshafei_constructive_greedy_local_search_obje...\n",
       "tai60a     10_multistart_total_swap_optimal_neighbour_obj...\n",
       "tai35a     10_multistart_total_swap_optimal_neighbour_obj...\n",
       "nug22      10_multistart_total_swap_optimal_neighbour_obj...\n",
       "chr12b     10_multistart_total_swap_optimal_neighbour_obj...\n",
       "kra30a     10_multistart_total_swap_optimal_neighbour_obj...\n",
       "sko72      10_multistart_total_swap_optimal_neighbour_obj...\n",
       "tai256c    10_multistart_total_swap_optimal_neighbour_obj...\n",
       "esc128     10_multistart_total_swap_optimal_neighbour_obj...\n",
       "chr20b     10_multistart_total_swap_optimal_neighbour_obj...\n",
       "had14      10_multistart_total_swap_optimal_neighbour_obj...\n",
       "sko42      10_multistart_total_swap_optimal_neighbour_obj...\n",
       "sko64      10_multistart_total_swap_optimal_neighbour_obj...\n",
       "tho150     10_multistart_total_swap_optimal_neighbour_obj...\n",
       "Name: best_algo, dtype: category\n",
       "Categories (2, object): ['10_multistart_total_swap_optimal_neighbour_ob..., 'elshafei_constructive_greedy_local_search_obj...]"
      ]
     },
     "execution_count": 18,
     "metadata": {},
     "output_type": "execute_result"
    }
   ],
   "source": [
    "y_test"
   ]
  },
  {
   "cell_type": "code",
   "execution_count": 19,
   "metadata": {},
   "outputs": [
    {
     "name": "stdout",
     "output_type": "stream",
     "text": [
      "average prediction accuracy of 0.8333333333333334\n"
     ]
    }
   ],
   "source": [
    "print(f\"average prediction accuracy of {np.mean(y_test.values == y_pred)}\")"
   ]
  },
  {
   "cell_type": "code",
   "execution_count": 20,
   "metadata": {},
   "outputs": [
    {
     "data": {
      "text/plain": [
       "['elshafei_constructive_greedy_local_search_obj..., '10_multistart_total_swap_optimal_neighbour_ob...]\n",
       "Categories (2, object): ['10_multistart_total_swap_optimal_neighbour_ob..., 'elshafei_constructive_greedy_local_search_obj...]"
      ]
     },
     "execution_count": 20,
     "metadata": {},
     "output_type": "execute_result"
    }
   ],
   "source": [
    "y_train.unique()"
   ]
  },
  {
   "cell_type": "code",
   "execution_count": 21,
   "metadata": {},
   "outputs": [
    {
     "name": "stdout",
     "output_type": "stream",
     "text": [
      "Optimization terminated successfully.\n",
      "         Current function value: 0.652466\n",
      "         Iterations 5\n"
     ]
    },
    {
     "data": {
      "text/html": [
       "<table class=\"simpletable\">\n",
       "<caption>MNLogit Regression Results</caption>\n",
       "<tr>\n",
       "  <th>Dep. Variable:</th>           <td>y</td>        <th>  No. Observations:  </th>  <td>    95</td> \n",
       "</tr>\n",
       "<tr>\n",
       "  <th>Model:</th>                <td>MNLogit</td>     <th>  Df Residuals:      </th>  <td>    82</td> \n",
       "</tr>\n",
       "<tr>\n",
       "  <th>Method:</th>                 <td>MLE</td>       <th>  Df Model:          </th>  <td>    12</td> \n",
       "</tr>\n",
       "<tr>\n",
       "  <th>Date:</th>            <td>Sun, 08 Oct 2023</td> <th>  Pseudo R-squ.:     </th>  <td>-0.5605</td>\n",
       "</tr>\n",
       "<tr>\n",
       "  <th>Time:</th>                <td>11:24:59</td>     <th>  Log-Likelihood:    </th> <td> -61.984</td>\n",
       "</tr>\n",
       "<tr>\n",
       "  <th>converged:</th>             <td>True</td>       <th>  LL-Null:           </th> <td> -39.721</td>\n",
       "</tr>\n",
       "<tr>\n",
       "  <th>Covariance Type:</th>     <td>nonrobust</td>    <th>  LLR p-value:       </th>  <td> 1.000</td> \n",
       "</tr>\n",
       "</table>\n",
       "<table class=\"simpletable\">\n",
       "<tr>\n",
       "  <th>y=1</th>    <th>coef</th>     <th>std err</th>      <th>z</th>      <th>P>|z|</th>  <th>[0.025</th>    <th>0.975]</th>  \n",
       "</tr>\n",
       "<tr>\n",
       "  <th>x1</th>  <td>    0.4351</td> <td>    0.411</td> <td>    1.060</td> <td> 0.289</td> <td>   -0.370</td> <td>    1.240</td>\n",
       "</tr>\n",
       "<tr>\n",
       "  <th>x2</th>  <td>   -0.4197</td> <td>    0.847</td> <td>   -0.495</td> <td> 0.620</td> <td>   -2.080</td> <td>    1.241</td>\n",
       "</tr>\n",
       "<tr>\n",
       "  <th>x3</th>  <td>   -0.4748</td> <td>    0.521</td> <td>   -0.911</td> <td> 0.362</td> <td>   -1.496</td> <td>    0.546</td>\n",
       "</tr>\n",
       "<tr>\n",
       "  <th>x4</th>  <td>    0.1989</td> <td>    0.271</td> <td>    0.734</td> <td> 0.463</td> <td>   -0.332</td> <td>    0.730</td>\n",
       "</tr>\n",
       "<tr>\n",
       "  <th>x5</th>  <td>    0.0762</td> <td>    0.435</td> <td>    0.175</td> <td> 0.861</td> <td>   -0.777</td> <td>    0.929</td>\n",
       "</tr>\n",
       "<tr>\n",
       "  <th>x6</th>  <td>    0.8893</td> <td>    0.664</td> <td>    1.338</td> <td> 0.181</td> <td>   -0.413</td> <td>    2.192</td>\n",
       "</tr>\n",
       "<tr>\n",
       "  <th>x7</th>  <td>    0.7452</td> <td>    0.697</td> <td>    1.070</td> <td> 0.285</td> <td>   -0.620</td> <td>    2.111</td>\n",
       "</tr>\n",
       "<tr>\n",
       "  <th>x8</th>  <td>   -0.5448</td> <td>    0.729</td> <td>   -0.748</td> <td> 0.455</td> <td>   -1.973</td> <td>    0.883</td>\n",
       "</tr>\n",
       "<tr>\n",
       "  <th>x9</th>  <td>   -0.5863</td> <td>    0.911</td> <td>   -0.643</td> <td> 0.520</td> <td>   -2.373</td> <td>    1.200</td>\n",
       "</tr>\n",
       "<tr>\n",
       "  <th>x10</th> <td>    0.4361</td> <td>    1.972</td> <td>    0.221</td> <td> 0.825</td> <td>   -3.429</td> <td>    4.301</td>\n",
       "</tr>\n",
       "<tr>\n",
       "  <th>x11</th> <td>    0.1715</td> <td>    2.293</td> <td>    0.075</td> <td> 0.940</td> <td>   -4.323</td> <td>    4.666</td>\n",
       "</tr>\n",
       "<tr>\n",
       "  <th>x12</th> <td>   -0.2240</td> <td>    1.495</td> <td>   -0.150</td> <td> 0.881</td> <td>   -3.154</td> <td>    2.706</td>\n",
       "</tr>\n",
       "<tr>\n",
       "  <th>x13</th> <td>   -0.0054</td> <td>    1.923</td> <td>   -0.003</td> <td> 0.998</td> <td>   -3.775</td> <td>    3.764</td>\n",
       "</tr>\n",
       "</table>"
      ],
      "text/latex": [
       "\\begin{center}\n",
       "\\begin{tabular}{lclc}\n",
       "\\toprule\n",
       "\\textbf{Dep. Variable:}   &        y         & \\textbf{  No. Observations:  } &       95    \\\\\n",
       "\\textbf{Model:}           &     MNLogit      & \\textbf{  Df Residuals:      } &       82    \\\\\n",
       "\\textbf{Method:}          &       MLE        & \\textbf{  Df Model:          } &       12    \\\\\n",
       "\\textbf{Date:}            & Sun, 08 Oct 2023 & \\textbf{  Pseudo R-squ.:     } &  -0.5605    \\\\\n",
       "\\textbf{Time:}            &     11:24:59     & \\textbf{  Log-Likelihood:    } &   -61.984   \\\\\n",
       "\\textbf{converged:}       &       True       & \\textbf{  LL-Null:           } &   -39.721   \\\\\n",
       "\\textbf{Covariance Type:} &    nonrobust     & \\textbf{  LLR p-value:       } &    1.000    \\\\\n",
       "\\bottomrule\n",
       "\\end{tabular}\n",
       "\\begin{tabular}{ccccccc}\n",
       "\\textbf{y=1} & \\textbf{coef} & \\textbf{std err} & \\textbf{z} & \\textbf{P$> |$z$|$} & \\textbf{[0.025} & \\textbf{0.975]}  \\\\\n",
       "\\midrule\n",
       "\\bottomrule\n",
       "\\end{tabular}\n",
       "\\begin{tabular}{lcccccc}\n",
       "\\textbf{x1}  &       0.4351  &        0.411     &     1.060  &         0.289        &       -0.370    &        1.240     \\\\\n",
       "\\textbf{x2}  &      -0.4197  &        0.847     &    -0.495  &         0.620        &       -2.080    &        1.241     \\\\\n",
       "\\textbf{x3}  &      -0.4748  &        0.521     &    -0.911  &         0.362        &       -1.496    &        0.546     \\\\\n",
       "\\textbf{x4}  &       0.1989  &        0.271     &     0.734  &         0.463        &       -0.332    &        0.730     \\\\\n",
       "\\textbf{x5}  &       0.0762  &        0.435     &     0.175  &         0.861        &       -0.777    &        0.929     \\\\\n",
       "\\textbf{x6}  &       0.8893  &        0.664     &     1.338  &         0.181        &       -0.413    &        2.192     \\\\\n",
       "\\textbf{x7}  &       0.7452  &        0.697     &     1.070  &         0.285        &       -0.620    &        2.111     \\\\\n",
       "\\textbf{x8}  &      -0.5448  &        0.729     &    -0.748  &         0.455        &       -1.973    &        0.883     \\\\\n",
       "\\textbf{x9}  &      -0.5863  &        0.911     &    -0.643  &         0.520        &       -2.373    &        1.200     \\\\\n",
       "\\textbf{x10} &       0.4361  &        1.972     &     0.221  &         0.825        &       -3.429    &        4.301     \\\\\n",
       "\\textbf{x11} &       0.1715  &        2.293     &     0.075  &         0.940        &       -4.323    &        4.666     \\\\\n",
       "\\textbf{x12} &      -0.2240  &        1.495     &    -0.150  &         0.881        &       -3.154    &        2.706     \\\\\n",
       "\\textbf{x13} &      -0.0054  &        1.923     &    -0.003  &         0.998        &       -3.775    &        3.764     \\\\\n",
       "\\bottomrule\n",
       "\\end{tabular}\n",
       "%\\caption{MNLogit Regression Results}\n",
       "\\end{center}"
      ],
      "text/plain": [
       "<class 'statsmodels.iolib.summary.Summary'>\n",
       "\"\"\"\n",
       "                          MNLogit Regression Results                          \n",
       "==============================================================================\n",
       "Dep. Variable:                      y   No. Observations:                   95\n",
       "Model:                        MNLogit   Df Residuals:                       82\n",
       "Method:                           MLE   Df Model:                           12\n",
       "Date:                Sun, 08 Oct 2023   Pseudo R-squ.:                 -0.5605\n",
       "Time:                        11:24:59   Log-Likelihood:                -61.984\n",
       "converged:                       True   LL-Null:                       -39.721\n",
       "Covariance Type:            nonrobust   LLR p-value:                     1.000\n",
       "==============================================================================\n",
       "       y=1       coef    std err          z      P>|z|      [0.025      0.975]\n",
       "------------------------------------------------------------------------------\n",
       "x1             0.4351      0.411      1.060      0.289      -0.370       1.240\n",
       "x2            -0.4197      0.847     -0.495      0.620      -2.080       1.241\n",
       "x3            -0.4748      0.521     -0.911      0.362      -1.496       0.546\n",
       "x4             0.1989      0.271      0.734      0.463      -0.332       0.730\n",
       "x5             0.0762      0.435      0.175      0.861      -0.777       0.929\n",
       "x6             0.8893      0.664      1.338      0.181      -0.413       2.192\n",
       "x7             0.7452      0.697      1.070      0.285      -0.620       2.111\n",
       "x8            -0.5448      0.729     -0.748      0.455      -1.973       0.883\n",
       "x9            -0.5863      0.911     -0.643      0.520      -2.373       1.200\n",
       "x10            0.4361      1.972      0.221      0.825      -3.429       4.301\n",
       "x11            0.1715      2.293      0.075      0.940      -4.323       4.666\n",
       "x12           -0.2240      1.495     -0.150      0.881      -3.154       2.706\n",
       "x13           -0.0054      1.923     -0.003      0.998      -3.775       3.764\n",
       "==============================================================================\n",
       "\"\"\""
      ]
     },
     "execution_count": 21,
     "metadata": {},
     "output_type": "execute_result"
    }
   ],
   "source": [
    "from statsmodels.discrete.discrete_model import MNLogit\n",
    "\n",
    "logistic_model = MNLogit(np.asarray(y_train.cat.codes), np.asarray(x_train)).fit()\n",
    "logistic_model.summary() "
   ]
  },
  {
   "cell_type": "code",
   "execution_count": 22,
   "metadata": {},
   "outputs": [
    {
     "name": "stdout",
     "output_type": "stream",
     "text": [
      "         Current function value: 0.652606\n",
      "         Iterations: 35\n",
      "         Function evaluations: 36\n",
      "         Gradient evaluations: 36\n"
     ]
    },
    {
     "name": "stderr",
     "output_type": "stream",
     "text": [
      "/Users/ntarvand/.pyenv/versions/3.11.2/envs/BERI/lib/python3.11/site-packages/scipy/optimize/_optimize.py:1359: OptimizeWarning:\n",
      "\n",
      "Maximum number of iterations has been exceeded.\n",
      "\n",
      "/Users/ntarvand/.pyenv/versions/3.11.2/envs/BERI/lib/python3.11/site-packages/statsmodels/base/model.py:607: ConvergenceWarning:\n",
      "\n",
      "Maximum Likelihood optimization failed to converge. Check mle_retvals\n",
      "\n"
     ]
    },
    {
     "data": {
      "text/html": [
       "<table class=\"simpletable\">\n",
       "<caption>Logit Regression Results</caption>\n",
       "<tr>\n",
       "  <th>Dep. Variable:</th>           <td>y</td>        <th>  No. Observations:  </th>  <td>    95</td> \n",
       "</tr>\n",
       "<tr>\n",
       "  <th>Model:</th>                 <td>Logit</td>      <th>  Df Residuals:      </th>  <td>    82</td> \n",
       "</tr>\n",
       "<tr>\n",
       "  <th>Method:</th>                 <td>MLE</td>       <th>  Df Model:          </th>  <td>    12</td> \n",
       "</tr>\n",
       "<tr>\n",
       "  <th>Date:</th>            <td>Sun, 08 Oct 2023</td> <th>  Pseudo R-squ.:     </th>  <td>-0.5608</td>\n",
       "</tr>\n",
       "<tr>\n",
       "  <th>Time:</th>                <td>11:24:59</td>     <th>  Log-Likelihood:    </th> <td> -61.998</td>\n",
       "</tr>\n",
       "<tr>\n",
       "  <th>converged:</th>             <td>False</td>      <th>  LL-Null:           </th> <td> -39.721</td>\n",
       "</tr>\n",
       "<tr>\n",
       "  <th>Covariance Type:</th>     <td>nonrobust</td>    <th>  LLR p-value:       </th>  <td> 1.000</td> \n",
       "</tr>\n",
       "</table>\n",
       "<table class=\"simpletable\">\n",
       "<tr>\n",
       "   <td></td>      <th>coef</th>     <th>std err</th>      <th>z</th>      <th>P>|z|</th>  <th>[0.025</th>    <th>0.975]</th>  \n",
       "</tr>\n",
       "<tr>\n",
       "  <th>x1</th>  <td>    0.4343</td> <td>    0.410</td> <td>    1.058</td> <td> 0.290</td> <td>   -0.370</td> <td>    1.239</td>\n",
       "</tr>\n",
       "<tr>\n",
       "  <th>x2</th>  <td>   -0.4641</td> <td>    0.850</td> <td>   -0.546</td> <td> 0.585</td> <td>   -2.131</td> <td>    1.202</td>\n",
       "</tr>\n",
       "<tr>\n",
       "  <th>x3</th>  <td>   -0.4699</td> <td>    0.520</td> <td>   -0.903</td> <td> 0.366</td> <td>   -1.490</td> <td>    0.550</td>\n",
       "</tr>\n",
       "<tr>\n",
       "  <th>x4</th>  <td>    0.1958</td> <td>    0.271</td> <td>    0.723</td> <td> 0.469</td> <td>   -0.335</td> <td>    0.726</td>\n",
       "</tr>\n",
       "<tr>\n",
       "  <th>x5</th>  <td>    0.0649</td> <td>    0.433</td> <td>    0.150</td> <td> 0.881</td> <td>   -0.783</td> <td>    0.913</td>\n",
       "</tr>\n",
       "<tr>\n",
       "  <th>x6</th>  <td>    0.9169</td> <td>    0.666</td> <td>    1.376</td> <td> 0.169</td> <td>   -0.389</td> <td>    2.223</td>\n",
       "</tr>\n",
       "<tr>\n",
       "  <th>x7</th>  <td>    0.7240</td> <td>    0.690</td> <td>    1.049</td> <td> 0.294</td> <td>   -0.629</td> <td>    2.077</td>\n",
       "</tr>\n",
       "<tr>\n",
       "  <th>x8</th>  <td>   -0.4675</td> <td>    0.726</td> <td>   -0.644</td> <td> 0.520</td> <td>   -1.891</td> <td>    0.956</td>\n",
       "</tr>\n",
       "<tr>\n",
       "  <th>x9</th>  <td>   -0.5267</td> <td>    0.903</td> <td>   -0.584</td> <td> 0.560</td> <td>   -2.296</td> <td>    1.242</td>\n",
       "</tr>\n",
       "<tr>\n",
       "  <th>x10</th> <td>    0.1630</td> <td>    1.973</td> <td>    0.083</td> <td> 0.934</td> <td>   -3.704</td> <td>    4.030</td>\n",
       "</tr>\n",
       "<tr>\n",
       "  <th>x11</th> <td>    0.0307</td> <td>    2.287</td> <td>    0.013</td> <td> 0.989</td> <td>   -4.451</td> <td>    4.513</td>\n",
       "</tr>\n",
       "<tr>\n",
       "  <th>x12</th> <td>   -0.0166</td> <td>    1.497</td> <td>   -0.011</td> <td> 0.991</td> <td>   -2.950</td> <td>    2.917</td>\n",
       "</tr>\n",
       "<tr>\n",
       "  <th>x13</th> <td>    0.1231</td> <td>    1.923</td> <td>    0.064</td> <td> 0.949</td> <td>   -3.645</td> <td>    3.891</td>\n",
       "</tr>\n",
       "</table>"
      ],
      "text/latex": [
       "\\begin{center}\n",
       "\\begin{tabular}{lclc}\n",
       "\\toprule\n",
       "\\textbf{Dep. Variable:}   &        y         & \\textbf{  No. Observations:  } &       95    \\\\\n",
       "\\textbf{Model:}           &      Logit       & \\textbf{  Df Residuals:      } &       82    \\\\\n",
       "\\textbf{Method:}          &       MLE        & \\textbf{  Df Model:          } &       12    \\\\\n",
       "\\textbf{Date:}            & Sun, 08 Oct 2023 & \\textbf{  Pseudo R-squ.:     } &  -0.5608    \\\\\n",
       "\\textbf{Time:}            &     11:24:59     & \\textbf{  Log-Likelihood:    } &   -61.998   \\\\\n",
       "\\textbf{converged:}       &      False       & \\textbf{  LL-Null:           } &   -39.721   \\\\\n",
       "\\textbf{Covariance Type:} &    nonrobust     & \\textbf{  LLR p-value:       } &    1.000    \\\\\n",
       "\\bottomrule\n",
       "\\end{tabular}\n",
       "\\begin{tabular}{lcccccc}\n",
       "             & \\textbf{coef} & \\textbf{std err} & \\textbf{z} & \\textbf{P$> |$z$|$} & \\textbf{[0.025} & \\textbf{0.975]}  \\\\\n",
       "\\midrule\n",
       "\\textbf{x1}  &       0.4343  &        0.410     &     1.058  &         0.290        &       -0.370    &        1.239     \\\\\n",
       "\\textbf{x2}  &      -0.4641  &        0.850     &    -0.546  &         0.585        &       -2.131    &        1.202     \\\\\n",
       "\\textbf{x3}  &      -0.4699  &        0.520     &    -0.903  &         0.366        &       -1.490    &        0.550     \\\\\n",
       "\\textbf{x4}  &       0.1958  &        0.271     &     0.723  &         0.469        &       -0.335    &        0.726     \\\\\n",
       "\\textbf{x5}  &       0.0649  &        0.433     &     0.150  &         0.881        &       -0.783    &        0.913     \\\\\n",
       "\\textbf{x6}  &       0.9169  &        0.666     &     1.376  &         0.169        &       -0.389    &        2.223     \\\\\n",
       "\\textbf{x7}  &       0.7240  &        0.690     &     1.049  &         0.294        &       -0.629    &        2.077     \\\\\n",
       "\\textbf{x8}  &      -0.4675  &        0.726     &    -0.644  &         0.520        &       -1.891    &        0.956     \\\\\n",
       "\\textbf{x9}  &      -0.5267  &        0.903     &    -0.584  &         0.560        &       -2.296    &        1.242     \\\\\n",
       "\\textbf{x10} &       0.1630  &        1.973     &     0.083  &         0.934        &       -3.704    &        4.030     \\\\\n",
       "\\textbf{x11} &       0.0307  &        2.287     &     0.013  &         0.989        &       -4.451    &        4.513     \\\\\n",
       "\\textbf{x12} &      -0.0166  &        1.497     &    -0.011  &         0.991        &       -2.950    &        2.917     \\\\\n",
       "\\textbf{x13} &       0.1231  &        1.923     &     0.064  &         0.949        &       -3.645    &        3.891     \\\\\n",
       "\\bottomrule\n",
       "\\end{tabular}\n",
       "%\\caption{Logit Regression Results}\n",
       "\\end{center}"
      ],
      "text/plain": [
       "<class 'statsmodels.iolib.summary.Summary'>\n",
       "\"\"\"\n",
       "                           Logit Regression Results                           \n",
       "==============================================================================\n",
       "Dep. Variable:                      y   No. Observations:                   95\n",
       "Model:                          Logit   Df Residuals:                       82\n",
       "Method:                           MLE   Df Model:                           12\n",
       "Date:                Sun, 08 Oct 2023   Pseudo R-squ.:                 -0.5608\n",
       "Time:                        11:24:59   Log-Likelihood:                -61.998\n",
       "converged:                      False   LL-Null:                       -39.721\n",
       "Covariance Type:            nonrobust   LLR p-value:                     1.000\n",
       "==============================================================================\n",
       "                 coef    std err          z      P>|z|      [0.025      0.975]\n",
       "------------------------------------------------------------------------------\n",
       "x1             0.4343      0.410      1.058      0.290      -0.370       1.239\n",
       "x2            -0.4641      0.850     -0.546      0.585      -2.131       1.202\n",
       "x3            -0.4699      0.520     -0.903      0.366      -1.490       0.550\n",
       "x4             0.1958      0.271      0.723      0.469      -0.335       0.726\n",
       "x5             0.0649      0.433      0.150      0.881      -0.783       0.913\n",
       "x6             0.9169      0.666      1.376      0.169      -0.389       2.223\n",
       "x7             0.7240      0.690      1.049      0.294      -0.629       2.077\n",
       "x8            -0.4675      0.726     -0.644      0.520      -1.891       0.956\n",
       "x9            -0.5267      0.903     -0.584      0.560      -2.296       1.242\n",
       "x10            0.1630      1.973      0.083      0.934      -3.704       4.030\n",
       "x11            0.0307      2.287      0.013      0.989      -4.451       4.513\n",
       "x12           -0.0166      1.497     -0.011      0.991      -2.950       2.917\n",
       "x13            0.1231      1.923      0.064      0.949      -3.645       3.891\n",
       "==============================================================================\n",
       "\"\"\""
      ]
     },
     "execution_count": 22,
     "metadata": {},
     "output_type": "execute_result"
    }
   ],
   "source": [
    "import statsmodels.api as sm \n",
    "\n",
    "logistic_model = sm.Logit(np.asarray(y_train.cat.codes), np.asarray(x_train)).fit(method='BFGS')\n",
    "logistic_model.summary() "
   ]
  },
  {
   "cell_type": "code",
   "execution_count": null,
   "metadata": {},
   "outputs": [],
   "source": []
  }
 ],
 "metadata": {
  "kernelspec": {
   "display_name": "BERI",
   "language": "python",
   "name": "python3"
  },
  "language_info": {
   "codemirror_mode": {
    "name": "ipython",
    "version": 3
   },
   "file_extension": ".py",
   "mimetype": "text/x-python",
   "name": "python",
   "nbconvert_exporter": "python",
   "pygments_lexer": "ipython3",
   "version": "3.11.2"
  },
  "orig_nbformat": 4
 },
 "nbformat": 4,
 "nbformat_minor": 2
}
