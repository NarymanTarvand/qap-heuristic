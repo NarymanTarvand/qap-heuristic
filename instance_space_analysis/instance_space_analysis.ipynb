{
 "cells": [
  {
   "cell_type": "code",
   "execution_count": 16,
   "metadata": {},
   "outputs": [],
   "source": [
    "from typing import Dict"
   ]
  },
  {
   "cell_type": "code",
   "execution_count": 12,
   "metadata": {},
   "outputs": [],
   "source": [
    "import kmeans1d\n",
    "import pandas as pd"
   ]
  },
  {
   "cell_type": "code",
   "execution_count": 13,
   "metadata": {},
   "outputs": [],
   "source": [
    "def get_algorithms(results: pd.DataFrame) -> list:\n",
    "    return [column.replace(\"_objective\", \"\") for column in results.columns if column not in [\"instance\", \"solution_objective\"]]"
   ]
  },
  {
   "cell_type": "code",
   "execution_count": 14,
   "metadata": {},
   "outputs": [],
   "source": [
    "def compute_gap(results: pd.DataFrame) -> None:\n",
    "    \"\"\" inplace calculation of gap for all tested algorithms. \"\"\"\n",
    "    for column in results.columns:\n",
    "        if (\"objective\" in column) and (column != \"solution_objective\"):\n",
    "            results[f\"{column}_gap\"] = (results[column] - results[\"solution_objective\"])/results[\"solution_objective\"]"
   ]
  },
  {
   "cell_type": "code",
   "execution_count": 15,
   "metadata": {},
   "outputs": [],
   "source": [
    "def get_gap_list(results: pd.DataFrame, algorithms: list) -> list:\n",
    "    gap_list = []\n",
    "    for algorithm in algorithms:\n",
    "        gap_list += results[f\"{algorithm}_gap\"].to_list()"
   ]
  }
 ],
 "metadata": {
  "kernelspec": {
   "display_name": ".venv",
   "language": "python",
   "name": "python3"
  },
  "language_info": {
   "codemirror_mode": {
    "name": "ipython",
    "version": 3
   },
   "file_extension": ".py",
   "mimetype": "text/x-python",
   "name": "python",
   "nbconvert_exporter": "python",
   "pygments_lexer": "ipython3",
   "version": "3.11.1"
  },
  "orig_nbformat": 4
 },
 "nbformat": 4,
 "nbformat_minor": 2
}
