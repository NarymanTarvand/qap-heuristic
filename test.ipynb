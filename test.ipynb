{
 "cells": [
  {
   "cell_type": "code",
   "execution_count": 29,
   "metadata": {},
   "outputs": [],
   "source": [
    "from itertools import combinations\n",
    "import numpy as np"
   ]
  },
  {
   "cell_type": "code",
   "execution_count": 31,
   "metadata": {},
   "outputs": [],
   "source": [
    "def calculate_objective(\n",
    "    solution_encoding: np.array, flow: np.array, distance: np.array\n",
    ") -> int:\n",
    "    cost = 0\n",
    "\n",
    "    for object_i, location_i in enumerate(solution_encoding):\n",
    "        for object_j, location_j in enumerate(solution_encoding):\n",
    "            cost += flow[object_i, object_j] * distance[location_i, location_j]\n",
    "\n",
    "    return cost"
   ]
  },
  {
   "cell_type": "code",
   "execution_count": 32,
   "metadata": {},
   "outputs": [],
   "source": [
    "def adjacent_swap_generator(solution_encoding: list, n: int):\n",
    "    idx = 0\n",
    "    neighbour = solution_encoding.copy()\n",
    "    while idx + 1 <= n:\n",
    "        neighbour[idx], neighbour[(idx + 1) % n] = neighbour[(idx + 1) % n], neighbour[idx]\n",
    "        yield neighbour\n",
    "        neighbour[(idx + 1) % n], neighbour[idx] = neighbour[idx], neighbour[(idx + 1) % n]\n",
    "        idx += 1\n",
    "\n",
    "def generate_one_adjacent_swap_neighbourhood(solution_encoding: list, n: int) -> list:\n",
    "    neighbourhood = []\n",
    "    for idx, _ in enumerate(solution_encoding):\n",
    "        neighbour = solution_encoding.copy()\n",
    "        neighbour[idx], neighbour[(idx + 1) % n] = neighbour[(idx + 1) % n], neighbour[idx]\n",
    "        neighbourhood.append(neighbour)\n",
    "    return neighbourhood"
   ]
  },
  {
   "cell_type": "code",
   "execution_count": 34,
   "metadata": {},
   "outputs": [],
   "source": [
    "for _ in range(10000):   \n",
    "    x = adjacent_swap_generator(list(range(0, 256)), 256)\n",
    "    for encoding in x:\n",
    "        break"
   ]
  },
  {
   "cell_type": "code",
   "execution_count": 35,
   "metadata": {},
   "outputs": [],
   "source": [
    "def incremental_calculate_objective(current_encoding: np.array, n: int,\n",
    "                                    current_objective: int, swap_index: tuple,\n",
    "                                    flow: np.array, distance: np.array) -> int:\n",
    "    cost = current_objective\n",
    "    swap_dict = {swap_index[0] : swap_index[1], swap_index[1] : swap_index[0]}\n",
    "    for i in range(n):\n",
    "        if i in swap_index:\n",
    "            for j in range(n):\n",
    "                if not j in swap_index:\n",
    "                    cost -= flow[i, j] * distance[current_encoding[i], current_encoding[j]]\n",
    "                    \n",
    "                    cost += flow[i, j] * distance[current_encoding[swap_dict[i]], current_encoding[j]]\n",
    "                else:\n",
    "                    cost -= flow[i, j] * distance[current_encoding[i], current_encoding[j]]\n",
    "                    \n",
    "                    cost += flow[i, j] * distance[current_encoding[swap_dict[i]], current_encoding[swap_dict[j]]]\n",
    "        else:\n",
    "            cost -= flow[i, swap_index[0]] * distance[current_encoding[i], current_encoding[swap_index[0]]]\n",
    "            cost -= flow[i, swap_index[1]] * distance[current_encoding[i], current_encoding[swap_index[1]]]\n",
    "            \n",
    "            cost += flow[i, swap_index[0]] * distance[current_encoding[i], current_encoding[swap_index[1]]]\n",
    "            cost += flow[i, swap_index[1]] * distance[current_encoding[i], current_encoding[swap_index[0]]]\n",
    "\n",
    "    return cost\n"
   ]
  },
  {
   "cell_type": "code",
   "execution_count": 36,
   "metadata": {},
   "outputs": [],
   "source": [
    "flow = np.array([[1,9,3], [4,5,6], [7,8,9]])\n",
    "distance = np.array([[1,2,3], [4,5,6], [7,8,9]])"
   ]
  },
  {
   "cell_type": "code",
   "execution_count": 37,
   "metadata": {},
   "outputs": [
    {
     "data": {
      "text/plain": [
       "299"
      ]
     },
     "execution_count": 37,
     "metadata": {},
     "output_type": "execute_result"
    }
   ],
   "source": [
    "calculate_objective([0,1,2], flow, distance)"
   ]
  },
  {
   "cell_type": "code",
   "execution_count": 38,
   "metadata": {},
   "outputs": [
    {
     "data": {
      "text/plain": [
       "283"
      ]
     },
     "execution_count": 38,
     "metadata": {},
     "output_type": "execute_result"
    }
   ],
   "source": [
    "calculate_objective([1,0,2], flow, distance)"
   ]
  },
  {
   "cell_type": "code",
   "execution_count": 40,
   "metadata": {},
   "outputs": [
    {
     "data": {
      "text/plain": [
       "283"
      ]
     },
     "execution_count": 40,
     "metadata": {},
     "output_type": "execute_result"
    }
   ],
   "source": [
    "incremental_calculate_objective([0,1,2], 3, 299, (0, 1), flow, distance)"
   ]
  }
 ],
 "metadata": {
  "kernelspec": {
   "display_name": ".venv",
   "language": "python",
   "name": "python3"
  },
  "language_info": {
   "codemirror_mode": {
    "name": "ipython",
    "version": 3
   },
   "file_extension": ".py",
   "mimetype": "text/x-python",
   "name": "python",
   "nbconvert_exporter": "python",
   "pygments_lexer": "ipython3",
   "version": "3.11.1"
  },
  "orig_nbformat": 4
 },
 "nbformat": 4,
 "nbformat_minor": 2
}
