{
 "cells": [
  {
   "cell_type": "code",
   "execution_count": 1,
   "metadata": {},
   "outputs": [
    {
     "data": {
      "text/html": [
       "<div>\n",
       "<style scoped>\n",
       "    .dataframe tbody tr th:only-of-type {\n",
       "        vertical-align: middle;\n",
       "    }\n",
       "\n",
       "    .dataframe tbody tr th {\n",
       "        vertical-align: top;\n",
       "    }\n",
       "\n",
       "    .dataframe thead th {\n",
       "        text-align: right;\n",
       "    }\n",
       "</style>\n",
       "<table border=\"1\" class=\"dataframe\">\n",
       "  <thead>\n",
       "    <tr style=\"text-align: right;\">\n",
       "      <th></th>\n",
       "      <th>elshafei_constructive_greedy_local_search_objective</th>\n",
       "      <th>constructive_greedy_local_search_objective</th>\n",
       "      <th>5_multistart_adjacent_swap_optimal_neighbour_objective</th>\n",
       "      <th>5_multistart_adjacent_swap_first_improvement_objective</th>\n",
       "      <th>5_dissimilarity_local_search_adjacent_swap_objective</th>\n",
       "      <th>5_multistart_total_swap_optimal_neighbour_objective</th>\n",
       "      <th>5_multistart_total_swap_first_improvement_objective</th>\n",
       "      <th>5_dissimilarity_local_search_total_swap_objective</th>\n",
       "      <th>10_multistart_adjacent_swap_optimal_neighbour_objective</th>\n",
       "      <th>10_multistart_adjacent_swap_first_improvement_objective</th>\n",
       "      <th>...</th>\n",
       "      <th>10_dissimilarity_local_search_total_swap_objective</th>\n",
       "      <th>25_multistart_adjacent_swap_optimal_neighbour_objective</th>\n",
       "      <th>25_multistart_adjacent_swap_first_improvement_objective</th>\n",
       "      <th>25_dissimilarity_local_search_adjacent_swap_objective</th>\n",
       "      <th>25_multistart_total_swap_optimal_neighbour_objective</th>\n",
       "      <th>25_multistart_total_swap_first_improvement_objective</th>\n",
       "      <th>25_dissimilarity_local_search_total_swap_objective</th>\n",
       "      <th>grasp_local_search</th>\n",
       "      <th>grasp_simulated_annealing</th>\n",
       "      <th>genetic_algorithm</th>\n",
       "    </tr>\n",
       "    <tr>\n",
       "      <th>instance</th>\n",
       "      <th></th>\n",
       "      <th></th>\n",
       "      <th></th>\n",
       "      <th></th>\n",
       "      <th></th>\n",
       "      <th></th>\n",
       "      <th></th>\n",
       "      <th></th>\n",
       "      <th></th>\n",
       "      <th></th>\n",
       "      <th></th>\n",
       "      <th></th>\n",
       "      <th></th>\n",
       "      <th></th>\n",
       "      <th></th>\n",
       "      <th></th>\n",
       "      <th></th>\n",
       "      <th></th>\n",
       "      <th></th>\n",
       "      <th></th>\n",
       "      <th></th>\n",
       "    </tr>\n",
       "  </thead>\n",
       "  <tbody>\n",
       "    <tr>\n",
       "      <th>tai256c</th>\n",
       "      <td>0.003676</td>\n",
       "      <td>0.004289</td>\n",
       "      <td>0.168613</td>\n",
       "      <td>0.168613</td>\n",
       "      <td>0.168613</td>\n",
       "      <td>0.003465</td>\n",
       "      <td>0.003465</td>\n",
       "      <td>0.003465</td>\n",
       "      <td>0.158550</td>\n",
       "      <td>0.158550</td>\n",
       "      <td>...</td>\n",
       "      <td>0.002624</td>\n",
       "      <td>0.166798</td>\n",
       "      <td>0.166798</td>\n",
       "      <td>0.166798</td>\n",
       "      <td>0.003272</td>\n",
       "      <td>0.003272</td>\n",
       "      <td>0.003272</td>\n",
       "      <td>0.002989</td>\n",
       "      <td>0.158515</td>\n",
       "      <td>0.126427</td>\n",
       "    </tr>\n",
       "    <tr>\n",
       "      <th>nug16b</th>\n",
       "      <td>0.027419</td>\n",
       "      <td>0.054839</td>\n",
       "      <td>0.148387</td>\n",
       "      <td>0.148387</td>\n",
       "      <td>0.148387</td>\n",
       "      <td>0.019355</td>\n",
       "      <td>0.019355</td>\n",
       "      <td>0.019355</td>\n",
       "      <td>0.122581</td>\n",
       "      <td>0.122581</td>\n",
       "      <td>...</td>\n",
       "      <td>0.054839</td>\n",
       "      <td>0.096774</td>\n",
       "      <td>0.096774</td>\n",
       "      <td>0.096774</td>\n",
       "      <td>0.020968</td>\n",
       "      <td>0.020968</td>\n",
       "      <td>0.020968</td>\n",
       "      <td>0.009677</td>\n",
       "      <td>0.298387</td>\n",
       "      <td>0.146774</td>\n",
       "    </tr>\n",
       "    <tr>\n",
       "      <th>tai35b</th>\n",
       "      <td>0.019450</td>\n",
       "      <td>0.063860</td>\n",
       "      <td>0.324254</td>\n",
       "      <td>0.324254</td>\n",
       "      <td>0.324254</td>\n",
       "      <td>0.093879</td>\n",
       "      <td>0.093879</td>\n",
       "      <td>0.093879</td>\n",
       "      <td>0.519933</td>\n",
       "      <td>0.519933</td>\n",
       "      <td>...</td>\n",
       "      <td>0.015643</td>\n",
       "      <td>0.443636</td>\n",
       "      <td>0.443636</td>\n",
       "      <td>0.443636</td>\n",
       "      <td>0.016018</td>\n",
       "      <td>0.016018</td>\n",
       "      <td>0.016018</td>\n",
       "      <td>0.005118</td>\n",
       "      <td>0.579194</td>\n",
       "      <td>0.340723</td>\n",
       "    </tr>\n",
       "    <tr>\n",
       "      <th>chr22a</th>\n",
       "      <td>0.033788</td>\n",
       "      <td>0.061404</td>\n",
       "      <td>0.434048</td>\n",
       "      <td>0.434048</td>\n",
       "      <td>0.434048</td>\n",
       "      <td>0.091618</td>\n",
       "      <td>0.091618</td>\n",
       "      <td>0.091618</td>\n",
       "      <td>0.306368</td>\n",
       "      <td>0.306368</td>\n",
       "      <td>...</td>\n",
       "      <td>0.051657</td>\n",
       "      <td>0.351852</td>\n",
       "      <td>0.351852</td>\n",
       "      <td>0.351852</td>\n",
       "      <td>0.096491</td>\n",
       "      <td>0.096491</td>\n",
       "      <td>0.096491</td>\n",
       "      <td>0.058155</td>\n",
       "      <td>1.068876</td>\n",
       "      <td>0.427225</td>\n",
       "    </tr>\n",
       "    <tr>\n",
       "      <th>esc16h</th>\n",
       "      <td>0.000000</td>\n",
       "      <td>0.000000</td>\n",
       "      <td>0.130522</td>\n",
       "      <td>0.130522</td>\n",
       "      <td>0.130522</td>\n",
       "      <td>0.000000</td>\n",
       "      <td>0.000000</td>\n",
       "      <td>0.000000</td>\n",
       "      <td>0.186747</td>\n",
       "      <td>0.186747</td>\n",
       "      <td>...</td>\n",
       "      <td>0.000000</td>\n",
       "      <td>0.124498</td>\n",
       "      <td>0.124498</td>\n",
       "      <td>0.124498</td>\n",
       "      <td>0.000000</td>\n",
       "      <td>0.000000</td>\n",
       "      <td>0.000000</td>\n",
       "      <td>0.000000</td>\n",
       "      <td>0.174699</td>\n",
       "      <td>0.014056</td>\n",
       "    </tr>\n",
       "    <tr>\n",
       "      <th>...</th>\n",
       "      <td>...</td>\n",
       "      <td>...</td>\n",
       "      <td>...</td>\n",
       "      <td>...</td>\n",
       "      <td>...</td>\n",
       "      <td>...</td>\n",
       "      <td>...</td>\n",
       "      <td>...</td>\n",
       "      <td>...</td>\n",
       "      <td>...</td>\n",
       "      <td>...</td>\n",
       "      <td>...</td>\n",
       "      <td>...</td>\n",
       "      <td>...</td>\n",
       "      <td>...</td>\n",
       "      <td>...</td>\n",
       "      <td>...</td>\n",
       "      <td>...</td>\n",
       "      <td>...</td>\n",
       "      <td>...</td>\n",
       "      <td>...</td>\n",
       "    </tr>\n",
       "    <tr>\n",
       "      <th>rou12</th>\n",
       "      <td>0.056927</td>\n",
       "      <td>0.072017</td>\n",
       "      <td>0.165840</td>\n",
       "      <td>0.165840</td>\n",
       "      <td>0.165840</td>\n",
       "      <td>0.051832</td>\n",
       "      <td>0.051832</td>\n",
       "      <td>0.051832</td>\n",
       "      <td>0.075303</td>\n",
       "      <td>0.075303</td>\n",
       "      <td>...</td>\n",
       "      <td>0.001376</td>\n",
       "      <td>0.070607</td>\n",
       "      <td>0.070607</td>\n",
       "      <td>0.070607</td>\n",
       "      <td>0.000000</td>\n",
       "      <td>0.000000</td>\n",
       "      <td>0.000000</td>\n",
       "      <td>0.011065</td>\n",
       "      <td>0.193208</td>\n",
       "      <td>0.088686</td>\n",
       "    </tr>\n",
       "    <tr>\n",
       "      <th>esc16d</th>\n",
       "      <td>0.000000</td>\n",
       "      <td>0.000000</td>\n",
       "      <td>0.500000</td>\n",
       "      <td>0.500000</td>\n",
       "      <td>0.500000</td>\n",
       "      <td>0.000000</td>\n",
       "      <td>0.000000</td>\n",
       "      <td>0.000000</td>\n",
       "      <td>0.500000</td>\n",
       "      <td>0.500000</td>\n",
       "      <td>...</td>\n",
       "      <td>0.000000</td>\n",
       "      <td>0.000000</td>\n",
       "      <td>0.000000</td>\n",
       "      <td>0.000000</td>\n",
       "      <td>0.000000</td>\n",
       "      <td>0.000000</td>\n",
       "      <td>0.000000</td>\n",
       "      <td>0.000000</td>\n",
       "      <td>1.500000</td>\n",
       "      <td>0.375000</td>\n",
       "    </tr>\n",
       "    <tr>\n",
       "      <th>tai20b</th>\n",
       "      <td>0.010278</td>\n",
       "      <td>0.299035</td>\n",
       "      <td>0.783443</td>\n",
       "      <td>0.783443</td>\n",
       "      <td>0.783443</td>\n",
       "      <td>0.016162</td>\n",
       "      <td>0.016162</td>\n",
       "      <td>0.016162</td>\n",
       "      <td>0.674223</td>\n",
       "      <td>0.674223</td>\n",
       "      <td>...</td>\n",
       "      <td>0.009204</td>\n",
       "      <td>0.179894</td>\n",
       "      <td>0.179894</td>\n",
       "      <td>0.179894</td>\n",
       "      <td>0.000000</td>\n",
       "      <td>0.000000</td>\n",
       "      <td>0.000000</td>\n",
       "      <td>0.003971</td>\n",
       "      <td>0.852005</td>\n",
       "      <td>0.141792</td>\n",
       "    </tr>\n",
       "    <tr>\n",
       "      <th>lipa80a</th>\n",
       "      <td>0.008768</td>\n",
       "      <td>0.008160</td>\n",
       "      <td>0.014337</td>\n",
       "      <td>0.014337</td>\n",
       "      <td>0.014337</td>\n",
       "      <td>0.007974</td>\n",
       "      <td>0.007974</td>\n",
       "      <td>0.007974</td>\n",
       "      <td>0.014108</td>\n",
       "      <td>0.014108</td>\n",
       "      <td>...</td>\n",
       "      <td>0.007694</td>\n",
       "      <td>0.014443</td>\n",
       "      <td>0.014443</td>\n",
       "      <td>0.014443</td>\n",
       "      <td>0.007575</td>\n",
       "      <td>0.007575</td>\n",
       "      <td>0.007575</td>\n",
       "      <td>0.007895</td>\n",
       "      <td>0.019258</td>\n",
       "      <td>0.018073</td>\n",
       "    </tr>\n",
       "    <tr>\n",
       "      <th>esc16e</th>\n",
       "      <td>0.000000</td>\n",
       "      <td>0.000000</td>\n",
       "      <td>0.214286</td>\n",
       "      <td>0.214286</td>\n",
       "      <td>0.214286</td>\n",
       "      <td>0.071429</td>\n",
       "      <td>0.071429</td>\n",
       "      <td>0.071429</td>\n",
       "      <td>0.285714</td>\n",
       "      <td>0.285714</td>\n",
       "      <td>...</td>\n",
       "      <td>0.000000</td>\n",
       "      <td>0.142857</td>\n",
       "      <td>0.142857</td>\n",
       "      <td>0.142857</td>\n",
       "      <td>0.000000</td>\n",
       "      <td>0.000000</td>\n",
       "      <td>0.000000</td>\n",
       "      <td>0.000000</td>\n",
       "      <td>0.428571</td>\n",
       "      <td>0.142857</td>\n",
       "    </tr>\n",
       "  </tbody>\n",
       "</table>\n",
       "<p>128 rows × 23 columns</p>\n",
       "</div>"
      ],
      "text/plain": [
       "          elshafei_constructive_greedy_local_search_objective   \n",
       "instance                                                        \n",
       "tai256c                                            0.003676    \\\n",
       "nug16b                                             0.027419     \n",
       "tai35b                                             0.019450     \n",
       "chr22a                                             0.033788     \n",
       "esc16h                                             0.000000     \n",
       "...                                                     ...     \n",
       "rou12                                              0.056927     \n",
       "esc16d                                             0.000000     \n",
       "tai20b                                             0.010278     \n",
       "lipa80a                                            0.008768     \n",
       "esc16e                                             0.000000     \n",
       "\n",
       "          constructive_greedy_local_search_objective   \n",
       "instance                                               \n",
       "tai256c                                     0.004289  \\\n",
       "nug16b                                      0.054839   \n",
       "tai35b                                      0.063860   \n",
       "chr22a                                      0.061404   \n",
       "esc16h                                      0.000000   \n",
       "...                                              ...   \n",
       "rou12                                       0.072017   \n",
       "esc16d                                      0.000000   \n",
       "tai20b                                      0.299035   \n",
       "lipa80a                                     0.008160   \n",
       "esc16e                                      0.000000   \n",
       "\n",
       "          5_multistart_adjacent_swap_optimal_neighbour_objective   \n",
       "instance                                                           \n",
       "tai256c                                            0.168613       \\\n",
       "nug16b                                             0.148387        \n",
       "tai35b                                             0.324254        \n",
       "chr22a                                             0.434048        \n",
       "esc16h                                             0.130522        \n",
       "...                                                     ...        \n",
       "rou12                                              0.165840        \n",
       "esc16d                                             0.500000        \n",
       "tai20b                                             0.783443        \n",
       "lipa80a                                            0.014337        \n",
       "esc16e                                             0.214286        \n",
       "\n",
       "          5_multistart_adjacent_swap_first_improvement_objective   \n",
       "instance                                                           \n",
       "tai256c                                            0.168613       \\\n",
       "nug16b                                             0.148387        \n",
       "tai35b                                             0.324254        \n",
       "chr22a                                             0.434048        \n",
       "esc16h                                             0.130522        \n",
       "...                                                     ...        \n",
       "rou12                                              0.165840        \n",
       "esc16d                                             0.500000        \n",
       "tai20b                                             0.783443        \n",
       "lipa80a                                            0.014337        \n",
       "esc16e                                             0.214286        \n",
       "\n",
       "          5_dissimilarity_local_search_adjacent_swap_objective   \n",
       "instance                                                         \n",
       "tai256c                                            0.168613     \\\n",
       "nug16b                                             0.148387      \n",
       "tai35b                                             0.324254      \n",
       "chr22a                                             0.434048      \n",
       "esc16h                                             0.130522      \n",
       "...                                                     ...      \n",
       "rou12                                              0.165840      \n",
       "esc16d                                             0.500000      \n",
       "tai20b                                             0.783443      \n",
       "lipa80a                                            0.014337      \n",
       "esc16e                                             0.214286      \n",
       "\n",
       "          5_multistart_total_swap_optimal_neighbour_objective   \n",
       "instance                                                        \n",
       "tai256c                                            0.003465    \\\n",
       "nug16b                                             0.019355     \n",
       "tai35b                                             0.093879     \n",
       "chr22a                                             0.091618     \n",
       "esc16h                                             0.000000     \n",
       "...                                                     ...     \n",
       "rou12                                              0.051832     \n",
       "esc16d                                             0.000000     \n",
       "tai20b                                             0.016162     \n",
       "lipa80a                                            0.007974     \n",
       "esc16e                                             0.071429     \n",
       "\n",
       "          5_multistart_total_swap_first_improvement_objective   \n",
       "instance                                                        \n",
       "tai256c                                            0.003465    \\\n",
       "nug16b                                             0.019355     \n",
       "tai35b                                             0.093879     \n",
       "chr22a                                             0.091618     \n",
       "esc16h                                             0.000000     \n",
       "...                                                     ...     \n",
       "rou12                                              0.051832     \n",
       "esc16d                                             0.000000     \n",
       "tai20b                                             0.016162     \n",
       "lipa80a                                            0.007974     \n",
       "esc16e                                             0.071429     \n",
       "\n",
       "          5_dissimilarity_local_search_total_swap_objective   \n",
       "instance                                                      \n",
       "tai256c                                            0.003465  \\\n",
       "nug16b                                             0.019355   \n",
       "tai35b                                             0.093879   \n",
       "chr22a                                             0.091618   \n",
       "esc16h                                             0.000000   \n",
       "...                                                     ...   \n",
       "rou12                                              0.051832   \n",
       "esc16d                                             0.000000   \n",
       "tai20b                                             0.016162   \n",
       "lipa80a                                            0.007974   \n",
       "esc16e                                             0.071429   \n",
       "\n",
       "          10_multistart_adjacent_swap_optimal_neighbour_objective   \n",
       "instance                                                            \n",
       "tai256c                                            0.158550        \\\n",
       "nug16b                                             0.122581         \n",
       "tai35b                                             0.519933         \n",
       "chr22a                                             0.306368         \n",
       "esc16h                                             0.186747         \n",
       "...                                                     ...         \n",
       "rou12                                              0.075303         \n",
       "esc16d                                             0.500000         \n",
       "tai20b                                             0.674223         \n",
       "lipa80a                                            0.014108         \n",
       "esc16e                                             0.285714         \n",
       "\n",
       "          10_multistart_adjacent_swap_first_improvement_objective  ...   \n",
       "instance                                                           ...   \n",
       "tai256c                                            0.158550        ...  \\\n",
       "nug16b                                             0.122581        ...   \n",
       "tai35b                                             0.519933        ...   \n",
       "chr22a                                             0.306368        ...   \n",
       "esc16h                                             0.186747        ...   \n",
       "...                                                     ...        ...   \n",
       "rou12                                              0.075303        ...   \n",
       "esc16d                                             0.500000        ...   \n",
       "tai20b                                             0.674223        ...   \n",
       "lipa80a                                            0.014108        ...   \n",
       "esc16e                                             0.285714        ...   \n",
       "\n",
       "          10_dissimilarity_local_search_total_swap_objective   \n",
       "instance                                                       \n",
       "tai256c                                            0.002624   \\\n",
       "nug16b                                             0.054839    \n",
       "tai35b                                             0.015643    \n",
       "chr22a                                             0.051657    \n",
       "esc16h                                             0.000000    \n",
       "...                                                     ...    \n",
       "rou12                                              0.001376    \n",
       "esc16d                                             0.000000    \n",
       "tai20b                                             0.009204    \n",
       "lipa80a                                            0.007694    \n",
       "esc16e                                             0.000000    \n",
       "\n",
       "          25_multistart_adjacent_swap_optimal_neighbour_objective   \n",
       "instance                                                            \n",
       "tai256c                                            0.166798        \\\n",
       "nug16b                                             0.096774         \n",
       "tai35b                                             0.443636         \n",
       "chr22a                                             0.351852         \n",
       "esc16h                                             0.124498         \n",
       "...                                                     ...         \n",
       "rou12                                              0.070607         \n",
       "esc16d                                             0.000000         \n",
       "tai20b                                             0.179894         \n",
       "lipa80a                                            0.014443         \n",
       "esc16e                                             0.142857         \n",
       "\n",
       "          25_multistart_adjacent_swap_first_improvement_objective   \n",
       "instance                                                            \n",
       "tai256c                                            0.166798        \\\n",
       "nug16b                                             0.096774         \n",
       "tai35b                                             0.443636         \n",
       "chr22a                                             0.351852         \n",
       "esc16h                                             0.124498         \n",
       "...                                                     ...         \n",
       "rou12                                              0.070607         \n",
       "esc16d                                             0.000000         \n",
       "tai20b                                             0.179894         \n",
       "lipa80a                                            0.014443         \n",
       "esc16e                                             0.142857         \n",
       "\n",
       "          25_dissimilarity_local_search_adjacent_swap_objective   \n",
       "instance                                                          \n",
       "tai256c                                            0.166798      \\\n",
       "nug16b                                             0.096774       \n",
       "tai35b                                             0.443636       \n",
       "chr22a                                             0.351852       \n",
       "esc16h                                             0.124498       \n",
       "...                                                     ...       \n",
       "rou12                                              0.070607       \n",
       "esc16d                                             0.000000       \n",
       "tai20b                                             0.179894       \n",
       "lipa80a                                            0.014443       \n",
       "esc16e                                             0.142857       \n",
       "\n",
       "          25_multistart_total_swap_optimal_neighbour_objective   \n",
       "instance                                                         \n",
       "tai256c                                            0.003272     \\\n",
       "nug16b                                             0.020968      \n",
       "tai35b                                             0.016018      \n",
       "chr22a                                             0.096491      \n",
       "esc16h                                             0.000000      \n",
       "...                                                     ...      \n",
       "rou12                                              0.000000      \n",
       "esc16d                                             0.000000      \n",
       "tai20b                                             0.000000      \n",
       "lipa80a                                            0.007575      \n",
       "esc16e                                             0.000000      \n",
       "\n",
       "          25_multistart_total_swap_first_improvement_objective   \n",
       "instance                                                         \n",
       "tai256c                                            0.003272     \\\n",
       "nug16b                                             0.020968      \n",
       "tai35b                                             0.016018      \n",
       "chr22a                                             0.096491      \n",
       "esc16h                                             0.000000      \n",
       "...                                                     ...      \n",
       "rou12                                              0.000000      \n",
       "esc16d                                             0.000000      \n",
       "tai20b                                             0.000000      \n",
       "lipa80a                                            0.007575      \n",
       "esc16e                                             0.000000      \n",
       "\n",
       "          25_dissimilarity_local_search_total_swap_objective   \n",
       "instance                                                       \n",
       "tai256c                                            0.003272   \\\n",
       "nug16b                                             0.020968    \n",
       "tai35b                                             0.016018    \n",
       "chr22a                                             0.096491    \n",
       "esc16h                                             0.000000    \n",
       "...                                                     ...    \n",
       "rou12                                              0.000000    \n",
       "esc16d                                             0.000000    \n",
       "tai20b                                             0.000000    \n",
       "lipa80a                                            0.007575    \n",
       "esc16e                                             0.000000    \n",
       "\n",
       "          grasp_local_search  grasp_simulated_annealing  genetic_algorithm  \n",
       "instance                                                                    \n",
       "tai256c             0.002989                   0.158515           0.126427  \n",
       "nug16b              0.009677                   0.298387           0.146774  \n",
       "tai35b              0.005118                   0.579194           0.340723  \n",
       "chr22a              0.058155                   1.068876           0.427225  \n",
       "esc16h              0.000000                   0.174699           0.014056  \n",
       "...                      ...                        ...                ...  \n",
       "rou12               0.011065                   0.193208           0.088686  \n",
       "esc16d              0.000000                   1.500000           0.375000  \n",
       "tai20b              0.003971                   0.852005           0.141792  \n",
       "lipa80a             0.007895                   0.019258           0.018073  \n",
       "esc16e              0.000000                   0.428571           0.142857  \n",
       "\n",
       "[128 rows x 23 columns]"
      ]
     },
     "execution_count": 1,
     "metadata": {},
     "output_type": "execute_result"
    }
   ],
   "source": [
    "import pandas as pd \n",
    "import numpy as np\n",
    "from sklearn.cluster import KMeans\n",
    "from sklearn.decomposition import PCA\n",
    "import plotly.express as px\n",
    "\n",
    "data = pd.read_csv(\"data/heuristic_performance_final_scratch.csv\")\n",
    "data.set_index(\"instance\", inplace=True)\n",
    "data"
   ]
  },
  {
   "cell_type": "markdown",
   "metadata": {},
   "source": [
    "## What makes a particular instance bad across all algos"
   ]
  },
  {
   "cell_type": "code",
   "execution_count": 2,
   "metadata": {},
   "outputs": [
    {
     "name": "stdout",
     "output_type": "stream",
     "text": [
      "The number of instances in group 1 are 10\n",
      "The number of instances in group 0 are 118\n"
     ]
    }
   ],
   "source": [
    "kmeans = KMeans(n_clusters=2, n_init=100).fit(data)\n",
    "print(f\"The number of instances in group 1 are {sum(kmeans.labels_)}\")\n",
    "print(f\"The number of instances in group 0 are {len(kmeans.labels_) - sum(kmeans.labels_)}\")"
   ]
  },
  {
   "cell_type": "code",
   "execution_count": 3,
   "metadata": {},
   "outputs": [],
   "source": [
    "pca = PCA(n_components=2)\n",
    "principalComponents = pca.fit_transform(data)"
   ]
  },
  {
   "cell_type": "code",
   "execution_count": 4,
   "metadata": {},
   "outputs": [],
   "source": [
    "pca_df = pd.DataFrame(principalComponents).set_index(data.index)\n",
    "# pca_kmeans = KMeans(n_clusters=2, n_init=100).fit(pca_df)\n",
    "\n",
    "pca_df['label'] = kmeans.labels_.astype(str)\n",
    "\n",
    "data['label'] = kmeans.labels_.astype(str)"
   ]
  },
  {
   "cell_type": "code",
   "execution_count": 5,
   "metadata": {},
   "outputs": [
    {
     "data": {
      "application/vnd.plotly.v1+json": {
       "config": {
        "plotlyServerURL": "https://plot.ly"
       },
       "data": [
        {
         "hovertemplate": "label=0<br>0=%{x}<br>1=%{y}<extra></extra>",
         "legendgroup": "0",
         "marker": {
          "color": "#636efa",
          "symbol": "circle"
         },
         "mode": "markers",
         "name": "0",
         "orientation": "v",
         "showlegend": true,
         "type": "scatter",
         "x": [
          -0.7564535189058609,
          -0.7431218386146824,
          0.07841381561807109,
          0.2912700989558924,
          -0.7967162289448897,
          -1.1538762264968594,
          -0.43793825051828483,
          0.18725539584446874,
          -0.8629078006967159,
          -0.8757813463051715,
          -0.8510408752143788,
          0.19689329413286416,
          -0.45581177691672825,
          0.6427539588471439,
          -0.7726715878210209,
          -1.1730106109171308,
          0.5291788429145352,
          -1.1664486631658213,
          -0.8839160047178092,
          -1.1036497343154714,
          -0.09600771236168903,
          -0.5533458322591641,
          -0.4621597372727934,
          -0.9039185617595556,
          -0.48654731123479916,
          -0.9276010945664585,
          -0.8174671896425815,
          2.2105795161235493,
          -0.35286186925773666,
          -0.7923073389827298,
          -1.07228821799172,
          -1.180533781153181,
          -1.1655832853505257,
          -0.1101194483797337,
          1.4048003489015155,
          1.4425316086137983,
          -0.834158418764058,
          -0.7545976949223244,
          -0.3425542726873464,
          2.6083782026723843,
          0.18739022501167146,
          -0.8698593052511501,
          -0.41234408326445204,
          -0.29987404850783167,
          -0.7543775759146079,
          -0.8204624411327133,
          1.6327157823353922,
          -0.5256456716504377,
          -0.8941363418678002,
          -0.886688993538596,
          -0.7348354882257673,
          -0.8699523357450768,
          -0.47800740946110876,
          -1.0870885370119607,
          -0.6428450720234424,
          -1.1273696486233056,
          -0.8770297503868264,
          -1.0818544595429003,
          0.22690799568203773,
          -1.08239066258533,
          -0.9019123152669116,
          -1.0785351413040585,
          0.26998536835349624,
          -0.8277882704513985,
          -0.7115285246765612,
          -0.9073226575993059,
          -1.0969271292955558,
          -1.1099798393278073,
          2.4234001763378554,
          -0.9146054407421161,
          -0.7188329733021774,
          -0.8373547817129356,
          -0.08956344911828322,
          -0.2303394573192453,
          -0.837238033345489,
          -0.747901219636364,
          -0.7270471845439191,
          -1.0808797349720833,
          0.2861134373162823,
          -1.1181424291999604,
          0.6275955271728089,
          -1.1161762916843696,
          -0.9034757169148282,
          -1.1066069789129247,
          -0.8349396836478434,
          -0.8799326812596185,
          -0.8683741541691499,
          -1.191380673495602,
          -0.8890951731020204,
          -1.0831999294054708,
          -0.8502904144477986,
          -0.533862002194352,
          -0.8614940677378218,
          -0.898851257644014,
          -0.39574817173972043,
          -0.9122181771146205,
          -1.1389994435588688,
          -0.8460325091413811,
          -0.8887563222201218,
          -0.5062785498551051,
          1.0898421992120007,
          0.23638893538131303,
          -1.0269405797184334,
          0.37938306643734127,
          -1.1699615841482778,
          -0.7433691383240942,
          -0.824964543942121,
          -0.8589720012667122,
          -1.05491912213993,
          0.1516604216127975,
          -0.7915671877498115,
          -0.39737761109853387,
          -1.2348916638942982,
          -0.8383281304983199,
          0.6102117866611659,
          0.7400731872742528,
          -1.187536574655736,
          -0.45506222210028524
         ],
         "xaxis": "x",
         "y": [
          0.07231674227770711,
          0.14697180550430824,
          -0.34901322035282173,
          -0.10062215128738347,
          0.1552721125532749,
          0.2247676624251881,
          -0.21940556911165388,
          0.4784288246800064,
          0.1448206371777964,
          0.09521929882835323,
          0.09420488621334933,
          -0.19271209876910095,
          -0.19483012245112932,
          -0.46248008277623565,
          0.11792673427866204,
          0.23367511409421945,
          -0.19299026740001815,
          0.2526266227136412,
          0.1256758788777111,
          0.19848969982770653,
          -0.24047995917312995,
          -0.05011407190282384,
          -0.08658985658700706,
          0.10497195615294393,
          -0.18635681058433326,
          0.11413292070850393,
          0.10217642265013677,
          -0.04289109775958529,
          -0.09990107149357584,
          0.21520335769900675,
          0.22817519401499892,
          0.23729026171694387,
          0.22845203430214836,
          -0.15720803788823182,
          0.20878832306195177,
          -0.6489794313080312,
          0.11036885070137731,
          0.11217997040489135,
          -0.08663726786795638,
          -0.3297377828731814,
          -0.0850065500930881,
          0.1184759484612435,
          -0.24042876993130183,
          0.13699398670495613,
          0.16827421601078776,
          0.179266711033275,
          -0.17754702190056484,
          -0.14379035414056918,
          0.10854996043408807,
          0.14133154462498987,
          0.05524832563352393,
          0.11937502227568715,
          0.18666507988882505,
          0.2480926529302966,
          0.03014493600535479,
          0.2117956899692609,
          0.13642849864096646,
          0.24220991670467015,
          -0.34423507090191,
          0.23909042397224053,
          0.12226898910647424,
          0.23155660131358338,
          -0.32975434929054226,
          0.09024709066531421,
          0.08098387190735773,
          0.11888360160114646,
          0.22753019354321843,
          0.22582773657286845,
          -0.5905771994712046,
          0.12449519567457253,
          0.048906639529270206,
          0.09049061736792077,
          0.028504115549993346,
          -0.06329096800159369,
          0.12185058933174828,
          0.08369707004821732,
          0.09128319809529341,
          0.2214602938572834,
          -0.09979557152503095,
          0.23134295323723547,
          -0.3973858357838678,
          0.24152956890640262,
          0.13070435076430123,
          0.2339162090507897,
          0.13839014767468688,
          0.12736705726088707,
          0.17677225245519188,
          0.2427366139938846,
          0.1079537120956679,
          0.24542952505225846,
          0.07978361527646395,
          0.2779539986672798,
          0.11062740367667433,
          0.1625123111447551,
          -0.22872133957268626,
          0.121517310540945,
          0.23952209725846332,
          0.07622080823310663,
          0.09128535148798747,
          0.24456937461346095,
          -0.22139450853177084,
          -0.15809014469288354,
          0.18547446165292863,
          -0.38727382151838086,
          0.2803680202860154,
          0.23104943777316356,
          0.07953806136321569,
          0.08813434547750275,
          0.19040235176228734,
          0.03450392293805449,
          0.06618723016790842,
          -0.26110586317935736,
          0.2659594389190366,
          0.21261812233441446,
          0.5075063479962318,
          0.3457679790401709,
          0.23976483991865621,
          0.1235142759828218
         ],
         "yaxis": "y"
        },
        {
         "hovertemplate": "label=1<br>0=%{x}<br>1=%{y}<extra></extra>",
         "legendgroup": "1",
         "marker": {
          "color": "#EF553B",
          "symbol": "circle"
         },
         "mode": "markers",
         "name": "1",
         "orientation": "v",
         "showlegend": true,
         "type": "scatter",
         "x": [
          5.971771374598347,
          4.895206662106814,
          5.425099915900165,
          4.537840288390567,
          4.100115164193051,
          15.294486612762027,
          4.839603358845933,
          3.8890200583639016,
          7.376146252919447,
          2.7726463149740015
         ],
         "xaxis": "x",
         "y": [
          -1.5090371128647029,
          -0.683080949277345,
          -1.228226371390556,
          -0.8285027131759706,
          -1.7482683565033739,
          4.9249404180500935,
          -1.7146370273294982,
          -1.0764165221373256,
          -1.941555116168638,
          -1.188857506403848
         ],
         "yaxis": "y"
        }
       ],
       "layout": {
        "legend": {
         "title": {
          "text": "label"
         },
         "tracegroupgap": 0
        },
        "margin": {
         "t": 60
        },
        "template": {
         "data": {
          "bar": [
           {
            "error_x": {
             "color": "#2a3f5f"
            },
            "error_y": {
             "color": "#2a3f5f"
            },
            "marker": {
             "line": {
              "color": "#E5ECF6",
              "width": 0.5
             },
             "pattern": {
              "fillmode": "overlay",
              "size": 10,
              "solidity": 0.2
             }
            },
            "type": "bar"
           }
          ],
          "barpolar": [
           {
            "marker": {
             "line": {
              "color": "#E5ECF6",
              "width": 0.5
             },
             "pattern": {
              "fillmode": "overlay",
              "size": 10,
              "solidity": 0.2
             }
            },
            "type": "barpolar"
           }
          ],
          "carpet": [
           {
            "aaxis": {
             "endlinecolor": "#2a3f5f",
             "gridcolor": "white",
             "linecolor": "white",
             "minorgridcolor": "white",
             "startlinecolor": "#2a3f5f"
            },
            "baxis": {
             "endlinecolor": "#2a3f5f",
             "gridcolor": "white",
             "linecolor": "white",
             "minorgridcolor": "white",
             "startlinecolor": "#2a3f5f"
            },
            "type": "carpet"
           }
          ],
          "choropleth": [
           {
            "colorbar": {
             "outlinewidth": 0,
             "ticks": ""
            },
            "type": "choropleth"
           }
          ],
          "contour": [
           {
            "colorbar": {
             "outlinewidth": 0,
             "ticks": ""
            },
            "colorscale": [
             [
              0,
              "#0d0887"
             ],
             [
              0.1111111111111111,
              "#46039f"
             ],
             [
              0.2222222222222222,
              "#7201a8"
             ],
             [
              0.3333333333333333,
              "#9c179e"
             ],
             [
              0.4444444444444444,
              "#bd3786"
             ],
             [
              0.5555555555555556,
              "#d8576b"
             ],
             [
              0.6666666666666666,
              "#ed7953"
             ],
             [
              0.7777777777777778,
              "#fb9f3a"
             ],
             [
              0.8888888888888888,
              "#fdca26"
             ],
             [
              1,
              "#f0f921"
             ]
            ],
            "type": "contour"
           }
          ],
          "contourcarpet": [
           {
            "colorbar": {
             "outlinewidth": 0,
             "ticks": ""
            },
            "type": "contourcarpet"
           }
          ],
          "heatmap": [
           {
            "colorbar": {
             "outlinewidth": 0,
             "ticks": ""
            },
            "colorscale": [
             [
              0,
              "#0d0887"
             ],
             [
              0.1111111111111111,
              "#46039f"
             ],
             [
              0.2222222222222222,
              "#7201a8"
             ],
             [
              0.3333333333333333,
              "#9c179e"
             ],
             [
              0.4444444444444444,
              "#bd3786"
             ],
             [
              0.5555555555555556,
              "#d8576b"
             ],
             [
              0.6666666666666666,
              "#ed7953"
             ],
             [
              0.7777777777777778,
              "#fb9f3a"
             ],
             [
              0.8888888888888888,
              "#fdca26"
             ],
             [
              1,
              "#f0f921"
             ]
            ],
            "type": "heatmap"
           }
          ],
          "heatmapgl": [
           {
            "colorbar": {
             "outlinewidth": 0,
             "ticks": ""
            },
            "colorscale": [
             [
              0,
              "#0d0887"
             ],
             [
              0.1111111111111111,
              "#46039f"
             ],
             [
              0.2222222222222222,
              "#7201a8"
             ],
             [
              0.3333333333333333,
              "#9c179e"
             ],
             [
              0.4444444444444444,
              "#bd3786"
             ],
             [
              0.5555555555555556,
              "#d8576b"
             ],
             [
              0.6666666666666666,
              "#ed7953"
             ],
             [
              0.7777777777777778,
              "#fb9f3a"
             ],
             [
              0.8888888888888888,
              "#fdca26"
             ],
             [
              1,
              "#f0f921"
             ]
            ],
            "type": "heatmapgl"
           }
          ],
          "histogram": [
           {
            "marker": {
             "pattern": {
              "fillmode": "overlay",
              "size": 10,
              "solidity": 0.2
             }
            },
            "type": "histogram"
           }
          ],
          "histogram2d": [
           {
            "colorbar": {
             "outlinewidth": 0,
             "ticks": ""
            },
            "colorscale": [
             [
              0,
              "#0d0887"
             ],
             [
              0.1111111111111111,
              "#46039f"
             ],
             [
              0.2222222222222222,
              "#7201a8"
             ],
             [
              0.3333333333333333,
              "#9c179e"
             ],
             [
              0.4444444444444444,
              "#bd3786"
             ],
             [
              0.5555555555555556,
              "#d8576b"
             ],
             [
              0.6666666666666666,
              "#ed7953"
             ],
             [
              0.7777777777777778,
              "#fb9f3a"
             ],
             [
              0.8888888888888888,
              "#fdca26"
             ],
             [
              1,
              "#f0f921"
             ]
            ],
            "type": "histogram2d"
           }
          ],
          "histogram2dcontour": [
           {
            "colorbar": {
             "outlinewidth": 0,
             "ticks": ""
            },
            "colorscale": [
             [
              0,
              "#0d0887"
             ],
             [
              0.1111111111111111,
              "#46039f"
             ],
             [
              0.2222222222222222,
              "#7201a8"
             ],
             [
              0.3333333333333333,
              "#9c179e"
             ],
             [
              0.4444444444444444,
              "#bd3786"
             ],
             [
              0.5555555555555556,
              "#d8576b"
             ],
             [
              0.6666666666666666,
              "#ed7953"
             ],
             [
              0.7777777777777778,
              "#fb9f3a"
             ],
             [
              0.8888888888888888,
              "#fdca26"
             ],
             [
              1,
              "#f0f921"
             ]
            ],
            "type": "histogram2dcontour"
           }
          ],
          "mesh3d": [
           {
            "colorbar": {
             "outlinewidth": 0,
             "ticks": ""
            },
            "type": "mesh3d"
           }
          ],
          "parcoords": [
           {
            "line": {
             "colorbar": {
              "outlinewidth": 0,
              "ticks": ""
             }
            },
            "type": "parcoords"
           }
          ],
          "pie": [
           {
            "automargin": true,
            "type": "pie"
           }
          ],
          "scatter": [
           {
            "fillpattern": {
             "fillmode": "overlay",
             "size": 10,
             "solidity": 0.2
            },
            "type": "scatter"
           }
          ],
          "scatter3d": [
           {
            "line": {
             "colorbar": {
              "outlinewidth": 0,
              "ticks": ""
             }
            },
            "marker": {
             "colorbar": {
              "outlinewidth": 0,
              "ticks": ""
             }
            },
            "type": "scatter3d"
           }
          ],
          "scattercarpet": [
           {
            "marker": {
             "colorbar": {
              "outlinewidth": 0,
              "ticks": ""
             }
            },
            "type": "scattercarpet"
           }
          ],
          "scattergeo": [
           {
            "marker": {
             "colorbar": {
              "outlinewidth": 0,
              "ticks": ""
             }
            },
            "type": "scattergeo"
           }
          ],
          "scattergl": [
           {
            "marker": {
             "colorbar": {
              "outlinewidth": 0,
              "ticks": ""
             }
            },
            "type": "scattergl"
           }
          ],
          "scattermapbox": [
           {
            "marker": {
             "colorbar": {
              "outlinewidth": 0,
              "ticks": ""
             }
            },
            "type": "scattermapbox"
           }
          ],
          "scatterpolar": [
           {
            "marker": {
             "colorbar": {
              "outlinewidth": 0,
              "ticks": ""
             }
            },
            "type": "scatterpolar"
           }
          ],
          "scatterpolargl": [
           {
            "marker": {
             "colorbar": {
              "outlinewidth": 0,
              "ticks": ""
             }
            },
            "type": "scatterpolargl"
           }
          ],
          "scatterternary": [
           {
            "marker": {
             "colorbar": {
              "outlinewidth": 0,
              "ticks": ""
             }
            },
            "type": "scatterternary"
           }
          ],
          "surface": [
           {
            "colorbar": {
             "outlinewidth": 0,
             "ticks": ""
            },
            "colorscale": [
             [
              0,
              "#0d0887"
             ],
             [
              0.1111111111111111,
              "#46039f"
             ],
             [
              0.2222222222222222,
              "#7201a8"
             ],
             [
              0.3333333333333333,
              "#9c179e"
             ],
             [
              0.4444444444444444,
              "#bd3786"
             ],
             [
              0.5555555555555556,
              "#d8576b"
             ],
             [
              0.6666666666666666,
              "#ed7953"
             ],
             [
              0.7777777777777778,
              "#fb9f3a"
             ],
             [
              0.8888888888888888,
              "#fdca26"
             ],
             [
              1,
              "#f0f921"
             ]
            ],
            "type": "surface"
           }
          ],
          "table": [
           {
            "cells": {
             "fill": {
              "color": "#EBF0F8"
             },
             "line": {
              "color": "white"
             }
            },
            "header": {
             "fill": {
              "color": "#C8D4E3"
             },
             "line": {
              "color": "white"
             }
            },
            "type": "table"
           }
          ]
         },
         "layout": {
          "annotationdefaults": {
           "arrowcolor": "#2a3f5f",
           "arrowhead": 0,
           "arrowwidth": 1
          },
          "autotypenumbers": "strict",
          "coloraxis": {
           "colorbar": {
            "outlinewidth": 0,
            "ticks": ""
           }
          },
          "colorscale": {
           "diverging": [
            [
             0,
             "#8e0152"
            ],
            [
             0.1,
             "#c51b7d"
            ],
            [
             0.2,
             "#de77ae"
            ],
            [
             0.3,
             "#f1b6da"
            ],
            [
             0.4,
             "#fde0ef"
            ],
            [
             0.5,
             "#f7f7f7"
            ],
            [
             0.6,
             "#e6f5d0"
            ],
            [
             0.7,
             "#b8e186"
            ],
            [
             0.8,
             "#7fbc41"
            ],
            [
             0.9,
             "#4d9221"
            ],
            [
             1,
             "#276419"
            ]
           ],
           "sequential": [
            [
             0,
             "#0d0887"
            ],
            [
             0.1111111111111111,
             "#46039f"
            ],
            [
             0.2222222222222222,
             "#7201a8"
            ],
            [
             0.3333333333333333,
             "#9c179e"
            ],
            [
             0.4444444444444444,
             "#bd3786"
            ],
            [
             0.5555555555555556,
             "#d8576b"
            ],
            [
             0.6666666666666666,
             "#ed7953"
            ],
            [
             0.7777777777777778,
             "#fb9f3a"
            ],
            [
             0.8888888888888888,
             "#fdca26"
            ],
            [
             1,
             "#f0f921"
            ]
           ],
           "sequentialminus": [
            [
             0,
             "#0d0887"
            ],
            [
             0.1111111111111111,
             "#46039f"
            ],
            [
             0.2222222222222222,
             "#7201a8"
            ],
            [
             0.3333333333333333,
             "#9c179e"
            ],
            [
             0.4444444444444444,
             "#bd3786"
            ],
            [
             0.5555555555555556,
             "#d8576b"
            ],
            [
             0.6666666666666666,
             "#ed7953"
            ],
            [
             0.7777777777777778,
             "#fb9f3a"
            ],
            [
             0.8888888888888888,
             "#fdca26"
            ],
            [
             1,
             "#f0f921"
            ]
           ]
          },
          "colorway": [
           "#636efa",
           "#EF553B",
           "#00cc96",
           "#ab63fa",
           "#FFA15A",
           "#19d3f3",
           "#FF6692",
           "#B6E880",
           "#FF97FF",
           "#FECB52"
          ],
          "font": {
           "color": "#2a3f5f"
          },
          "geo": {
           "bgcolor": "white",
           "lakecolor": "white",
           "landcolor": "#E5ECF6",
           "showlakes": true,
           "showland": true,
           "subunitcolor": "white"
          },
          "hoverlabel": {
           "align": "left"
          },
          "hovermode": "closest",
          "mapbox": {
           "style": "light"
          },
          "paper_bgcolor": "white",
          "plot_bgcolor": "#E5ECF6",
          "polar": {
           "angularaxis": {
            "gridcolor": "white",
            "linecolor": "white",
            "ticks": ""
           },
           "bgcolor": "#E5ECF6",
           "radialaxis": {
            "gridcolor": "white",
            "linecolor": "white",
            "ticks": ""
           }
          },
          "scene": {
           "xaxis": {
            "backgroundcolor": "#E5ECF6",
            "gridcolor": "white",
            "gridwidth": 2,
            "linecolor": "white",
            "showbackground": true,
            "ticks": "",
            "zerolinecolor": "white"
           },
           "yaxis": {
            "backgroundcolor": "#E5ECF6",
            "gridcolor": "white",
            "gridwidth": 2,
            "linecolor": "white",
            "showbackground": true,
            "ticks": "",
            "zerolinecolor": "white"
           },
           "zaxis": {
            "backgroundcolor": "#E5ECF6",
            "gridcolor": "white",
            "gridwidth": 2,
            "linecolor": "white",
            "showbackground": true,
            "ticks": "",
            "zerolinecolor": "white"
           }
          },
          "shapedefaults": {
           "line": {
            "color": "#2a3f5f"
           }
          },
          "ternary": {
           "aaxis": {
            "gridcolor": "white",
            "linecolor": "white",
            "ticks": ""
           },
           "baxis": {
            "gridcolor": "white",
            "linecolor": "white",
            "ticks": ""
           },
           "bgcolor": "#E5ECF6",
           "caxis": {
            "gridcolor": "white",
            "linecolor": "white",
            "ticks": ""
           }
          },
          "title": {
           "x": 0.05
          },
          "xaxis": {
           "automargin": true,
           "gridcolor": "white",
           "linecolor": "white",
           "ticks": "",
           "title": {
            "standoff": 15
           },
           "zerolinecolor": "white",
           "zerolinewidth": 2
          },
          "yaxis": {
           "automargin": true,
           "gridcolor": "white",
           "linecolor": "white",
           "ticks": "",
           "title": {
            "standoff": 15
           },
           "zerolinecolor": "white",
           "zerolinewidth": 2
          }
         }
        },
        "xaxis": {
         "anchor": "y",
         "domain": [
          0,
          1
         ],
         "title": {
          "text": "0"
         }
        },
        "yaxis": {
         "anchor": "x",
         "domain": [
          0,
          1
         ],
         "title": {
          "text": "1"
         }
        }
       }
      }
     },
     "metadata": {},
     "output_type": "display_data"
    }
   ],
   "source": [
    "px.scatter(pca_df, x = 0, y=1, color='label')"
   ]
  },
  {
   "cell_type": "code",
   "execution_count": 6,
   "metadata": {},
   "outputs": [
    {
     "data": {
      "text/plain": [
       "'esc32e'"
      ]
     },
     "execution_count": 6,
     "metadata": {},
     "output_type": "execute_result"
    }
   ],
   "source": [
    "pca_df[pca_df[1] > 4].index[0]"
   ]
  },
  {
   "cell_type": "code",
   "execution_count": 7,
   "metadata": {},
   "outputs": [
    {
     "data": {
      "text/html": [
       "<div>\n",
       "<style scoped>\n",
       "    .dataframe tbody tr th:only-of-type {\n",
       "        vertical-align: middle;\n",
       "    }\n",
       "\n",
       "    .dataframe tbody tr th {\n",
       "        vertical-align: top;\n",
       "    }\n",
       "\n",
       "    .dataframe thead th {\n",
       "        text-align: right;\n",
       "    }\n",
       "</style>\n",
       "<table border=\"1\" class=\"dataframe\">\n",
       "  <thead>\n",
       "    <tr style=\"text-align: right;\">\n",
       "      <th></th>\n",
       "      <th>elshafei_constructive_greedy_local_search_objective</th>\n",
       "      <th>constructive_greedy_local_search_objective</th>\n",
       "      <th>5_multistart_adjacent_swap_optimal_neighbour_objective</th>\n",
       "      <th>5_multistart_adjacent_swap_first_improvement_objective</th>\n",
       "      <th>5_dissimilarity_local_search_adjacent_swap_objective</th>\n",
       "      <th>5_multistart_total_swap_optimal_neighbour_objective</th>\n",
       "      <th>5_multistart_total_swap_first_improvement_objective</th>\n",
       "      <th>5_dissimilarity_local_search_total_swap_objective</th>\n",
       "      <th>10_multistart_adjacent_swap_optimal_neighbour_objective</th>\n",
       "      <th>10_multistart_adjacent_swap_first_improvement_objective</th>\n",
       "      <th>...</th>\n",
       "      <th>25_multistart_adjacent_swap_optimal_neighbour_objective</th>\n",
       "      <th>25_multistart_adjacent_swap_first_improvement_objective</th>\n",
       "      <th>25_dissimilarity_local_search_adjacent_swap_objective</th>\n",
       "      <th>25_multistart_total_swap_optimal_neighbour_objective</th>\n",
       "      <th>25_multistart_total_swap_first_improvement_objective</th>\n",
       "      <th>25_dissimilarity_local_search_total_swap_objective</th>\n",
       "      <th>grasp_local_search</th>\n",
       "      <th>grasp_simulated_annealing</th>\n",
       "      <th>genetic_algorithm</th>\n",
       "      <th>label</th>\n",
       "    </tr>\n",
       "    <tr>\n",
       "      <th>instance</th>\n",
       "      <th></th>\n",
       "      <th></th>\n",
       "      <th></th>\n",
       "      <th></th>\n",
       "      <th></th>\n",
       "      <th></th>\n",
       "      <th></th>\n",
       "      <th></th>\n",
       "      <th></th>\n",
       "      <th></th>\n",
       "      <th></th>\n",
       "      <th></th>\n",
       "      <th></th>\n",
       "      <th></th>\n",
       "      <th></th>\n",
       "      <th></th>\n",
       "      <th></th>\n",
       "      <th></th>\n",
       "      <th></th>\n",
       "      <th></th>\n",
       "      <th></th>\n",
       "    </tr>\n",
       "  </thead>\n",
       "  <tbody>\n",
       "    <tr>\n",
       "      <th>esc32e</th>\n",
       "      <td>0.0</td>\n",
       "      <td>0.0</td>\n",
       "      <td>7.0</td>\n",
       "      <td>7.0</td>\n",
       "      <td>7.0</td>\n",
       "      <td>0.0</td>\n",
       "      <td>0.0</td>\n",
       "      <td>0.0</td>\n",
       "      <td>4.0</td>\n",
       "      <td>4.0</td>\n",
       "      <td>...</td>\n",
       "      <td>0.0</td>\n",
       "      <td>0.0</td>\n",
       "      <td>0.0</td>\n",
       "      <td>0.0</td>\n",
       "      <td>0.0</td>\n",
       "      <td>0.0</td>\n",
       "      <td>0.0</td>\n",
       "      <td>10.0</td>\n",
       "      <td>0.0</td>\n",
       "      <td>1</td>\n",
       "    </tr>\n",
       "  </tbody>\n",
       "</table>\n",
       "<p>1 rows × 24 columns</p>\n",
       "</div>"
      ],
      "text/plain": [
       "          elshafei_constructive_greedy_local_search_objective   \n",
       "instance                                                        \n",
       "esc32e                                                  0.0    \\\n",
       "\n",
       "          constructive_greedy_local_search_objective   \n",
       "instance                                               \n",
       "esc32e                                           0.0  \\\n",
       "\n",
       "          5_multistart_adjacent_swap_optimal_neighbour_objective   \n",
       "instance                                                           \n",
       "esc32e                                                  7.0       \\\n",
       "\n",
       "          5_multistart_adjacent_swap_first_improvement_objective   \n",
       "instance                                                           \n",
       "esc32e                                                  7.0       \\\n",
       "\n",
       "          5_dissimilarity_local_search_adjacent_swap_objective   \n",
       "instance                                                         \n",
       "esc32e                                                  7.0     \\\n",
       "\n",
       "          5_multistart_total_swap_optimal_neighbour_objective   \n",
       "instance                                                        \n",
       "esc32e                                                  0.0    \\\n",
       "\n",
       "          5_multistart_total_swap_first_improvement_objective   \n",
       "instance                                                        \n",
       "esc32e                                                  0.0    \\\n",
       "\n",
       "          5_dissimilarity_local_search_total_swap_objective   \n",
       "instance                                                      \n",
       "esc32e                                                  0.0  \\\n",
       "\n",
       "          10_multistart_adjacent_swap_optimal_neighbour_objective   \n",
       "instance                                                            \n",
       "esc32e                                                  4.0        \\\n",
       "\n",
       "          10_multistart_adjacent_swap_first_improvement_objective  ...   \n",
       "instance                                                           ...   \n",
       "esc32e                                                  4.0        ...  \\\n",
       "\n",
       "          25_multistart_adjacent_swap_optimal_neighbour_objective   \n",
       "instance                                                            \n",
       "esc32e                                                  0.0        \\\n",
       "\n",
       "          25_multistart_adjacent_swap_first_improvement_objective   \n",
       "instance                                                            \n",
       "esc32e                                                  0.0        \\\n",
       "\n",
       "          25_dissimilarity_local_search_adjacent_swap_objective   \n",
       "instance                                                          \n",
       "esc32e                                                  0.0      \\\n",
       "\n",
       "          25_multistart_total_swap_optimal_neighbour_objective   \n",
       "instance                                                         \n",
       "esc32e                                                  0.0     \\\n",
       "\n",
       "          25_multistart_total_swap_first_improvement_objective   \n",
       "instance                                                         \n",
       "esc32e                                                  0.0     \\\n",
       "\n",
       "          25_dissimilarity_local_search_total_swap_objective   \n",
       "instance                                                       \n",
       "esc32e                                                  0.0   \\\n",
       "\n",
       "          grasp_local_search  grasp_simulated_annealing  genetic_algorithm   \n",
       "instance                                                                     \n",
       "esc32e                   0.0                       10.0                0.0  \\\n",
       "\n",
       "          label  \n",
       "instance         \n",
       "esc32e        1  \n",
       "\n",
       "[1 rows x 24 columns]"
      ]
     },
     "execution_count": 7,
     "metadata": {},
     "output_type": "execute_result"
    }
   ],
   "source": [
    "data[data.index ==  pca_df[pca_df[1] > 4].index[0]]"
   ]
  },
  {
   "cell_type": "code",
   "execution_count": 8,
   "metadata": {},
   "outputs": [
    {
     "data": {
      "application/vnd.plotly.v1+json": {
       "config": {
        "plotlyServerURL": "https://plot.ly"
       },
       "data": [
        {
         "alignmentgroup": "True",
         "hovertemplate": "label=%{x}<br>grasp_local_search=%{y}<extra></extra>",
         "legendgroup": "",
         "marker": {
          "color": "#636efa"
         },
         "name": "",
         "notched": false,
         "offsetgroup": "",
         "orientation": "v",
         "showlegend": false,
         "type": "box",
         "x": [
          "0",
          "0",
          "0",
          "0",
          "0",
          "0",
          "1",
          "0",
          "0",
          "0",
          "0",
          "0",
          "0",
          "0",
          "0",
          "0",
          "0",
          "0",
          "0",
          "0",
          "0",
          "1",
          "0",
          "0",
          "1",
          "0",
          "1",
          "0",
          "0",
          "0",
          "0",
          "0",
          "0",
          "0",
          "0",
          "0",
          "0",
          "0",
          "0",
          "0",
          "0",
          "0",
          "0",
          "0",
          "0",
          "0",
          "0",
          "0",
          "0",
          "0",
          "0",
          "0",
          "0",
          "0",
          "0",
          "0",
          "1",
          "0",
          "0",
          "0",
          "0",
          "1",
          "0",
          "0",
          "0",
          "0",
          "0",
          "0",
          "0",
          "0",
          "0",
          "0",
          "0",
          "0",
          "0",
          "0",
          "0",
          "0",
          "0",
          "0",
          "0",
          "0",
          "0",
          "0",
          "0",
          "0",
          "0",
          "0",
          "0",
          "0",
          "0",
          "0",
          "0",
          "0",
          "0",
          "0",
          "0",
          "0",
          "0",
          "0",
          "1",
          "0",
          "0",
          "0",
          "0",
          "0",
          "0",
          "0",
          "0",
          "1",
          "0",
          "0",
          "1",
          "0",
          "0",
          "1",
          "0",
          "0",
          "0",
          "0",
          "0",
          "0",
          "0",
          "0",
          "0",
          "0",
          "0",
          "0"
         ],
         "x0": " ",
         "xaxis": "x",
         "y": [
          0.002988966,
          0.009677419,
          0.005118429,
          0.058154646,
          0,
          0.013507515,
          0.189944134,
          0.190058072,
          0,
          0.014440489,
          0.01863354,
          0.035997493,
          0.039392961,
          0.172350555,
          0,
          0.009724149,
          0.010100916,
          0,
          0,
          0.017107682,
          0.023350529,
          0.194017785,
          0.019161857,
          0,
          0.08135169,
          0.023999851,
          0.241161616,
          0.031369452,
          0,
          0.031296666,
          0.029388583,
          0.038107203,
          0.018672666,
          0.01384083,
          0,
          0.009077789,
          0.011998132,
          0.017047493,
          0.045356759,
          0.006406481,
          0.017064252,
          0.007715659,
          0.027783855,
          0,
          0.050513496,
          0.012857425,
          0.198566867,
          0,
          0,
          0.00173913,
          0,
          0.150106323,
          0.012290754,
          0.003944773,
          0.016260163,
          0.015022012,
          0.118018967,
          0,
          0.000373274,
          0.021678391,
          0.017301563,
          0,
          0.001154734,
          0.000102132,
          0.049338652,
          0.00017784,
          0.0122815,
          0,
          0.022438344,
          0.011887454,
          0.019105846,
          0.014134801,
          0.0000885,
          0.000115017,
          0.074690891,
          0.013289299,
          0.009081197,
          0.0320649,
          0,
          0.035658043,
          0.016580311,
          0.024820379,
          0.019495413,
          0,
          0.033315977,
          0,
          0.045785295,
          0.000672773,
          0.010375996,
          0.004842615,
          0.013229572,
          0.019379377,
          0.001640689,
          0.007168012,
          0.012175662,
          0.001736841,
          0.032370338,
          0,
          0.013031465,
          0,
          0,
          0.213923512,
          0.010440431,
          0,
          0.03756741,
          0.030946785,
          0,
          0,
          0.034413854,
          0.22080292,
          0.004137988,
          0.011277102,
          0.366991939,
          0,
          0,
          0.237597911,
          0.033787866,
          0.037227507,
          0.006944088,
          0,
          0.027250164,
          0.212516754,
          0,
          0.011064502,
          0,
          0.003971342,
          0.007895101,
          0
         ],
         "y0": " ",
         "yaxis": "y"
        }
       ],
       "layout": {
        "boxmode": "group",
        "legend": {
         "tracegroupgap": 0
        },
        "margin": {
         "t": 60
        },
        "template": {
         "data": {
          "bar": [
           {
            "error_x": {
             "color": "#2a3f5f"
            },
            "error_y": {
             "color": "#2a3f5f"
            },
            "marker": {
             "line": {
              "color": "#E5ECF6",
              "width": 0.5
             },
             "pattern": {
              "fillmode": "overlay",
              "size": 10,
              "solidity": 0.2
             }
            },
            "type": "bar"
           }
          ],
          "barpolar": [
           {
            "marker": {
             "line": {
              "color": "#E5ECF6",
              "width": 0.5
             },
             "pattern": {
              "fillmode": "overlay",
              "size": 10,
              "solidity": 0.2
             }
            },
            "type": "barpolar"
           }
          ],
          "carpet": [
           {
            "aaxis": {
             "endlinecolor": "#2a3f5f",
             "gridcolor": "white",
             "linecolor": "white",
             "minorgridcolor": "white",
             "startlinecolor": "#2a3f5f"
            },
            "baxis": {
             "endlinecolor": "#2a3f5f",
             "gridcolor": "white",
             "linecolor": "white",
             "minorgridcolor": "white",
             "startlinecolor": "#2a3f5f"
            },
            "type": "carpet"
           }
          ],
          "choropleth": [
           {
            "colorbar": {
             "outlinewidth": 0,
             "ticks": ""
            },
            "type": "choropleth"
           }
          ],
          "contour": [
           {
            "colorbar": {
             "outlinewidth": 0,
             "ticks": ""
            },
            "colorscale": [
             [
              0,
              "#0d0887"
             ],
             [
              0.1111111111111111,
              "#46039f"
             ],
             [
              0.2222222222222222,
              "#7201a8"
             ],
             [
              0.3333333333333333,
              "#9c179e"
             ],
             [
              0.4444444444444444,
              "#bd3786"
             ],
             [
              0.5555555555555556,
              "#d8576b"
             ],
             [
              0.6666666666666666,
              "#ed7953"
             ],
             [
              0.7777777777777778,
              "#fb9f3a"
             ],
             [
              0.8888888888888888,
              "#fdca26"
             ],
             [
              1,
              "#f0f921"
             ]
            ],
            "type": "contour"
           }
          ],
          "contourcarpet": [
           {
            "colorbar": {
             "outlinewidth": 0,
             "ticks": ""
            },
            "type": "contourcarpet"
           }
          ],
          "heatmap": [
           {
            "colorbar": {
             "outlinewidth": 0,
             "ticks": ""
            },
            "colorscale": [
             [
              0,
              "#0d0887"
             ],
             [
              0.1111111111111111,
              "#46039f"
             ],
             [
              0.2222222222222222,
              "#7201a8"
             ],
             [
              0.3333333333333333,
              "#9c179e"
             ],
             [
              0.4444444444444444,
              "#bd3786"
             ],
             [
              0.5555555555555556,
              "#d8576b"
             ],
             [
              0.6666666666666666,
              "#ed7953"
             ],
             [
              0.7777777777777778,
              "#fb9f3a"
             ],
             [
              0.8888888888888888,
              "#fdca26"
             ],
             [
              1,
              "#f0f921"
             ]
            ],
            "type": "heatmap"
           }
          ],
          "heatmapgl": [
           {
            "colorbar": {
             "outlinewidth": 0,
             "ticks": ""
            },
            "colorscale": [
             [
              0,
              "#0d0887"
             ],
             [
              0.1111111111111111,
              "#46039f"
             ],
             [
              0.2222222222222222,
              "#7201a8"
             ],
             [
              0.3333333333333333,
              "#9c179e"
             ],
             [
              0.4444444444444444,
              "#bd3786"
             ],
             [
              0.5555555555555556,
              "#d8576b"
             ],
             [
              0.6666666666666666,
              "#ed7953"
             ],
             [
              0.7777777777777778,
              "#fb9f3a"
             ],
             [
              0.8888888888888888,
              "#fdca26"
             ],
             [
              1,
              "#f0f921"
             ]
            ],
            "type": "heatmapgl"
           }
          ],
          "histogram": [
           {
            "marker": {
             "pattern": {
              "fillmode": "overlay",
              "size": 10,
              "solidity": 0.2
             }
            },
            "type": "histogram"
           }
          ],
          "histogram2d": [
           {
            "colorbar": {
             "outlinewidth": 0,
             "ticks": ""
            },
            "colorscale": [
             [
              0,
              "#0d0887"
             ],
             [
              0.1111111111111111,
              "#46039f"
             ],
             [
              0.2222222222222222,
              "#7201a8"
             ],
             [
              0.3333333333333333,
              "#9c179e"
             ],
             [
              0.4444444444444444,
              "#bd3786"
             ],
             [
              0.5555555555555556,
              "#d8576b"
             ],
             [
              0.6666666666666666,
              "#ed7953"
             ],
             [
              0.7777777777777778,
              "#fb9f3a"
             ],
             [
              0.8888888888888888,
              "#fdca26"
             ],
             [
              1,
              "#f0f921"
             ]
            ],
            "type": "histogram2d"
           }
          ],
          "histogram2dcontour": [
           {
            "colorbar": {
             "outlinewidth": 0,
             "ticks": ""
            },
            "colorscale": [
             [
              0,
              "#0d0887"
             ],
             [
              0.1111111111111111,
              "#46039f"
             ],
             [
              0.2222222222222222,
              "#7201a8"
             ],
             [
              0.3333333333333333,
              "#9c179e"
             ],
             [
              0.4444444444444444,
              "#bd3786"
             ],
             [
              0.5555555555555556,
              "#d8576b"
             ],
             [
              0.6666666666666666,
              "#ed7953"
             ],
             [
              0.7777777777777778,
              "#fb9f3a"
             ],
             [
              0.8888888888888888,
              "#fdca26"
             ],
             [
              1,
              "#f0f921"
             ]
            ],
            "type": "histogram2dcontour"
           }
          ],
          "mesh3d": [
           {
            "colorbar": {
             "outlinewidth": 0,
             "ticks": ""
            },
            "type": "mesh3d"
           }
          ],
          "parcoords": [
           {
            "line": {
             "colorbar": {
              "outlinewidth": 0,
              "ticks": ""
             }
            },
            "type": "parcoords"
           }
          ],
          "pie": [
           {
            "automargin": true,
            "type": "pie"
           }
          ],
          "scatter": [
           {
            "fillpattern": {
             "fillmode": "overlay",
             "size": 10,
             "solidity": 0.2
            },
            "type": "scatter"
           }
          ],
          "scatter3d": [
           {
            "line": {
             "colorbar": {
              "outlinewidth": 0,
              "ticks": ""
             }
            },
            "marker": {
             "colorbar": {
              "outlinewidth": 0,
              "ticks": ""
             }
            },
            "type": "scatter3d"
           }
          ],
          "scattercarpet": [
           {
            "marker": {
             "colorbar": {
              "outlinewidth": 0,
              "ticks": ""
             }
            },
            "type": "scattercarpet"
           }
          ],
          "scattergeo": [
           {
            "marker": {
             "colorbar": {
              "outlinewidth": 0,
              "ticks": ""
             }
            },
            "type": "scattergeo"
           }
          ],
          "scattergl": [
           {
            "marker": {
             "colorbar": {
              "outlinewidth": 0,
              "ticks": ""
             }
            },
            "type": "scattergl"
           }
          ],
          "scattermapbox": [
           {
            "marker": {
             "colorbar": {
              "outlinewidth": 0,
              "ticks": ""
             }
            },
            "type": "scattermapbox"
           }
          ],
          "scatterpolar": [
           {
            "marker": {
             "colorbar": {
              "outlinewidth": 0,
              "ticks": ""
             }
            },
            "type": "scatterpolar"
           }
          ],
          "scatterpolargl": [
           {
            "marker": {
             "colorbar": {
              "outlinewidth": 0,
              "ticks": ""
             }
            },
            "type": "scatterpolargl"
           }
          ],
          "scatterternary": [
           {
            "marker": {
             "colorbar": {
              "outlinewidth": 0,
              "ticks": ""
             }
            },
            "type": "scatterternary"
           }
          ],
          "surface": [
           {
            "colorbar": {
             "outlinewidth": 0,
             "ticks": ""
            },
            "colorscale": [
             [
              0,
              "#0d0887"
             ],
             [
              0.1111111111111111,
              "#46039f"
             ],
             [
              0.2222222222222222,
              "#7201a8"
             ],
             [
              0.3333333333333333,
              "#9c179e"
             ],
             [
              0.4444444444444444,
              "#bd3786"
             ],
             [
              0.5555555555555556,
              "#d8576b"
             ],
             [
              0.6666666666666666,
              "#ed7953"
             ],
             [
              0.7777777777777778,
              "#fb9f3a"
             ],
             [
              0.8888888888888888,
              "#fdca26"
             ],
             [
              1,
              "#f0f921"
             ]
            ],
            "type": "surface"
           }
          ],
          "table": [
           {
            "cells": {
             "fill": {
              "color": "#EBF0F8"
             },
             "line": {
              "color": "white"
             }
            },
            "header": {
             "fill": {
              "color": "#C8D4E3"
             },
             "line": {
              "color": "white"
             }
            },
            "type": "table"
           }
          ]
         },
         "layout": {
          "annotationdefaults": {
           "arrowcolor": "#2a3f5f",
           "arrowhead": 0,
           "arrowwidth": 1
          },
          "autotypenumbers": "strict",
          "coloraxis": {
           "colorbar": {
            "outlinewidth": 0,
            "ticks": ""
           }
          },
          "colorscale": {
           "diverging": [
            [
             0,
             "#8e0152"
            ],
            [
             0.1,
             "#c51b7d"
            ],
            [
             0.2,
             "#de77ae"
            ],
            [
             0.3,
             "#f1b6da"
            ],
            [
             0.4,
             "#fde0ef"
            ],
            [
             0.5,
             "#f7f7f7"
            ],
            [
             0.6,
             "#e6f5d0"
            ],
            [
             0.7,
             "#b8e186"
            ],
            [
             0.8,
             "#7fbc41"
            ],
            [
             0.9,
             "#4d9221"
            ],
            [
             1,
             "#276419"
            ]
           ],
           "sequential": [
            [
             0,
             "#0d0887"
            ],
            [
             0.1111111111111111,
             "#46039f"
            ],
            [
             0.2222222222222222,
             "#7201a8"
            ],
            [
             0.3333333333333333,
             "#9c179e"
            ],
            [
             0.4444444444444444,
             "#bd3786"
            ],
            [
             0.5555555555555556,
             "#d8576b"
            ],
            [
             0.6666666666666666,
             "#ed7953"
            ],
            [
             0.7777777777777778,
             "#fb9f3a"
            ],
            [
             0.8888888888888888,
             "#fdca26"
            ],
            [
             1,
             "#f0f921"
            ]
           ],
           "sequentialminus": [
            [
             0,
             "#0d0887"
            ],
            [
             0.1111111111111111,
             "#46039f"
            ],
            [
             0.2222222222222222,
             "#7201a8"
            ],
            [
             0.3333333333333333,
             "#9c179e"
            ],
            [
             0.4444444444444444,
             "#bd3786"
            ],
            [
             0.5555555555555556,
             "#d8576b"
            ],
            [
             0.6666666666666666,
             "#ed7953"
            ],
            [
             0.7777777777777778,
             "#fb9f3a"
            ],
            [
             0.8888888888888888,
             "#fdca26"
            ],
            [
             1,
             "#f0f921"
            ]
           ]
          },
          "colorway": [
           "#636efa",
           "#EF553B",
           "#00cc96",
           "#ab63fa",
           "#FFA15A",
           "#19d3f3",
           "#FF6692",
           "#B6E880",
           "#FF97FF",
           "#FECB52"
          ],
          "font": {
           "color": "#2a3f5f"
          },
          "geo": {
           "bgcolor": "white",
           "lakecolor": "white",
           "landcolor": "#E5ECF6",
           "showlakes": true,
           "showland": true,
           "subunitcolor": "white"
          },
          "hoverlabel": {
           "align": "left"
          },
          "hovermode": "closest",
          "mapbox": {
           "style": "light"
          },
          "paper_bgcolor": "white",
          "plot_bgcolor": "#E5ECF6",
          "polar": {
           "angularaxis": {
            "gridcolor": "white",
            "linecolor": "white",
            "ticks": ""
           },
           "bgcolor": "#E5ECF6",
           "radialaxis": {
            "gridcolor": "white",
            "linecolor": "white",
            "ticks": ""
           }
          },
          "scene": {
           "xaxis": {
            "backgroundcolor": "#E5ECF6",
            "gridcolor": "white",
            "gridwidth": 2,
            "linecolor": "white",
            "showbackground": true,
            "ticks": "",
            "zerolinecolor": "white"
           },
           "yaxis": {
            "backgroundcolor": "#E5ECF6",
            "gridcolor": "white",
            "gridwidth": 2,
            "linecolor": "white",
            "showbackground": true,
            "ticks": "",
            "zerolinecolor": "white"
           },
           "zaxis": {
            "backgroundcolor": "#E5ECF6",
            "gridcolor": "white",
            "gridwidth": 2,
            "linecolor": "white",
            "showbackground": true,
            "ticks": "",
            "zerolinecolor": "white"
           }
          },
          "shapedefaults": {
           "line": {
            "color": "#2a3f5f"
           }
          },
          "ternary": {
           "aaxis": {
            "gridcolor": "white",
            "linecolor": "white",
            "ticks": ""
           },
           "baxis": {
            "gridcolor": "white",
            "linecolor": "white",
            "ticks": ""
           },
           "bgcolor": "#E5ECF6",
           "caxis": {
            "gridcolor": "white",
            "linecolor": "white",
            "ticks": ""
           }
          },
          "title": {
           "x": 0.05
          },
          "xaxis": {
           "automargin": true,
           "gridcolor": "white",
           "linecolor": "white",
           "ticks": "",
           "title": {
            "standoff": 15
           },
           "zerolinecolor": "white",
           "zerolinewidth": 2
          },
          "yaxis": {
           "automargin": true,
           "gridcolor": "white",
           "linecolor": "white",
           "ticks": "",
           "title": {
            "standoff": 15
           },
           "zerolinecolor": "white",
           "zerolinewidth": 2
          }
         }
        },
        "xaxis": {
         "anchor": "y",
         "domain": [
          0,
          1
         ],
         "title": {
          "text": "label"
         }
        },
        "yaxis": {
         "anchor": "x",
         "domain": [
          0,
          1
         ],
         "title": {
          "text": "grasp_local_search"
         }
        }
       }
      }
     },
     "metadata": {},
     "output_type": "display_data"
    }
   ],
   "source": [
    "px.box(data, x=\"label\", y=\"grasp_local_search\")"
   ]
  },
  {
   "cell_type": "code",
   "execution_count": 9,
   "metadata": {},
   "outputs": [],
   "source": [
    "from sklearn.model_selection import train_test_split\n",
    "from sklearn.linear_model import LogisticRegression\n",
    "\n",
    "train, test = train_test_split(data, test_size=0.4)\n",
    "x_train, y_train = train.loc[:,train.columns != 'label'], train['label']\n",
    "x_test, y_test = test.loc[:,test.columns != 'label'], test['label']\n",
    "\n",
    "weights = {'0': 1, '1': 10}\n",
    "logistic_model = LogisticRegression(class_weight=weights).fit(x_train,y_train)\n",
    "\n",
    "y_pred = logistic_model.predict(x_test)"
   ]
  },
  {
   "cell_type": "code",
   "execution_count": 10,
   "metadata": {},
   "outputs": [
    {
     "name": "stdout",
     "output_type": "stream",
     "text": [
      "number of false negatives predicted: 0 out of 52 predictions\n",
      "number of false positives predicted: 1 out of 52 predictions\n",
      "average prediction accuracy of 0.9807692307692307\n"
     ]
    }
   ],
   "source": [
    "n_false_negatives = sum(y_pred[y_test.values == '1'] == '0')\n",
    "n_false_positives = sum(y_pred[y_test.values == '0'] == '1')\n",
    "\n",
    "print(f\"number of false negatives predicted: {n_false_negatives} out of {len(y_pred)} predictions\")\n",
    "print(f\"number of false positives predicted: {n_false_positives} out of {len(y_pred)} predictions\")\n",
    "print(f\"average prediction accuracy of {np.mean(y_test.values == y_pred)}\")"
   ]
  },
  {
   "cell_type": "code",
   "execution_count": 23,
   "metadata": {},
   "outputs": [
    {
     "name": "stderr",
     "output_type": "stream",
     "text": [
      "/Users/ntarvand/Documents/unimelb/qap-heuristic/instance_space_analysis/feature_computations.py:26: RuntimeWarning:\n",
      "\n",
      "invalid value encountered in scalar divide\n",
      "\n"
     ]
    },
    {
     "data": {
      "text/plain": [
       "tai256c    256.0\n",
       "nug16b      16.0\n",
       "tai35b      35.0\n",
       "chr22a      22.0\n",
       "esc16h      16.0\n",
       "           ...  \n",
       "rou12       12.0\n",
       "esc16d      16.0\n",
       "tai20b      20.0\n",
       "lipa80a     80.0\n",
       "esc16e      16.0\n",
       "Name: 0, Length: 128, dtype: float64"
      ]
     },
     "execution_count": 23,
     "metadata": {},
     "output_type": "execute_result"
    }
   ],
   "source": [
    "from instance_space_analysis.feature_computations import get_instance_features\n",
    "\n",
    "column_names = ['fuck', 'problem_size', 'flow_sparsity', 'distance_sparsity', 'flow_asymmetry', 'distance_asymmetry', 'flow_dominance', 'distance_dominance', 'flow_max', 'distance_max', 'flow_min', 'distance_min', 'flow_mean', 'distance_mean', 'flow_median', 'distance_median']\n",
    "x = get_instance_features(data, 'data/qapdata/')\n",
    "y = pd.DataFrame(x).transpose()\n",
    "y.rename({str(i): column_names[i] for i in range(16)}, axis=0)\n",
    "\n",
    "{i: column_names[i] for i in range(16)}\n",
    "\n",
    "y[0]"
   ]
  },
  {
   "cell_type": "markdown",
   "metadata": {},
   "source": [
    "## What makes an instance hard for each algo?"
   ]
  },
  {
   "cell_type": "code",
   "execution_count": null,
   "metadata": {},
   "outputs": [],
   "source": []
  },
  {
   "cell_type": "markdown",
   "metadata": {},
   "source": [
    "## What is the best algorithm for a particular instance?"
   ]
  }
 ],
 "metadata": {
  "kernelspec": {
   "display_name": "BERI",
   "language": "python",
   "name": "python3"
  },
  "language_info": {
   "codemirror_mode": {
    "name": "ipython",
    "version": 3
   },
   "file_extension": ".py",
   "mimetype": "text/x-python",
   "name": "python",
   "nbconvert_exporter": "python",
   "pygments_lexer": "ipython3",
   "version": "3.11.2"
  },
  "orig_nbformat": 4
 },
 "nbformat": 4,
 "nbformat_minor": 2
}
