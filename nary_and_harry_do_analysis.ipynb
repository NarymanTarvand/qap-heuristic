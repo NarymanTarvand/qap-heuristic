{
 "cells": [
  {
   "cell_type": "code",
   "execution_count": 12,
   "metadata": {},
   "outputs": [
    {
     "data": {
      "text/html": [
       "<div>\n",
       "<style scoped>\n",
       "    .dataframe tbody tr th:only-of-type {\n",
       "        vertical-align: middle;\n",
       "    }\n",
       "\n",
       "    .dataframe tbody tr th {\n",
       "        vertical-align: top;\n",
       "    }\n",
       "\n",
       "    .dataframe thead th {\n",
       "        text-align: right;\n",
       "    }\n",
       "</style>\n",
       "<table border=\"1\" class=\"dataframe\">\n",
       "  <thead>\n",
       "    <tr style=\"text-align: right;\">\n",
       "      <th></th>\n",
       "      <th>problem_size</th>\n",
       "      <th>flow_sparsity</th>\n",
       "      <th>distance_sparsity</th>\n",
       "      <th>flow_asymmetry</th>\n",
       "      <th>distance_asymmetry</th>\n",
       "      <th>flow_dominance</th>\n",
       "      <th>distance_dominance</th>\n",
       "      <th>flow_max</th>\n",
       "      <th>distance_max</th>\n",
       "      <th>flow_min</th>\n",
       "      <th>distance_min</th>\n",
       "      <th>flow_mean</th>\n",
       "      <th>distance_mean</th>\n",
       "      <th>flow_median</th>\n",
       "      <th>distance_median</th>\n",
       "    </tr>\n",
       "  </thead>\n",
       "  <tbody>\n",
       "    <tr>\n",
       "      <th>tai256c</th>\n",
       "      <td>256</td>\n",
       "      <td>222.937500</td>\n",
       "      <td>1.000000</td>\n",
       "      <td>1.0</td>\n",
       "      <td>1.000000</td>\n",
       "      <td>2.596712</td>\n",
       "      <td>2.178993</td>\n",
       "      <td>1</td>\n",
       "      <td>100000</td>\n",
       "      <td>0</td>\n",
       "      <td>0</td>\n",
       "      <td>0.129150</td>\n",
       "      <td>6378.222656</td>\n",
       "      <td>0.0</td>\n",
       "      <td>2469.5</td>\n",
       "    </tr>\n",
       "    <tr>\n",
       "      <th>nug16b</th>\n",
       "      <td>16</td>\n",
       "      <td>1.000000</td>\n",
       "      <td>5.500000</td>\n",
       "      <td>1.0</td>\n",
       "      <td>1.000000</td>\n",
       "      <td>0.547723</td>\n",
       "      <td>1.155954</td>\n",
       "      <td>6</td>\n",
       "      <td>10</td>\n",
       "      <td>0</td>\n",
       "      <td>0</td>\n",
       "      <td>2.500000</td>\n",
       "      <td>2.531250</td>\n",
       "      <td>2.0</td>\n",
       "      <td>2.0</td>\n",
       "    </tr>\n",
       "    <tr>\n",
       "      <th>tai35b</th>\n",
       "      <td>35</td>\n",
       "      <td>1.000000</td>\n",
       "      <td>19.342857</td>\n",
       "      <td>1.0</td>\n",
       "      <td>0.307563</td>\n",
       "      <td>0.786261</td>\n",
       "      <td>3.094944</td>\n",
       "      <td>1061</td>\n",
       "      <td>21763</td>\n",
       "      <td>0</td>\n",
       "      <td>0</td>\n",
       "      <td>392.901224</td>\n",
       "      <td>1041.668571</td>\n",
       "      <td>572.0</td>\n",
       "      <td>0.0</td>\n",
       "    </tr>\n",
       "    <tr>\n",
       "      <th>chr22a</th>\n",
       "      <td>22</td>\n",
       "      <td>20.090909</td>\n",
       "      <td>1.000000</td>\n",
       "      <td>1.0</td>\n",
       "      <td>1.000000</td>\n",
       "      <td>4.206203</td>\n",
       "      <td>0.668872</td>\n",
       "      <td>50</td>\n",
       "      <td>91</td>\n",
       "      <td>0</td>\n",
       "      <td>0</td>\n",
       "      <td>1.210744</td>\n",
       "      <td>25.450413</td>\n",
       "      <td>0.0</td>\n",
       "      <td>20.0</td>\n",
       "    </tr>\n",
       "    <tr>\n",
       "      <th>esc16h</th>\n",
       "      <td>16</td>\n",
       "      <td>1.625000</td>\n",
       "      <td>5.000000</td>\n",
       "      <td>1.0</td>\n",
       "      <td>1.000000</td>\n",
       "      <td>1.508882</td>\n",
       "      <td>0.846323</td>\n",
       "      <td>21</td>\n",
       "      <td>3</td>\n",
       "      <td>0</td>\n",
       "      <td>0</td>\n",
       "      <td>4.859375</td>\n",
       "      <td>1.062500</td>\n",
       "      <td>1.0</td>\n",
       "      <td>1.0</td>\n",
       "    </tr>\n",
       "  </tbody>\n",
       "</table>\n",
       "</div>"
      ],
      "text/plain": [
       "         problem_size  flow_sparsity  distance_sparsity  flow_asymmetry   \n",
       "tai256c           256     222.937500           1.000000             1.0  \\\n",
       "nug16b             16       1.000000           5.500000             1.0   \n",
       "tai35b             35       1.000000          19.342857             1.0   \n",
       "chr22a             22      20.090909           1.000000             1.0   \n",
       "esc16h             16       1.625000           5.000000             1.0   \n",
       "\n",
       "         distance_asymmetry  flow_dominance  distance_dominance  flow_max   \n",
       "tai256c            1.000000        2.596712            2.178993         1  \\\n",
       "nug16b             1.000000        0.547723            1.155954         6   \n",
       "tai35b             0.307563        0.786261            3.094944      1061   \n",
       "chr22a             1.000000        4.206203            0.668872        50   \n",
       "esc16h             1.000000        1.508882            0.846323        21   \n",
       "\n",
       "         distance_max  flow_min  distance_min   flow_mean  distance_mean   \n",
       "tai256c        100000         0             0    0.129150    6378.222656  \\\n",
       "nug16b             10         0             0    2.500000       2.531250   \n",
       "tai35b          21763         0             0  392.901224    1041.668571   \n",
       "chr22a             91         0             0    1.210744      25.450413   \n",
       "esc16h              3         0             0    4.859375       1.062500   \n",
       "\n",
       "         flow_median  distance_median  \n",
       "tai256c          0.0           2469.5  \n",
       "nug16b           2.0              2.0  \n",
       "tai35b         572.0              0.0  \n",
       "chr22a           0.0             20.0  \n",
       "esc16h           1.0              1.0  "
      ]
     },
     "execution_count": 12,
     "metadata": {},
     "output_type": "execute_result"
    }
   ],
   "source": [
    "import pandas as pd \n",
    "import numpy as np\n",
    "from sklearn.cluster import KMeans, DBSCAN\n",
    "from sklearn.decomposition import PCA\n",
    "import plotly.express as px\n",
    "from instance_space_analysis.feature_computations import get_instance_features\n",
    "\n",
    "data = pd.read_csv(\"data/heuristic_performance_final_scratch.csv\")\n",
    "data.set_index(\"instance\", inplace=True)\n",
    "\n",
    "instance_features = get_instance_features(data, 'data/qapdata/')\n",
    "# data = data.merge(instance_features, how='left', left_index=True, right_index=True)\n",
    "instance_features.head()"
   ]
  },
  {
   "cell_type": "markdown",
   "metadata": {},
   "source": [
    "## What makes a particular instance bad across all algos"
   ]
  },
  {
   "cell_type": "code",
   "execution_count": 2,
   "metadata": {},
   "outputs": [
    {
     "name": "stdout",
     "output_type": "stream",
     "text": [
      "The number of instances in group 1 are 10\n",
      "The number of instances in group 0 are 118\n"
     ]
    }
   ],
   "source": [
    "kmeans = KMeans(n_clusters=2, n_init=100).fit(data)\n",
    "print(f\"The number of instances in group 1 are {sum(kmeans.labels_)}\")\n",
    "print(f\"The number of instances in group 0 are {len(kmeans.labels_) - sum(kmeans.labels_)}\")"
   ]
  },
  {
   "cell_type": "code",
   "execution_count": 13,
   "metadata": {},
   "outputs": [
    {
     "name": "stdout",
     "output_type": "stream",
     "text": [
      "The number of instances in group 1 are -22\n",
      "The number of instances in group 0 are 150\n"
     ]
    }
   ],
   "source": [
    "dbscan = DBSCAN().fit(data)\n",
    "print(f\"The number of instances in group 1 are {sum(dbscan.labels_)}\")\n",
    "print(f\"The number of instances in group 0 are {len(dbscan.labels_) - sum(dbscan.labels_)}\")"
   ]
  },
  {
   "cell_type": "code",
   "execution_count": 3,
   "metadata": {},
   "outputs": [
    {
     "data": {
      "text/html": [
       "<div>\n",
       "<style scoped>\n",
       "    .dataframe tbody tr th:only-of-type {\n",
       "        vertical-align: middle;\n",
       "    }\n",
       "\n",
       "    .dataframe tbody tr th {\n",
       "        vertical-align: top;\n",
       "    }\n",
       "\n",
       "    .dataframe thead th {\n",
       "        text-align: right;\n",
       "    }\n",
       "</style>\n",
       "<table border=\"1\" class=\"dataframe\">\n",
       "  <thead>\n",
       "    <tr style=\"text-align: right;\">\n",
       "      <th></th>\n",
       "      <th>problem_size</th>\n",
       "      <th>flow_sparsity</th>\n",
       "      <th>distance_sparsity</th>\n",
       "      <th>flow_asymmetry</th>\n",
       "      <th>distance_asymmetry</th>\n",
       "      <th>flow_dominance</th>\n",
       "      <th>distance_dominance</th>\n",
       "      <th>flow_max</th>\n",
       "      <th>distance_max</th>\n",
       "      <th>flow_min</th>\n",
       "      <th>distance_min</th>\n",
       "      <th>flow_mean</th>\n",
       "      <th>distance_mean</th>\n",
       "      <th>flow_median</th>\n",
       "      <th>distance_median</th>\n",
       "    </tr>\n",
       "  </thead>\n",
       "  <tbody>\n",
       "    <tr>\n",
       "      <th>tai256c</th>\n",
       "      <td>5.954700</td>\n",
       "      <td>9.186069</td>\n",
       "      <td>-0.595513</td>\n",
       "      <td>0.399050</td>\n",
       "      <td>0.428339</td>\n",
       "      <td>0.707893</td>\n",
       "      <td>0.934446</td>\n",
       "      <td>-0.312484</td>\n",
       "      <td>5.073131</td>\n",
       "      <td>-0.253954</td>\n",
       "      <td>0.0</td>\n",
       "      <td>-0.274350</td>\n",
       "      <td>3.323562</td>\n",
       "      <td>-0.247417</td>\n",
       "      <td>2.607582</td>\n",
       "    </tr>\n",
       "    <tr>\n",
       "      <th>nug16b</th>\n",
       "      <td>-0.687821</td>\n",
       "      <td>-0.285651</td>\n",
       "      <td>-0.280453</td>\n",
       "      <td>0.399050</td>\n",
       "      <td>0.428339</td>\n",
       "      <td>-0.438630</td>\n",
       "      <td>-0.078131</td>\n",
       "      <td>-0.307507</td>\n",
       "      <td>-0.303716</td>\n",
       "      <td>-0.253954</td>\n",
       "      <td>0.0</td>\n",
       "      <td>-0.267333</td>\n",
       "      <td>-0.208219</td>\n",
       "      <td>-0.240930</td>\n",
       "      <td>-0.122438</td>\n",
       "    </tr>\n",
       "    <tr>\n",
       "      <th>tai35b</th>\n",
       "      <td>-0.161955</td>\n",
       "      <td>-0.285651</td>\n",
       "      <td>0.688731</td>\n",
       "      <td>0.399050</td>\n",
       "      <td>-2.025594</td>\n",
       "      <td>-0.305154</td>\n",
       "      <td>1.841030</td>\n",
       "      <td>0.742713</td>\n",
       "      <td>0.866027</td>\n",
       "      <td>-0.253954</td>\n",
       "      <td>0.0</td>\n",
       "      <td>0.888181</td>\n",
       "      <td>0.367406</td>\n",
       "      <td>1.607858</td>\n",
       "      <td>-0.124651</td>\n",
       "    </tr>\n",
       "    <tr>\n",
       "      <th>chr22a</th>\n",
       "      <td>-0.521758</td>\n",
       "      <td>0.529100</td>\n",
       "      <td>-0.595513</td>\n",
       "      <td>0.399050</td>\n",
       "      <td>0.428339</td>\n",
       "      <td>1.608492</td>\n",
       "      <td>-0.560231</td>\n",
       "      <td>-0.263706</td>\n",
       "      <td>-0.299360</td>\n",
       "      <td>-0.253954</td>\n",
       "      <td>0.0</td>\n",
       "      <td>-0.271149</td>\n",
       "      <td>-0.195523</td>\n",
       "      <td>-0.247417</td>\n",
       "      <td>-0.102523</td>\n",
       "    </tr>\n",
       "    <tr>\n",
       "      <th>esc16h</th>\n",
       "      <td>-0.687821</td>\n",
       "      <td>-0.258977</td>\n",
       "      <td>-0.315460</td>\n",
       "      <td>0.399050</td>\n",
       "      <td>0.428339</td>\n",
       "      <td>0.099192</td>\n",
       "      <td>-0.384595</td>\n",
       "      <td>-0.292575</td>\n",
       "      <td>-0.304092</td>\n",
       "      <td>-0.253954</td>\n",
       "      <td>0.0</td>\n",
       "      <td>-0.260349</td>\n",
       "      <td>-0.209032</td>\n",
       "      <td>-0.244174</td>\n",
       "      <td>-0.123544</td>\n",
       "    </tr>\n",
       "    <tr>\n",
       "      <th>...</th>\n",
       "      <td>...</td>\n",
       "      <td>...</td>\n",
       "      <td>...</td>\n",
       "      <td>...</td>\n",
       "      <td>...</td>\n",
       "      <td>...</td>\n",
       "      <td>...</td>\n",
       "      <td>...</td>\n",
       "      <td>...</td>\n",
       "      <td>...</td>\n",
       "      <td>...</td>\n",
       "      <td>...</td>\n",
       "      <td>...</td>\n",
       "      <td>...</td>\n",
       "      <td>...</td>\n",
       "    </tr>\n",
       "    <tr>\n",
       "      <th>rou12</th>\n",
       "      <td>-0.798530</td>\n",
       "      <td>-0.285651</td>\n",
       "      <td>-0.583844</td>\n",
       "      <td>0.399050</td>\n",
       "      <td>0.428339</td>\n",
       "      <td>-0.369912</td>\n",
       "      <td>-0.514195</td>\n",
       "      <td>-0.214928</td>\n",
       "      <td>-0.298930</td>\n",
       "      <td>-0.253954</td>\n",
       "      <td>0.0</td>\n",
       "      <td>-0.136978</td>\n",
       "      <td>-0.186240</td>\n",
       "      <td>-0.104704</td>\n",
       "      <td>-0.078182</td>\n",
       "    </tr>\n",
       "    <tr>\n",
       "      <th>esc16d</th>\n",
       "      <td>-0.687821</td>\n",
       "      <td>0.242482</td>\n",
       "      <td>-0.315460</td>\n",
       "      <td>0.399050</td>\n",
       "      <td>0.428339</td>\n",
       "      <td>0.571103</td>\n",
       "      <td>-0.384595</td>\n",
       "      <td>-0.311488</td>\n",
       "      <td>-0.304092</td>\n",
       "      <td>-0.253954</td>\n",
       "      <td>0.0</td>\n",
       "      <td>-0.274200</td>\n",
       "      <td>-0.209032</td>\n",
       "      <td>-0.247417</td>\n",
       "      <td>-0.123544</td>\n",
       "    </tr>\n",
       "    <tr>\n",
       "      <th>tai20b</th>\n",
       "      <td>-0.577112</td>\n",
       "      <td>-0.285651</td>\n",
       "      <td>-0.021404</td>\n",
       "      <td>0.399050</td>\n",
       "      <td>-2.481396</td>\n",
       "      <td>-0.028357</td>\n",
       "      <td>2.071841</td>\n",
       "      <td>0.501810</td>\n",
       "      <td>2.898463</td>\n",
       "      <td>-0.253954</td>\n",
       "      <td>0.0</td>\n",
       "      <td>0.521694</td>\n",
       "      <td>1.368174</td>\n",
       "      <td>-0.098217</td>\n",
       "      <td>-0.123544</td>\n",
       "    </tr>\n",
       "    <tr>\n",
       "      <th>lipa80a</th>\n",
       "      <td>1.083518</td>\n",
       "      <td>-0.243507</td>\n",
       "      <td>-0.595513</td>\n",
       "      <td>-0.015716</td>\n",
       "      <td>0.428339</td>\n",
       "      <td>-0.636070</td>\n",
       "      <td>-0.804071</td>\n",
       "      <td>-0.311488</td>\n",
       "      <td>-0.299951</td>\n",
       "      <td>-0.253954</td>\n",
       "      <td>0.0</td>\n",
       "      <td>-0.271809</td>\n",
       "      <td>-0.187245</td>\n",
       "      <td>-0.244174</td>\n",
       "      <td>-0.079288</td>\n",
       "    </tr>\n",
       "    <tr>\n",
       "      <th>esc16e</th>\n",
       "      <td>-0.687821</td>\n",
       "      <td>0.242482</td>\n",
       "      <td>-0.315460</td>\n",
       "      <td>0.399050</td>\n",
       "      <td>0.428339</td>\n",
       "      <td>0.648047</td>\n",
       "      <td>-0.384595</td>\n",
       "      <td>-0.310493</td>\n",
       "      <td>-0.304092</td>\n",
       "      <td>-0.253954</td>\n",
       "      <td>0.0</td>\n",
       "      <td>-0.274108</td>\n",
       "      <td>-0.209032</td>\n",
       "      <td>-0.247417</td>\n",
       "      <td>-0.123544</td>\n",
       "    </tr>\n",
       "  </tbody>\n",
       "</table>\n",
       "<p>128 rows × 15 columns</p>\n",
       "</div>"
      ],
      "text/plain": [
       "         problem_size  flow_sparsity  distance_sparsity  flow_asymmetry   \n",
       "tai256c      5.954700       9.186069          -0.595513        0.399050  \\\n",
       "nug16b      -0.687821      -0.285651          -0.280453        0.399050   \n",
       "tai35b      -0.161955      -0.285651           0.688731        0.399050   \n",
       "chr22a      -0.521758       0.529100          -0.595513        0.399050   \n",
       "esc16h      -0.687821      -0.258977          -0.315460        0.399050   \n",
       "...               ...            ...                ...             ...   \n",
       "rou12       -0.798530      -0.285651          -0.583844        0.399050   \n",
       "esc16d      -0.687821       0.242482          -0.315460        0.399050   \n",
       "tai20b      -0.577112      -0.285651          -0.021404        0.399050   \n",
       "lipa80a      1.083518      -0.243507          -0.595513       -0.015716   \n",
       "esc16e      -0.687821       0.242482          -0.315460        0.399050   \n",
       "\n",
       "         distance_asymmetry  flow_dominance  distance_dominance  flow_max   \n",
       "tai256c            0.428339        0.707893            0.934446 -0.312484  \\\n",
       "nug16b             0.428339       -0.438630           -0.078131 -0.307507   \n",
       "tai35b            -2.025594       -0.305154            1.841030  0.742713   \n",
       "chr22a             0.428339        1.608492           -0.560231 -0.263706   \n",
       "esc16h             0.428339        0.099192           -0.384595 -0.292575   \n",
       "...                     ...             ...                 ...       ...   \n",
       "rou12              0.428339       -0.369912           -0.514195 -0.214928   \n",
       "esc16d             0.428339        0.571103           -0.384595 -0.311488   \n",
       "tai20b            -2.481396       -0.028357            2.071841  0.501810   \n",
       "lipa80a            0.428339       -0.636070           -0.804071 -0.311488   \n",
       "esc16e             0.428339        0.648047           -0.384595 -0.310493   \n",
       "\n",
       "         distance_max  flow_min  distance_min  flow_mean  distance_mean   \n",
       "tai256c      5.073131 -0.253954           0.0  -0.274350       3.323562  \\\n",
       "nug16b      -0.303716 -0.253954           0.0  -0.267333      -0.208219   \n",
       "tai35b       0.866027 -0.253954           0.0   0.888181       0.367406   \n",
       "chr22a      -0.299360 -0.253954           0.0  -0.271149      -0.195523   \n",
       "esc16h      -0.304092 -0.253954           0.0  -0.260349      -0.209032   \n",
       "...               ...       ...           ...        ...            ...   \n",
       "rou12       -0.298930 -0.253954           0.0  -0.136978      -0.186240   \n",
       "esc16d      -0.304092 -0.253954           0.0  -0.274200      -0.209032   \n",
       "tai20b       2.898463 -0.253954           0.0   0.521694       1.368174   \n",
       "lipa80a     -0.299951 -0.253954           0.0  -0.271809      -0.187245   \n",
       "esc16e      -0.304092 -0.253954           0.0  -0.274108      -0.209032   \n",
       "\n",
       "         flow_median  distance_median  \n",
       "tai256c    -0.247417         2.607582  \n",
       "nug16b     -0.240930        -0.122438  \n",
       "tai35b      1.607858        -0.124651  \n",
       "chr22a     -0.247417        -0.102523  \n",
       "esc16h     -0.244174        -0.123544  \n",
       "...              ...              ...  \n",
       "rou12      -0.104704        -0.078182  \n",
       "esc16d     -0.247417        -0.123544  \n",
       "tai20b     -0.098217        -0.123544  \n",
       "lipa80a    -0.244174        -0.079288  \n",
       "esc16e     -0.247417        -0.123544  \n",
       "\n",
       "[128 rows x 15 columns]"
      ]
     },
     "execution_count": 3,
     "metadata": {},
     "output_type": "execute_result"
    }
   ],
   "source": [
    "from sklearn.preprocessing import StandardScaler\n",
    "\n",
    "instance_features[instance_features.columns] = StandardScaler().fit_transform(instance_features[instance_features.columns])"
   ]
  },
  {
   "cell_type": "code",
   "execution_count": 4,
   "metadata": {},
   "outputs": [],
   "source": [
    "pca = PCA(n_components=2)\n",
    "principalComponents = pca.fit_transform(instance_features)"
   ]
  },
  {
   "cell_type": "code",
   "execution_count": 5,
   "metadata": {},
   "outputs": [],
   "source": [
    "pca_df = pd.DataFrame(principalComponents).set_index(data.index)\n",
    "# pca_kmeans = KMeans(n_clusters=2, n_init=100).fit(pca_df)\n",
    "\n",
    "pca_df['label'] = kmeans.labels_.astype(str)\n",
    "\n",
    "instance_features['label'] = kmeans.labels_.astype(str)"
   ]
  },
  {
   "cell_type": "code",
   "execution_count": 6,
   "metadata": {},
   "outputs": [
    {
     "data": {
      "application/vnd.plotly.v1+json": {
       "config": {
        "plotlyServerURL": "https://plot.ly"
       },
       "data": [
        {
         "hovertemplate": "label=0<br>0=%{x}<br>1=%{y}<extra></extra>",
         "legendgroup": "0",
         "marker": {
          "color": "#636efa",
          "symbol": "circle"
         },
         "mode": "markers",
         "name": "0",
         "orientation": "v",
         "showlegend": true,
         "type": "scatter",
         "x": [
          2.8690605083194494,
          -0.763582817137529,
          3.2214680139144325,
          -1.1251995218051667,
          -0.9318434216646891,
          -1.1043649004973606,
          -1.0665588417010756,
          -0.9867225052955167,
          -0.8657013151165204,
          -0.8440523884645952,
          -0.8435516328072818,
          -1.1251995218051676,
          -1.1574993624771748,
          -1.1407998702072892,
          -0.45713246254355117,
          -1.0382674860059338,
          -0.9963892572825034,
          4.842020885422354,
          -0.884535539789442,
          -1.1769529163855432,
          3.7988252588051195,
          -1.2304156435934905,
          2.8980964651911525,
          -0.7217729602623238,
          -1.1297006797505977,
          -0.6664053741639796,
          -0.8616816625747701,
          -1.1035474700158627,
          0.23668199582297272,
          -0.7875175226479564,
          -1.1205541176343419,
          -1.008409375393504,
          -1.0741443781665905,
          3.9335642096452883,
          -1.1035474700158627,
          3.798641852441491,
          -0.4675180630261977,
          -0.5933933849002041,
          0.24037972101758218,
          -1.1035474700158627,
          0.3890481554926707,
          -0.30676311500483694,
          -1.0203198342905984,
          3.922696998333621,
          -0.8553188233956849,
          -0.8138088852930373,
          -1.1825740098779849,
          -1.1876224976490244,
          -0.22120155095350863,
          -0.8404754622830913,
          -1.0754422508011083,
          1.0600011431789418,
          2.653203440390398,
          -1.121127765183688,
          -0.2113806632151808,
          -1.1391723143869534,
          -0.8116108802042382,
          1.5895386744452313,
          0.8501090660684976,
          1.416189877730131,
          -0.13770125472354394,
          -1.1237982939885747,
          4.0439692347297385,
          -0.5283632133103288,
          -1.0600444024412117,
          -0.12547909438241972,
          1.1986885091548765,
          1.2585802800322075,
          0.880113722700193,
          -0.15053835317197609,
          -0.7008979864955918,
          -0.8050505603194595,
          0.00832977827867768,
          -1.0576775539270595,
          -0.8058672219464734,
          -0.6563050827830216,
          -0.7019858094576773,
          -1.122260016267229,
          12.760002689775327,
          1.7471482721431535,
          4.058058800496764,
          1.3562981068527995,
          -0.11909623765970746,
          -1.1253426491215075,
          -0.7952826909421492,
          -0.36754836817825,
          -0.7029446043341924,
          -0.9495681474667462,
          -0.11361777291920973,
          1.4186591156769046,
          -0.8435947247919995,
          0.005660106897702398,
          -0.4134697998208053,
          -0.7090306994524384,
          -0.9258354821532216,
          -0.12595396785923535,
          1.5762687133748277,
          -0.8418657271604955,
          -0.8760878259591168,
          -0.9424268679702165,
          3.11225210167323,
          4.197211633505428,
          -0.8648222256132184,
          4.2857985397747,
          -0.9122863372798024,
          -0.9290110227802022,
          -0.888401752360553,
          -0.779032595399294,
          -0.660181600345372,
          -0.9717317555525382,
          -0.8836452576965406,
          -0.9699497215986893,
          -0.875233468454802,
          -0.8781656487079352,
          -0.965112771227885,
          3.064710579273053,
          -0.9771313764553649,
          -0.9698265785546425
         ],
         "xaxis": "x",
         "y": [
          10.33352780113022,
          -0.39931249870433083,
          -0.5433793988324293,
          0.5632933059361788,
          -0.23904503377556888,
          -0.2839761443783893,
          -0.4118724234388748,
          0.2015120629951326,
          -0.3734659622621156,
          -0.3838884798968998,
          -0.2497888446819616,
          0.5632933059361817,
          -0.5088810541800575,
          0.35518791631811764,
          -0.36406562794803493,
          -0.14456572295318162,
          0.24508874576671155,
          0.4621711501872434,
          -0.3340600783128615,
          -0.4647712909027706,
          -1.01770675407277,
          -0.606382351119546,
          -0.19899633061997615,
          0.006458229759617046,
          -0.4975173880692442,
          0.11925693854313574,
          -0.31584378948502717,
          0.17441670646472923,
          -0.6507409532854619,
          -0.4134878515902095,
          -0.3089420185341352,
          -0.0788115440072068,
          -0.21201339645325515,
          -0.8969576394802701,
          0.17441670646472923,
          0.728064950723692,
          -0.24974835386056937,
          -0.2993513479008953,
          -0.6511731420380167,
          0.17441670646472923,
          -0.35063569499074265,
          -0.14640716517260677,
          -0.34541755976494154,
          13.878969723781767,
          -0.3892412996267483,
          -0.3958599331237587,
          1.3987554509676854,
          -0.5423026513243885,
          -0.1162306471487981,
          -0.3960113223125708,
          -0.03196087524833786,
          -0.10899602935951674,
          1.1872804824546979,
          -0.32142131762262127,
          -0.37504001052096125,
          -0.3636654056814192,
          -0.3856863174117082,
          -0.9550796047338415,
          -0.5154306389185672,
          -1.3889798718600121,
          -0.07891716703623693,
          -0.3405855736843216,
          -1.3114413654351813,
          -0.2756254493257875,
          -0.047009687276506736,
          -0.0836150512730246,
          -1.1044207499665168,
          -1.103322214922988,
          -0.4683669109400485,
          -0.076289620089853,
          -0.3697337676767326,
          -0.16326465961456446,
          -0.3407415959555008,
          0.42148685411292036,
          -0.3835206263815281,
          -0.35100808261488053,
          -0.3722787061337061,
          -0.3313880027860856,
          -5.094273962372044,
          -1.2407372616708658,
          0.48991266560216323,
          -1.3900784069035403,
          -0.08463188337550707,
          -0.35636454180225346,
          -0.37571352011161663,
          -0.18350677486854447,
          -0.38288190362329194,
          0.04924544258392079,
          -0.08523113999020333,
          -1.0982032468898766,
          -0.2919647581729536,
          -0.38478893019892235,
          -0.21873051790435905,
          -0.36864919695855997,
          -0.22246215198828112,
          -0.08315047034534231,
          -1.383860903826901,
          -0.21510702355032846,
          -0.3506143058318649,
          -0.03117782198936145,
          1.8414758010645058,
          -1.301556557616135,
          -0.19199558677868472,
          -0.9425867861866816,
          -0.2900241733085954,
          -0.11404091857878335,
          -0.36149379540931637,
          -0.10950160421042551,
          0.059786766154124316,
          0.1276465199080125,
          -0.3281514758656368,
          -0.27910237632073875,
          -0.186852783872285,
          -0.3857761866283839,
          0.1008243534718222,
          1.0906769903860158,
          -0.014524662538430055,
          0.12030685571877137
         ],
         "yaxis": "y"
        },
        {
         "hovertemplate": "label=1<br>0=%{x}<br>1=%{y}<extra></extra>",
         "legendgroup": "1",
         "marker": {
          "color": "#EF553B",
          "symbol": "circle"
         },
         "mode": "markers",
         "name": "1",
         "orientation": "v",
         "showlegend": true,
         "type": "scatter",
         "x": [
          -1.100571115402209,
          -1.0785227403297708,
          -1.0785227403297708,
          -1.0785227403297708,
          -1.1587726479970575,
          -1.2719231364771362,
          -0.9825819677572757,
          -1.1199567387763492,
          -1.082451977665688,
          -1.1199567387763492
         ],
         "xaxis": "x",
         "y": [
          0.3810526324475623,
          0.2719797283931206,
          0.2719797283931206,
          0.2719797283931206,
          0.6482505134752822,
          1.7467146933906375,
          4.118511377772979,
          0.3885668368118241,
          0.4213021176214875,
          0.3885668368118241
         ],
         "yaxis": "y"
        }
       ],
       "layout": {
        "legend": {
         "title": {
          "text": "label"
         },
         "tracegroupgap": 0
        },
        "margin": {
         "t": 60
        },
        "template": {
         "data": {
          "bar": [
           {
            "error_x": {
             "color": "#2a3f5f"
            },
            "error_y": {
             "color": "#2a3f5f"
            },
            "marker": {
             "line": {
              "color": "#E5ECF6",
              "width": 0.5
             },
             "pattern": {
              "fillmode": "overlay",
              "size": 10,
              "solidity": 0.2
             }
            },
            "type": "bar"
           }
          ],
          "barpolar": [
           {
            "marker": {
             "line": {
              "color": "#E5ECF6",
              "width": 0.5
             },
             "pattern": {
              "fillmode": "overlay",
              "size": 10,
              "solidity": 0.2
             }
            },
            "type": "barpolar"
           }
          ],
          "carpet": [
           {
            "aaxis": {
             "endlinecolor": "#2a3f5f",
             "gridcolor": "white",
             "linecolor": "white",
             "minorgridcolor": "white",
             "startlinecolor": "#2a3f5f"
            },
            "baxis": {
             "endlinecolor": "#2a3f5f",
             "gridcolor": "white",
             "linecolor": "white",
             "minorgridcolor": "white",
             "startlinecolor": "#2a3f5f"
            },
            "type": "carpet"
           }
          ],
          "choropleth": [
           {
            "colorbar": {
             "outlinewidth": 0,
             "ticks": ""
            },
            "type": "choropleth"
           }
          ],
          "contour": [
           {
            "colorbar": {
             "outlinewidth": 0,
             "ticks": ""
            },
            "colorscale": [
             [
              0,
              "#0d0887"
             ],
             [
              0.1111111111111111,
              "#46039f"
             ],
             [
              0.2222222222222222,
              "#7201a8"
             ],
             [
              0.3333333333333333,
              "#9c179e"
             ],
             [
              0.4444444444444444,
              "#bd3786"
             ],
             [
              0.5555555555555556,
              "#d8576b"
             ],
             [
              0.6666666666666666,
              "#ed7953"
             ],
             [
              0.7777777777777778,
              "#fb9f3a"
             ],
             [
              0.8888888888888888,
              "#fdca26"
             ],
             [
              1,
              "#f0f921"
             ]
            ],
            "type": "contour"
           }
          ],
          "contourcarpet": [
           {
            "colorbar": {
             "outlinewidth": 0,
             "ticks": ""
            },
            "type": "contourcarpet"
           }
          ],
          "heatmap": [
           {
            "colorbar": {
             "outlinewidth": 0,
             "ticks": ""
            },
            "colorscale": [
             [
              0,
              "#0d0887"
             ],
             [
              0.1111111111111111,
              "#46039f"
             ],
             [
              0.2222222222222222,
              "#7201a8"
             ],
             [
              0.3333333333333333,
              "#9c179e"
             ],
             [
              0.4444444444444444,
              "#bd3786"
             ],
             [
              0.5555555555555556,
              "#d8576b"
             ],
             [
              0.6666666666666666,
              "#ed7953"
             ],
             [
              0.7777777777777778,
              "#fb9f3a"
             ],
             [
              0.8888888888888888,
              "#fdca26"
             ],
             [
              1,
              "#f0f921"
             ]
            ],
            "type": "heatmap"
           }
          ],
          "heatmapgl": [
           {
            "colorbar": {
             "outlinewidth": 0,
             "ticks": ""
            },
            "colorscale": [
             [
              0,
              "#0d0887"
             ],
             [
              0.1111111111111111,
              "#46039f"
             ],
             [
              0.2222222222222222,
              "#7201a8"
             ],
             [
              0.3333333333333333,
              "#9c179e"
             ],
             [
              0.4444444444444444,
              "#bd3786"
             ],
             [
              0.5555555555555556,
              "#d8576b"
             ],
             [
              0.6666666666666666,
              "#ed7953"
             ],
             [
              0.7777777777777778,
              "#fb9f3a"
             ],
             [
              0.8888888888888888,
              "#fdca26"
             ],
             [
              1,
              "#f0f921"
             ]
            ],
            "type": "heatmapgl"
           }
          ],
          "histogram": [
           {
            "marker": {
             "pattern": {
              "fillmode": "overlay",
              "size": 10,
              "solidity": 0.2
             }
            },
            "type": "histogram"
           }
          ],
          "histogram2d": [
           {
            "colorbar": {
             "outlinewidth": 0,
             "ticks": ""
            },
            "colorscale": [
             [
              0,
              "#0d0887"
             ],
             [
              0.1111111111111111,
              "#46039f"
             ],
             [
              0.2222222222222222,
              "#7201a8"
             ],
             [
              0.3333333333333333,
              "#9c179e"
             ],
             [
              0.4444444444444444,
              "#bd3786"
             ],
             [
              0.5555555555555556,
              "#d8576b"
             ],
             [
              0.6666666666666666,
              "#ed7953"
             ],
             [
              0.7777777777777778,
              "#fb9f3a"
             ],
             [
              0.8888888888888888,
              "#fdca26"
             ],
             [
              1,
              "#f0f921"
             ]
            ],
            "type": "histogram2d"
           }
          ],
          "histogram2dcontour": [
           {
            "colorbar": {
             "outlinewidth": 0,
             "ticks": ""
            },
            "colorscale": [
             [
              0,
              "#0d0887"
             ],
             [
              0.1111111111111111,
              "#46039f"
             ],
             [
              0.2222222222222222,
              "#7201a8"
             ],
             [
              0.3333333333333333,
              "#9c179e"
             ],
             [
              0.4444444444444444,
              "#bd3786"
             ],
             [
              0.5555555555555556,
              "#d8576b"
             ],
             [
              0.6666666666666666,
              "#ed7953"
             ],
             [
              0.7777777777777778,
              "#fb9f3a"
             ],
             [
              0.8888888888888888,
              "#fdca26"
             ],
             [
              1,
              "#f0f921"
             ]
            ],
            "type": "histogram2dcontour"
           }
          ],
          "mesh3d": [
           {
            "colorbar": {
             "outlinewidth": 0,
             "ticks": ""
            },
            "type": "mesh3d"
           }
          ],
          "parcoords": [
           {
            "line": {
             "colorbar": {
              "outlinewidth": 0,
              "ticks": ""
             }
            },
            "type": "parcoords"
           }
          ],
          "pie": [
           {
            "automargin": true,
            "type": "pie"
           }
          ],
          "scatter": [
           {
            "fillpattern": {
             "fillmode": "overlay",
             "size": 10,
             "solidity": 0.2
            },
            "type": "scatter"
           }
          ],
          "scatter3d": [
           {
            "line": {
             "colorbar": {
              "outlinewidth": 0,
              "ticks": ""
             }
            },
            "marker": {
             "colorbar": {
              "outlinewidth": 0,
              "ticks": ""
             }
            },
            "type": "scatter3d"
           }
          ],
          "scattercarpet": [
           {
            "marker": {
             "colorbar": {
              "outlinewidth": 0,
              "ticks": ""
             }
            },
            "type": "scattercarpet"
           }
          ],
          "scattergeo": [
           {
            "marker": {
             "colorbar": {
              "outlinewidth": 0,
              "ticks": ""
             }
            },
            "type": "scattergeo"
           }
          ],
          "scattergl": [
           {
            "marker": {
             "colorbar": {
              "outlinewidth": 0,
              "ticks": ""
             }
            },
            "type": "scattergl"
           }
          ],
          "scattermapbox": [
           {
            "marker": {
             "colorbar": {
              "outlinewidth": 0,
              "ticks": ""
             }
            },
            "type": "scattermapbox"
           }
          ],
          "scatterpolar": [
           {
            "marker": {
             "colorbar": {
              "outlinewidth": 0,
              "ticks": ""
             }
            },
            "type": "scatterpolar"
           }
          ],
          "scatterpolargl": [
           {
            "marker": {
             "colorbar": {
              "outlinewidth": 0,
              "ticks": ""
             }
            },
            "type": "scatterpolargl"
           }
          ],
          "scatterternary": [
           {
            "marker": {
             "colorbar": {
              "outlinewidth": 0,
              "ticks": ""
             }
            },
            "type": "scatterternary"
           }
          ],
          "surface": [
           {
            "colorbar": {
             "outlinewidth": 0,
             "ticks": ""
            },
            "colorscale": [
             [
              0,
              "#0d0887"
             ],
             [
              0.1111111111111111,
              "#46039f"
             ],
             [
              0.2222222222222222,
              "#7201a8"
             ],
             [
              0.3333333333333333,
              "#9c179e"
             ],
             [
              0.4444444444444444,
              "#bd3786"
             ],
             [
              0.5555555555555556,
              "#d8576b"
             ],
             [
              0.6666666666666666,
              "#ed7953"
             ],
             [
              0.7777777777777778,
              "#fb9f3a"
             ],
             [
              0.8888888888888888,
              "#fdca26"
             ],
             [
              1,
              "#f0f921"
             ]
            ],
            "type": "surface"
           }
          ],
          "table": [
           {
            "cells": {
             "fill": {
              "color": "#EBF0F8"
             },
             "line": {
              "color": "white"
             }
            },
            "header": {
             "fill": {
              "color": "#C8D4E3"
             },
             "line": {
              "color": "white"
             }
            },
            "type": "table"
           }
          ]
         },
         "layout": {
          "annotationdefaults": {
           "arrowcolor": "#2a3f5f",
           "arrowhead": 0,
           "arrowwidth": 1
          },
          "autotypenumbers": "strict",
          "coloraxis": {
           "colorbar": {
            "outlinewidth": 0,
            "ticks": ""
           }
          },
          "colorscale": {
           "diverging": [
            [
             0,
             "#8e0152"
            ],
            [
             0.1,
             "#c51b7d"
            ],
            [
             0.2,
             "#de77ae"
            ],
            [
             0.3,
             "#f1b6da"
            ],
            [
             0.4,
             "#fde0ef"
            ],
            [
             0.5,
             "#f7f7f7"
            ],
            [
             0.6,
             "#e6f5d0"
            ],
            [
             0.7,
             "#b8e186"
            ],
            [
             0.8,
             "#7fbc41"
            ],
            [
             0.9,
             "#4d9221"
            ],
            [
             1,
             "#276419"
            ]
           ],
           "sequential": [
            [
             0,
             "#0d0887"
            ],
            [
             0.1111111111111111,
             "#46039f"
            ],
            [
             0.2222222222222222,
             "#7201a8"
            ],
            [
             0.3333333333333333,
             "#9c179e"
            ],
            [
             0.4444444444444444,
             "#bd3786"
            ],
            [
             0.5555555555555556,
             "#d8576b"
            ],
            [
             0.6666666666666666,
             "#ed7953"
            ],
            [
             0.7777777777777778,
             "#fb9f3a"
            ],
            [
             0.8888888888888888,
             "#fdca26"
            ],
            [
             1,
             "#f0f921"
            ]
           ],
           "sequentialminus": [
            [
             0,
             "#0d0887"
            ],
            [
             0.1111111111111111,
             "#46039f"
            ],
            [
             0.2222222222222222,
             "#7201a8"
            ],
            [
             0.3333333333333333,
             "#9c179e"
            ],
            [
             0.4444444444444444,
             "#bd3786"
            ],
            [
             0.5555555555555556,
             "#d8576b"
            ],
            [
             0.6666666666666666,
             "#ed7953"
            ],
            [
             0.7777777777777778,
             "#fb9f3a"
            ],
            [
             0.8888888888888888,
             "#fdca26"
            ],
            [
             1,
             "#f0f921"
            ]
           ]
          },
          "colorway": [
           "#636efa",
           "#EF553B",
           "#00cc96",
           "#ab63fa",
           "#FFA15A",
           "#19d3f3",
           "#FF6692",
           "#B6E880",
           "#FF97FF",
           "#FECB52"
          ],
          "font": {
           "color": "#2a3f5f"
          },
          "geo": {
           "bgcolor": "white",
           "lakecolor": "white",
           "landcolor": "#E5ECF6",
           "showlakes": true,
           "showland": true,
           "subunitcolor": "white"
          },
          "hoverlabel": {
           "align": "left"
          },
          "hovermode": "closest",
          "mapbox": {
           "style": "light"
          },
          "paper_bgcolor": "white",
          "plot_bgcolor": "#E5ECF6",
          "polar": {
           "angularaxis": {
            "gridcolor": "white",
            "linecolor": "white",
            "ticks": ""
           },
           "bgcolor": "#E5ECF6",
           "radialaxis": {
            "gridcolor": "white",
            "linecolor": "white",
            "ticks": ""
           }
          },
          "scene": {
           "xaxis": {
            "backgroundcolor": "#E5ECF6",
            "gridcolor": "white",
            "gridwidth": 2,
            "linecolor": "white",
            "showbackground": true,
            "ticks": "",
            "zerolinecolor": "white"
           },
           "yaxis": {
            "backgroundcolor": "#E5ECF6",
            "gridcolor": "white",
            "gridwidth": 2,
            "linecolor": "white",
            "showbackground": true,
            "ticks": "",
            "zerolinecolor": "white"
           },
           "zaxis": {
            "backgroundcolor": "#E5ECF6",
            "gridcolor": "white",
            "gridwidth": 2,
            "linecolor": "white",
            "showbackground": true,
            "ticks": "",
            "zerolinecolor": "white"
           }
          },
          "shapedefaults": {
           "line": {
            "color": "#2a3f5f"
           }
          },
          "ternary": {
           "aaxis": {
            "gridcolor": "white",
            "linecolor": "white",
            "ticks": ""
           },
           "baxis": {
            "gridcolor": "white",
            "linecolor": "white",
            "ticks": ""
           },
           "bgcolor": "#E5ECF6",
           "caxis": {
            "gridcolor": "white",
            "linecolor": "white",
            "ticks": ""
           }
          },
          "title": {
           "x": 0.05
          },
          "xaxis": {
           "automargin": true,
           "gridcolor": "white",
           "linecolor": "white",
           "ticks": "",
           "title": {
            "standoff": 15
           },
           "zerolinecolor": "white",
           "zerolinewidth": 2
          },
          "yaxis": {
           "automargin": true,
           "gridcolor": "white",
           "linecolor": "white",
           "ticks": "",
           "title": {
            "standoff": 15
           },
           "zerolinecolor": "white",
           "zerolinewidth": 2
          }
         }
        },
        "xaxis": {
         "anchor": "y",
         "domain": [
          0,
          1
         ],
         "title": {
          "text": "0"
         }
        },
        "yaxis": {
         "anchor": "x",
         "domain": [
          0,
          1
         ],
         "title": {
          "text": "1"
         }
        }
       }
      }
     },
     "metadata": {},
     "output_type": "display_data"
    }
   ],
   "source": [
    "px.scatter(pca_df, x = 0, y=1, color='label')"
   ]
  },
  {
   "cell_type": "code",
   "execution_count": 7,
   "metadata": {},
   "outputs": [
    {
     "data": {
      "text/html": [
       "<div>\n",
       "<style scoped>\n",
       "    .dataframe tbody tr th:only-of-type {\n",
       "        vertical-align: middle;\n",
       "    }\n",
       "\n",
       "    .dataframe tbody tr th {\n",
       "        vertical-align: top;\n",
       "    }\n",
       "\n",
       "    .dataframe thead th {\n",
       "        text-align: right;\n",
       "    }\n",
       "</style>\n",
       "<table border=\"1\" class=\"dataframe\">\n",
       "  <thead>\n",
       "    <tr style=\"text-align: right;\">\n",
       "      <th></th>\n",
       "      <th>elshafei_constructive_greedy_local_search_objective</th>\n",
       "      <th>constructive_greedy_local_search_objective</th>\n",
       "      <th>5_multistart_adjacent_swap_optimal_neighbour_objective</th>\n",
       "      <th>5_multistart_adjacent_swap_first_improvement_objective</th>\n",
       "      <th>5_dissimilarity_local_search_adjacent_swap_objective</th>\n",
       "      <th>5_multistart_total_swap_optimal_neighbour_objective</th>\n",
       "      <th>5_multistart_total_swap_first_improvement_objective</th>\n",
       "      <th>5_dissimilarity_local_search_total_swap_objective</th>\n",
       "      <th>10_multistart_adjacent_swap_optimal_neighbour_objective</th>\n",
       "      <th>10_multistart_adjacent_swap_first_improvement_objective</th>\n",
       "      <th>...</th>\n",
       "      <th>10_dissimilarity_local_search_total_swap_objective</th>\n",
       "      <th>25_multistart_adjacent_swap_optimal_neighbour_objective</th>\n",
       "      <th>25_multistart_adjacent_swap_first_improvement_objective</th>\n",
       "      <th>25_dissimilarity_local_search_adjacent_swap_objective</th>\n",
       "      <th>25_multistart_total_swap_optimal_neighbour_objective</th>\n",
       "      <th>25_multistart_total_swap_first_improvement_objective</th>\n",
       "      <th>25_dissimilarity_local_search_total_swap_objective</th>\n",
       "      <th>grasp_local_search</th>\n",
       "      <th>grasp_simulated_annealing</th>\n",
       "      <th>genetic_algorithm</th>\n",
       "    </tr>\n",
       "    <tr>\n",
       "      <th>instance</th>\n",
       "      <th></th>\n",
       "      <th></th>\n",
       "      <th></th>\n",
       "      <th></th>\n",
       "      <th></th>\n",
       "      <th></th>\n",
       "      <th></th>\n",
       "      <th></th>\n",
       "      <th></th>\n",
       "      <th></th>\n",
       "      <th></th>\n",
       "      <th></th>\n",
       "      <th></th>\n",
       "      <th></th>\n",
       "      <th></th>\n",
       "      <th></th>\n",
       "      <th></th>\n",
       "      <th></th>\n",
       "      <th></th>\n",
       "      <th></th>\n",
       "      <th></th>\n",
       "    </tr>\n",
       "  </thead>\n",
       "  <tbody>\n",
       "    <tr>\n",
       "      <th>tai256c</th>\n",
       "      <td>0.003676</td>\n",
       "      <td>0.004289</td>\n",
       "      <td>0.168613</td>\n",
       "      <td>0.168613</td>\n",
       "      <td>0.168613</td>\n",
       "      <td>0.003465</td>\n",
       "      <td>0.003465</td>\n",
       "      <td>0.003465</td>\n",
       "      <td>0.15855</td>\n",
       "      <td>0.15855</td>\n",
       "      <td>...</td>\n",
       "      <td>0.002624</td>\n",
       "      <td>0.166798</td>\n",
       "      <td>0.166798</td>\n",
       "      <td>0.166798</td>\n",
       "      <td>0.003272</td>\n",
       "      <td>0.003272</td>\n",
       "      <td>0.003272</td>\n",
       "      <td>0.002989</td>\n",
       "      <td>0.158515</td>\n",
       "      <td>0.126427</td>\n",
       "    </tr>\n",
       "  </tbody>\n",
       "</table>\n",
       "<p>1 rows × 23 columns</p>\n",
       "</div>"
      ],
      "text/plain": [
       "          elshafei_constructive_greedy_local_search_objective   \n",
       "instance                                                        \n",
       "tai256c                                            0.003676    \\\n",
       "\n",
       "          constructive_greedy_local_search_objective   \n",
       "instance                                               \n",
       "tai256c                                     0.004289  \\\n",
       "\n",
       "          5_multistart_adjacent_swap_optimal_neighbour_objective   \n",
       "instance                                                           \n",
       "tai256c                                            0.168613       \\\n",
       "\n",
       "          5_multistart_adjacent_swap_first_improvement_objective   \n",
       "instance                                                           \n",
       "tai256c                                            0.168613       \\\n",
       "\n",
       "          5_dissimilarity_local_search_adjacent_swap_objective   \n",
       "instance                                                         \n",
       "tai256c                                            0.168613     \\\n",
       "\n",
       "          5_multistart_total_swap_optimal_neighbour_objective   \n",
       "instance                                                        \n",
       "tai256c                                            0.003465    \\\n",
       "\n",
       "          5_multistart_total_swap_first_improvement_objective   \n",
       "instance                                                        \n",
       "tai256c                                            0.003465    \\\n",
       "\n",
       "          5_dissimilarity_local_search_total_swap_objective   \n",
       "instance                                                      \n",
       "tai256c                                            0.003465  \\\n",
       "\n",
       "          10_multistart_adjacent_swap_optimal_neighbour_objective   \n",
       "instance                                                            \n",
       "tai256c                                             0.15855        \\\n",
       "\n",
       "          10_multistart_adjacent_swap_first_improvement_objective  ...   \n",
       "instance                                                           ...   \n",
       "tai256c                                             0.15855        ...  \\\n",
       "\n",
       "          10_dissimilarity_local_search_total_swap_objective   \n",
       "instance                                                       \n",
       "tai256c                                            0.002624   \\\n",
       "\n",
       "          25_multistart_adjacent_swap_optimal_neighbour_objective   \n",
       "instance                                                            \n",
       "tai256c                                            0.166798        \\\n",
       "\n",
       "          25_multistart_adjacent_swap_first_improvement_objective   \n",
       "instance                                                            \n",
       "tai256c                                            0.166798        \\\n",
       "\n",
       "          25_dissimilarity_local_search_adjacent_swap_objective   \n",
       "instance                                                          \n",
       "tai256c                                            0.166798      \\\n",
       "\n",
       "          25_multistart_total_swap_optimal_neighbour_objective   \n",
       "instance                                                         \n",
       "tai256c                                            0.003272     \\\n",
       "\n",
       "          25_multistart_total_swap_first_improvement_objective   \n",
       "instance                                                         \n",
       "tai256c                                            0.003272     \\\n",
       "\n",
       "          25_dissimilarity_local_search_total_swap_objective   \n",
       "instance                                                       \n",
       "tai256c                                            0.003272   \\\n",
       "\n",
       "          grasp_local_search  grasp_simulated_annealing  genetic_algorithm  \n",
       "instance                                                                    \n",
       "tai256c             0.002989                   0.158515           0.126427  \n",
       "\n",
       "[1 rows x 23 columns]"
      ]
     },
     "execution_count": 7,
     "metadata": {},
     "output_type": "execute_result"
    }
   ],
   "source": [
    "data[data.index ==  pca_df[pca_df[1] > 4].index[0]]"
   ]
  },
  {
   "cell_type": "code",
   "execution_count": 8,
   "metadata": {},
   "outputs": [
    {
     "data": {
      "application/vnd.plotly.v1+json": {
       "config": {
        "plotlyServerURL": "https://plot.ly"
       },
       "data": [
        {
         "alignmentgroup": "True",
         "hovertemplate": "label=%{x}<br>flow_asymmetry=%{y}<extra></extra>",
         "legendgroup": "",
         "marker": {
          "color": "#636efa"
         },
         "name": "",
         "notched": false,
         "offsetgroup": "",
         "orientation": "v",
         "showlegend": false,
         "type": "box",
         "x": [
          "0",
          "0",
          "0",
          "0",
          "0",
          "0",
          "1",
          "0",
          "0",
          "0",
          "0",
          "0",
          "0",
          "0",
          "0",
          "0",
          "0",
          "0",
          "0",
          "0",
          "0",
          "1",
          "0",
          "0",
          "1",
          "0",
          "1",
          "0",
          "0",
          "0",
          "0",
          "0",
          "0",
          "0",
          "0",
          "0",
          "0",
          "0",
          "0",
          "0",
          "0",
          "0",
          "0",
          "0",
          "0",
          "0",
          "0",
          "0",
          "0",
          "0",
          "0",
          "0",
          "0",
          "0",
          "0",
          "0",
          "1",
          "0",
          "0",
          "0",
          "0",
          "1",
          "0",
          "0",
          "0",
          "0",
          "0",
          "0",
          "0",
          "0",
          "0",
          "0",
          "0",
          "0",
          "0",
          "0",
          "0",
          "0",
          "0",
          "0",
          "0",
          "0",
          "0",
          "0",
          "0",
          "0",
          "0",
          "0",
          "0",
          "0",
          "0",
          "0",
          "0",
          "0",
          "0",
          "0",
          "0",
          "0",
          "0",
          "0",
          "1",
          "0",
          "0",
          "0",
          "0",
          "0",
          "0",
          "0",
          "0",
          "1",
          "0",
          "0",
          "1",
          "0",
          "0",
          "1",
          "0",
          "0",
          "0",
          "0",
          "0",
          "0",
          "0",
          "0",
          "0",
          "0",
          "0",
          "0"
         ],
         "x0": " ",
         "xaxis": "x",
         "y": [
          0.39905032315627337,
          0.39905032315627337,
          0.39905032315627337,
          0.39905032315627337,
          0.39905032315627337,
          -0.4304832009057823,
          0.39905032315627337,
          -3.3596270005599345,
          0.39905032315627337,
          0.39905032315627337,
          0.39905032315627337,
          0.39905032315627337,
          0.39905032315627337,
          -3.3338505351229775,
          0.39905032315627337,
          0.39905032315627337,
          -0.1539720262184304,
          0.39905032315627337,
          0.39905032315627337,
          0.39905032315627337,
          -1.260016724967838,
          0.39905032315627337,
          0.39905032315627337,
          -3.268361046381237,
          0.39905032315627337,
          0.39905032315627337,
          0.39905032315627337,
          0.39905032315627337,
          -3.7790899572215917,
          0.39905032315627337,
          0.39905032315627337,
          0.39905032315627337,
          0.39905032315627337,
          0.39905032315627337,
          0.39905032315627337,
          -0.07496883345061583,
          -0.26457649609337097,
          0.39905032315627337,
          0.39905032315627337,
          0.39905032315627337,
          0.39905032315627337,
          0.39905032315627337,
          0.39905032315627337,
          0.39905032315627337,
          0.39905032315627337,
          0.39905032315627337,
          -3.2763156012594608,
          0.39905032315627337,
          0.39905032315627337,
          0.39905032315627337,
          0.39905032315627337,
          -3.0716416625746272,
          0.39905032315627337,
          0.39905032315627337,
          0.39905032315627337,
          0.39905032315627337,
          0.39905032315627337,
          0.39905032315627337,
          0.39905032315627337,
          0.39905032315627337,
          -0.7069943755931342,
          0.39905032315627337,
          0.39905032315627337,
          -0.9026792069103375,
          0.39905032315627337,
          -2.1788846285442696,
          0.39905032315627337,
          0.39905032315627337,
          0.39905032315627337,
          0.39905032315627337,
          0.39905032315627337,
          0.39905032315627337,
          -0.9026792069103375,
          -0.9026792069103375,
          0.39905032315627337,
          0.39905032315627337,
          0.39905032315627337,
          0.39905032315627337,
          0.39905032315627337,
          0.39905032315627337,
          0.39905032315627337,
          0.39905032315627337,
          0.39905032315627337,
          0.39905032315627337,
          0.39905032315627337,
          -2.1788846285442696,
          0.39905032315627337,
          -2.1788846285442696,
          0.39905032315627337,
          0.39905032315627337,
          0.39905032315627337,
          0.39905032315627337,
          0.39905032315627337,
          0.030368756906471173,
          0.39905032315627337,
          -0.9026792069103375,
          0.39905032315627337,
          0.39905032315627337,
          0.39905032315627337,
          0.39905032315627337,
          0.39905032315627337,
          -3.0806408639205154,
          0.39905032315627337,
          -2.1788846285442696,
          0.39905032315627337,
          0.39905032315627337,
          0.39905032315627337,
          0.39905032315627337,
          0.39905032315627337,
          0.39905032315627337,
          0.39905032315627337,
          0.39905032315627337,
          0.39905032315627337,
          0.39905032315627337,
          0.39905032315627337,
          0.39905032315627337,
          0.39905032315627337,
          0.39905032315627337,
          0.39905032315627337,
          0.39905032315627337,
          0.39905032315627337,
          -3.1290922601962685,
          0.39905032315627337,
          0.39905032315627337,
          0.39905032315627337,
          0.39905032315627337,
          -0.01571643887475491,
          0.39905032315627337
         ],
         "y0": " ",
         "yaxis": "y"
        }
       ],
       "layout": {
        "boxmode": "group",
        "legend": {
         "tracegroupgap": 0
        },
        "margin": {
         "t": 60
        },
        "template": {
         "data": {
          "bar": [
           {
            "error_x": {
             "color": "#2a3f5f"
            },
            "error_y": {
             "color": "#2a3f5f"
            },
            "marker": {
             "line": {
              "color": "#E5ECF6",
              "width": 0.5
             },
             "pattern": {
              "fillmode": "overlay",
              "size": 10,
              "solidity": 0.2
             }
            },
            "type": "bar"
           }
          ],
          "barpolar": [
           {
            "marker": {
             "line": {
              "color": "#E5ECF6",
              "width": 0.5
             },
             "pattern": {
              "fillmode": "overlay",
              "size": 10,
              "solidity": 0.2
             }
            },
            "type": "barpolar"
           }
          ],
          "carpet": [
           {
            "aaxis": {
             "endlinecolor": "#2a3f5f",
             "gridcolor": "white",
             "linecolor": "white",
             "minorgridcolor": "white",
             "startlinecolor": "#2a3f5f"
            },
            "baxis": {
             "endlinecolor": "#2a3f5f",
             "gridcolor": "white",
             "linecolor": "white",
             "minorgridcolor": "white",
             "startlinecolor": "#2a3f5f"
            },
            "type": "carpet"
           }
          ],
          "choropleth": [
           {
            "colorbar": {
             "outlinewidth": 0,
             "ticks": ""
            },
            "type": "choropleth"
           }
          ],
          "contour": [
           {
            "colorbar": {
             "outlinewidth": 0,
             "ticks": ""
            },
            "colorscale": [
             [
              0,
              "#0d0887"
             ],
             [
              0.1111111111111111,
              "#46039f"
             ],
             [
              0.2222222222222222,
              "#7201a8"
             ],
             [
              0.3333333333333333,
              "#9c179e"
             ],
             [
              0.4444444444444444,
              "#bd3786"
             ],
             [
              0.5555555555555556,
              "#d8576b"
             ],
             [
              0.6666666666666666,
              "#ed7953"
             ],
             [
              0.7777777777777778,
              "#fb9f3a"
             ],
             [
              0.8888888888888888,
              "#fdca26"
             ],
             [
              1,
              "#f0f921"
             ]
            ],
            "type": "contour"
           }
          ],
          "contourcarpet": [
           {
            "colorbar": {
             "outlinewidth": 0,
             "ticks": ""
            },
            "type": "contourcarpet"
           }
          ],
          "heatmap": [
           {
            "colorbar": {
             "outlinewidth": 0,
             "ticks": ""
            },
            "colorscale": [
             [
              0,
              "#0d0887"
             ],
             [
              0.1111111111111111,
              "#46039f"
             ],
             [
              0.2222222222222222,
              "#7201a8"
             ],
             [
              0.3333333333333333,
              "#9c179e"
             ],
             [
              0.4444444444444444,
              "#bd3786"
             ],
             [
              0.5555555555555556,
              "#d8576b"
             ],
             [
              0.6666666666666666,
              "#ed7953"
             ],
             [
              0.7777777777777778,
              "#fb9f3a"
             ],
             [
              0.8888888888888888,
              "#fdca26"
             ],
             [
              1,
              "#f0f921"
             ]
            ],
            "type": "heatmap"
           }
          ],
          "heatmapgl": [
           {
            "colorbar": {
             "outlinewidth": 0,
             "ticks": ""
            },
            "colorscale": [
             [
              0,
              "#0d0887"
             ],
             [
              0.1111111111111111,
              "#46039f"
             ],
             [
              0.2222222222222222,
              "#7201a8"
             ],
             [
              0.3333333333333333,
              "#9c179e"
             ],
             [
              0.4444444444444444,
              "#bd3786"
             ],
             [
              0.5555555555555556,
              "#d8576b"
             ],
             [
              0.6666666666666666,
              "#ed7953"
             ],
             [
              0.7777777777777778,
              "#fb9f3a"
             ],
             [
              0.8888888888888888,
              "#fdca26"
             ],
             [
              1,
              "#f0f921"
             ]
            ],
            "type": "heatmapgl"
           }
          ],
          "histogram": [
           {
            "marker": {
             "pattern": {
              "fillmode": "overlay",
              "size": 10,
              "solidity": 0.2
             }
            },
            "type": "histogram"
           }
          ],
          "histogram2d": [
           {
            "colorbar": {
             "outlinewidth": 0,
             "ticks": ""
            },
            "colorscale": [
             [
              0,
              "#0d0887"
             ],
             [
              0.1111111111111111,
              "#46039f"
             ],
             [
              0.2222222222222222,
              "#7201a8"
             ],
             [
              0.3333333333333333,
              "#9c179e"
             ],
             [
              0.4444444444444444,
              "#bd3786"
             ],
             [
              0.5555555555555556,
              "#d8576b"
             ],
             [
              0.6666666666666666,
              "#ed7953"
             ],
             [
              0.7777777777777778,
              "#fb9f3a"
             ],
             [
              0.8888888888888888,
              "#fdca26"
             ],
             [
              1,
              "#f0f921"
             ]
            ],
            "type": "histogram2d"
           }
          ],
          "histogram2dcontour": [
           {
            "colorbar": {
             "outlinewidth": 0,
             "ticks": ""
            },
            "colorscale": [
             [
              0,
              "#0d0887"
             ],
             [
              0.1111111111111111,
              "#46039f"
             ],
             [
              0.2222222222222222,
              "#7201a8"
             ],
             [
              0.3333333333333333,
              "#9c179e"
             ],
             [
              0.4444444444444444,
              "#bd3786"
             ],
             [
              0.5555555555555556,
              "#d8576b"
             ],
             [
              0.6666666666666666,
              "#ed7953"
             ],
             [
              0.7777777777777778,
              "#fb9f3a"
             ],
             [
              0.8888888888888888,
              "#fdca26"
             ],
             [
              1,
              "#f0f921"
             ]
            ],
            "type": "histogram2dcontour"
           }
          ],
          "mesh3d": [
           {
            "colorbar": {
             "outlinewidth": 0,
             "ticks": ""
            },
            "type": "mesh3d"
           }
          ],
          "parcoords": [
           {
            "line": {
             "colorbar": {
              "outlinewidth": 0,
              "ticks": ""
             }
            },
            "type": "parcoords"
           }
          ],
          "pie": [
           {
            "automargin": true,
            "type": "pie"
           }
          ],
          "scatter": [
           {
            "fillpattern": {
             "fillmode": "overlay",
             "size": 10,
             "solidity": 0.2
            },
            "type": "scatter"
           }
          ],
          "scatter3d": [
           {
            "line": {
             "colorbar": {
              "outlinewidth": 0,
              "ticks": ""
             }
            },
            "marker": {
             "colorbar": {
              "outlinewidth": 0,
              "ticks": ""
             }
            },
            "type": "scatter3d"
           }
          ],
          "scattercarpet": [
           {
            "marker": {
             "colorbar": {
              "outlinewidth": 0,
              "ticks": ""
             }
            },
            "type": "scattercarpet"
           }
          ],
          "scattergeo": [
           {
            "marker": {
             "colorbar": {
              "outlinewidth": 0,
              "ticks": ""
             }
            },
            "type": "scattergeo"
           }
          ],
          "scattergl": [
           {
            "marker": {
             "colorbar": {
              "outlinewidth": 0,
              "ticks": ""
             }
            },
            "type": "scattergl"
           }
          ],
          "scattermapbox": [
           {
            "marker": {
             "colorbar": {
              "outlinewidth": 0,
              "ticks": ""
             }
            },
            "type": "scattermapbox"
           }
          ],
          "scatterpolar": [
           {
            "marker": {
             "colorbar": {
              "outlinewidth": 0,
              "ticks": ""
             }
            },
            "type": "scatterpolar"
           }
          ],
          "scatterpolargl": [
           {
            "marker": {
             "colorbar": {
              "outlinewidth": 0,
              "ticks": ""
             }
            },
            "type": "scatterpolargl"
           }
          ],
          "scatterternary": [
           {
            "marker": {
             "colorbar": {
              "outlinewidth": 0,
              "ticks": ""
             }
            },
            "type": "scatterternary"
           }
          ],
          "surface": [
           {
            "colorbar": {
             "outlinewidth": 0,
             "ticks": ""
            },
            "colorscale": [
             [
              0,
              "#0d0887"
             ],
             [
              0.1111111111111111,
              "#46039f"
             ],
             [
              0.2222222222222222,
              "#7201a8"
             ],
             [
              0.3333333333333333,
              "#9c179e"
             ],
             [
              0.4444444444444444,
              "#bd3786"
             ],
             [
              0.5555555555555556,
              "#d8576b"
             ],
             [
              0.6666666666666666,
              "#ed7953"
             ],
             [
              0.7777777777777778,
              "#fb9f3a"
             ],
             [
              0.8888888888888888,
              "#fdca26"
             ],
             [
              1,
              "#f0f921"
             ]
            ],
            "type": "surface"
           }
          ],
          "table": [
           {
            "cells": {
             "fill": {
              "color": "#EBF0F8"
             },
             "line": {
              "color": "white"
             }
            },
            "header": {
             "fill": {
              "color": "#C8D4E3"
             },
             "line": {
              "color": "white"
             }
            },
            "type": "table"
           }
          ]
         },
         "layout": {
          "annotationdefaults": {
           "arrowcolor": "#2a3f5f",
           "arrowhead": 0,
           "arrowwidth": 1
          },
          "autotypenumbers": "strict",
          "coloraxis": {
           "colorbar": {
            "outlinewidth": 0,
            "ticks": ""
           }
          },
          "colorscale": {
           "diverging": [
            [
             0,
             "#8e0152"
            ],
            [
             0.1,
             "#c51b7d"
            ],
            [
             0.2,
             "#de77ae"
            ],
            [
             0.3,
             "#f1b6da"
            ],
            [
             0.4,
             "#fde0ef"
            ],
            [
             0.5,
             "#f7f7f7"
            ],
            [
             0.6,
             "#e6f5d0"
            ],
            [
             0.7,
             "#b8e186"
            ],
            [
             0.8,
             "#7fbc41"
            ],
            [
             0.9,
             "#4d9221"
            ],
            [
             1,
             "#276419"
            ]
           ],
           "sequential": [
            [
             0,
             "#0d0887"
            ],
            [
             0.1111111111111111,
             "#46039f"
            ],
            [
             0.2222222222222222,
             "#7201a8"
            ],
            [
             0.3333333333333333,
             "#9c179e"
            ],
            [
             0.4444444444444444,
             "#bd3786"
            ],
            [
             0.5555555555555556,
             "#d8576b"
            ],
            [
             0.6666666666666666,
             "#ed7953"
            ],
            [
             0.7777777777777778,
             "#fb9f3a"
            ],
            [
             0.8888888888888888,
             "#fdca26"
            ],
            [
             1,
             "#f0f921"
            ]
           ],
           "sequentialminus": [
            [
             0,
             "#0d0887"
            ],
            [
             0.1111111111111111,
             "#46039f"
            ],
            [
             0.2222222222222222,
             "#7201a8"
            ],
            [
             0.3333333333333333,
             "#9c179e"
            ],
            [
             0.4444444444444444,
             "#bd3786"
            ],
            [
             0.5555555555555556,
             "#d8576b"
            ],
            [
             0.6666666666666666,
             "#ed7953"
            ],
            [
             0.7777777777777778,
             "#fb9f3a"
            ],
            [
             0.8888888888888888,
             "#fdca26"
            ],
            [
             1,
             "#f0f921"
            ]
           ]
          },
          "colorway": [
           "#636efa",
           "#EF553B",
           "#00cc96",
           "#ab63fa",
           "#FFA15A",
           "#19d3f3",
           "#FF6692",
           "#B6E880",
           "#FF97FF",
           "#FECB52"
          ],
          "font": {
           "color": "#2a3f5f"
          },
          "geo": {
           "bgcolor": "white",
           "lakecolor": "white",
           "landcolor": "#E5ECF6",
           "showlakes": true,
           "showland": true,
           "subunitcolor": "white"
          },
          "hoverlabel": {
           "align": "left"
          },
          "hovermode": "closest",
          "mapbox": {
           "style": "light"
          },
          "paper_bgcolor": "white",
          "plot_bgcolor": "#E5ECF6",
          "polar": {
           "angularaxis": {
            "gridcolor": "white",
            "linecolor": "white",
            "ticks": ""
           },
           "bgcolor": "#E5ECF6",
           "radialaxis": {
            "gridcolor": "white",
            "linecolor": "white",
            "ticks": ""
           }
          },
          "scene": {
           "xaxis": {
            "backgroundcolor": "#E5ECF6",
            "gridcolor": "white",
            "gridwidth": 2,
            "linecolor": "white",
            "showbackground": true,
            "ticks": "",
            "zerolinecolor": "white"
           },
           "yaxis": {
            "backgroundcolor": "#E5ECF6",
            "gridcolor": "white",
            "gridwidth": 2,
            "linecolor": "white",
            "showbackground": true,
            "ticks": "",
            "zerolinecolor": "white"
           },
           "zaxis": {
            "backgroundcolor": "#E5ECF6",
            "gridcolor": "white",
            "gridwidth": 2,
            "linecolor": "white",
            "showbackground": true,
            "ticks": "",
            "zerolinecolor": "white"
           }
          },
          "shapedefaults": {
           "line": {
            "color": "#2a3f5f"
           }
          },
          "ternary": {
           "aaxis": {
            "gridcolor": "white",
            "linecolor": "white",
            "ticks": ""
           },
           "baxis": {
            "gridcolor": "white",
            "linecolor": "white",
            "ticks": ""
           },
           "bgcolor": "#E5ECF6",
           "caxis": {
            "gridcolor": "white",
            "linecolor": "white",
            "ticks": ""
           }
          },
          "title": {
           "x": 0.05
          },
          "xaxis": {
           "automargin": true,
           "gridcolor": "white",
           "linecolor": "white",
           "ticks": "",
           "title": {
            "standoff": 15
           },
           "zerolinecolor": "white",
           "zerolinewidth": 2
          },
          "yaxis": {
           "automargin": true,
           "gridcolor": "white",
           "linecolor": "white",
           "ticks": "",
           "title": {
            "standoff": 15
           },
           "zerolinecolor": "white",
           "zerolinewidth": 2
          }
         }
        },
        "xaxis": {
         "anchor": "y",
         "domain": [
          0,
          1
         ],
         "title": {
          "text": "label"
         }
        },
        "yaxis": {
         "anchor": "x",
         "domain": [
          0,
          1
         ],
         "title": {
          "text": "flow_asymmetry"
         }
        }
       }
      }
     },
     "metadata": {},
     "output_type": "display_data"
    }
   ],
   "source": [
    "px.box(instance_features, x=\"label\", y=\"flow_asymmetry\")"
   ]
  },
  {
   "cell_type": "code",
   "execution_count": 9,
   "metadata": {},
   "outputs": [],
   "source": [
    "from sklearn.model_selection import train_test_split\n",
    "from sklearn.linear_model import LogisticRegression\n",
    "\n",
    "train, test = train_test_split(instance_features, test_size=0.4)\n",
    "x_train, y_train = train.loc[:,train.columns != 'label'], train['label']\n",
    "x_test, y_test = test.loc[:,test.columns != 'label'], test['label']\n",
    "\n",
    "weights = {'0': 1, '1': 10}\n",
    "logistic_model = LogisticRegression(class_weight=weights).fit(x_train,y_train)\n",
    "\n",
    "y_pred = logistic_model.predict(x_test)"
   ]
  },
  {
   "cell_type": "code",
   "execution_count": 10,
   "metadata": {},
   "outputs": [
    {
     "name": "stdout",
     "output_type": "stream",
     "text": [
      "number of false negatives predicted: 0 out of 52 predictions\n",
      "number of false positives predicted: 7 out of 52 predictions\n",
      "average prediction accuracy of 0.8653846153846154\n"
     ]
    }
   ],
   "source": [
    "n_false_negatives = sum(y_pred[y_test.values == '1'] == '0')\n",
    "n_false_positives = sum(y_pred[y_test.values == '0'] == '1')\n",
    "\n",
    "print(f\"number of false negatives predicted: {n_false_negatives} out of {len(y_pred)} predictions\")\n",
    "print(f\"number of false positives predicted: {n_false_positives} out of {len(y_pred)} predictions\")\n",
    "print(f\"average prediction accuracy of {np.mean(y_test.values == y_pred)}\")"
   ]
  },
  {
   "cell_type": "markdown",
   "metadata": {},
   "source": [
    "## What makes an instance hard for each algo?"
   ]
  },
  {
   "cell_type": "code",
   "execution_count": null,
   "metadata": {},
   "outputs": [],
   "source": []
  },
  {
   "cell_type": "markdown",
   "metadata": {},
   "source": [
    "## What is the best algorithm for a particular instance?"
   ]
  }
 ],
 "metadata": {
  "kernelspec": {
   "display_name": "BERI",
   "language": "python",
   "name": "python3"
  },
  "language_info": {
   "codemirror_mode": {
    "name": "ipython",
    "version": 3
   },
   "file_extension": ".py",
   "mimetype": "text/x-python",
   "name": "python",
   "nbconvert_exporter": "python",
   "pygments_lexer": "ipython3",
   "version": "3.11.2"
  },
  "orig_nbformat": 4
 },
 "nbformat": 4,
 "nbformat_minor": 2
}
