{
 "cells": [
  {
   "cell_type": "code",
   "execution_count": null,
   "metadata": {},
   "outputs": [],
   "source": [
    "import numpy as np\n",
    "\n",
    "from global_calculations import read_instance_data\n",
    "\n",
    "from local_search_heuristics.local_search import (\n",
    "    local_search,\n",
    ")"
   ]
  },
  {
   "cell_type": "code",
   "execution_count": null,
   "metadata": {},
   "outputs": [],
   "source": [
    "instance_filepath = f\"data/qapdata/tai256c.dat\"\n",
    "flow, distance = read_instance_data(instance_filepath)\n",
    "initial_encodings = [np.random.permutation(256) for _ in range(5)]\n",
    "\n",
    "intermediary_solutions_total = list()\n",
    "intermediary_solutions_adjacent = list()\n",
    "for initial in initial_encodings:\n",
    "    intermediary_solutions_total.append(local_search(initial, flow, distance, \"total_swap\", \"best_improvement\", logging=True))\n",
    "    intermediary_solutions_adjacent.append(local_search(initial, flow, distance, \"total_swap\", \"best_improvement\", logging=True))"
   ]
  }
 ],
 "metadata": {
  "kernelspec": {
   "display_name": ".venv",
   "language": "python",
   "name": "python3"
  },
  "language_info": {
   "name": "python",
   "version": "3.11.1"
  }
 },
 "nbformat": 4,
 "nbformat_minor": 2
}
